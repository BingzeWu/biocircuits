{
 "cells": [
  {
   "cell_type": "markdown",
   "metadata": {},
   "source": [
    "# Problem 1.1: Strategies for controlling protein expression\n",
    "\n",
    "<hr>"
   ]
  },
  {
   "cell_type": "markdown",
   "metadata": {},
   "source": [
    "*This problem is still a draft. This problem will be fleshed out to guide exploration of these various regulation strategies.*\n",
    "\n",
    "We said that the cell could control protein expression level in at least four different ways. It could modulate (1) transcription, (2) translation, (3) mRNA degradation, or (4) protein degradation rates, or combinations thereof. Are there tradeoffs between these different options? Are they all used indiscriminately or is one favored in natural contexts?"
   ]
  },
  {
   "cell_type": "markdown",
   "metadata": {},
   "source": [
    "<br />"
   ]
  },
  {
   "cell_type": "markdown",
   "metadata": {},
   "source": [
    "Good questions！ In my opinion, transcription and mRNA degradation are the two most important factors for prokaryotes due to their simple gene expression platform. ribosome is everywhere, once mRNAs are present, they are easily translated into protein. Another opinion is that mRNA is much more unstable than proteins so mRNA is the limited factor for protein expression level."
   ]
  }
 ],
 "metadata": {
  "anaconda-cloud": {},
  "kernelspec": {
   "display_name": "Python 3.10.4 ('bio-circuits-design')",
   "language": "python",
   "name": "python3"
  },
  "language_info": {
   "codemirror_mode": {
    "name": "ipython",
    "version": 3
   },
   "file_extension": ".py",
   "mimetype": "text/x-python",
   "name": "python",
   "nbconvert_exporter": "python",
   "pygments_lexer": "ipython3",
   "version": "3.10.4"
  },
  "vscode": {
   "interpreter": {
    "hash": "0029fb2582d7c3953b36468ab6f05afaa1460ff8247bf830968a00df4de71fc4"
   }
  }
 },
 "nbformat": 4,
 "nbformat_minor": 4
}
