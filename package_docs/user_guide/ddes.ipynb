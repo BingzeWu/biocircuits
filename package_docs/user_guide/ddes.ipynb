{
 "cells": [
  {
   "cell_type": "markdown",
   "metadata": {},
   "source": [
    "# Solving delay differential equations\n",
    "\n",
    "<hr>"
   ]
  },
  {
   "cell_type": "code",
   "execution_count": 1,
   "metadata": {},
   "outputs": [
    {
     "data": {
      "text/html": [
       "\n",
       "    <div class=\"bk-root\">\n",
       "        <a href=\"https://bokeh.org\" target=\"_blank\" class=\"bk-logo bk-logo-small bk-logo-notebook\"></a>\n",
       "        <span id=\"1002\">Loading BokehJS ...</span>\n",
       "    </div>"
      ]
     },
     "metadata": {},
     "output_type": "display_data"
    },
    {
     "data": {
      "application/javascript": [
       "\n",
       "(function(root) {\n",
       "  function now() {\n",
       "    return new Date();\n",
       "  }\n",
       "\n",
       "  var force = true;\n",
       "\n",
       "  if (typeof root._bokeh_onload_callbacks === \"undefined\" || force === true) {\n",
       "    root._bokeh_onload_callbacks = [];\n",
       "    root._bokeh_is_loading = undefined;\n",
       "  }\n",
       "\n",
       "  var JS_MIME_TYPE = 'application/javascript';\n",
       "  var HTML_MIME_TYPE = 'text/html';\n",
       "  var EXEC_MIME_TYPE = 'application/vnd.bokehjs_exec.v0+json';\n",
       "  var CLASS_NAME = 'output_bokeh rendered_html';\n",
       "\n",
       "  /**\n",
       "   * Render data to the DOM node\n",
       "   */\n",
       "  function render(props, node) {\n",
       "    var script = document.createElement(\"script\");\n",
       "    node.appendChild(script);\n",
       "  }\n",
       "\n",
       "  /**\n",
       "   * Handle when an output is cleared or removed\n",
       "   */\n",
       "  function handleClearOutput(event, handle) {\n",
       "    var cell = handle.cell;\n",
       "\n",
       "    var id = cell.output_area._bokeh_element_id;\n",
       "    var server_id = cell.output_area._bokeh_server_id;\n",
       "    // Clean up Bokeh references\n",
       "    if (id != null && id in Bokeh.index) {\n",
       "      Bokeh.index[id].model.document.clear();\n",
       "      delete Bokeh.index[id];\n",
       "    }\n",
       "\n",
       "    if (server_id !== undefined) {\n",
       "      // Clean up Bokeh references\n",
       "      var cmd = \"from bokeh.io.state import curstate; print(curstate().uuid_to_server['\" + server_id + \"'].get_sessions()[0].document.roots[0]._id)\";\n",
       "      cell.notebook.kernel.execute(cmd, {\n",
       "        iopub: {\n",
       "          output: function(msg) {\n",
       "            var id = msg.content.text.trim();\n",
       "            if (id in Bokeh.index) {\n",
       "              Bokeh.index[id].model.document.clear();\n",
       "              delete Bokeh.index[id];\n",
       "            }\n",
       "          }\n",
       "        }\n",
       "      });\n",
       "      // Destroy server and session\n",
       "      var cmd = \"import bokeh.io.notebook as ion; ion.destroy_server('\" + server_id + \"')\";\n",
       "      cell.notebook.kernel.execute(cmd);\n",
       "    }\n",
       "  }\n",
       "\n",
       "  /**\n",
       "   * Handle when a new output is added\n",
       "   */\n",
       "  function handleAddOutput(event, handle) {\n",
       "    var output_area = handle.output_area;\n",
       "    var output = handle.output;\n",
       "\n",
       "    // limit handleAddOutput to display_data with EXEC_MIME_TYPE content only\n",
       "    if ((output.output_type != \"display_data\") || (!Object.prototype.hasOwnProperty.call(output.data, EXEC_MIME_TYPE))) {\n",
       "      return\n",
       "    }\n",
       "\n",
       "    var toinsert = output_area.element.find(\".\" + CLASS_NAME.split(' ')[0]);\n",
       "\n",
       "    if (output.metadata[EXEC_MIME_TYPE][\"id\"] !== undefined) {\n",
       "      toinsert[toinsert.length - 1].firstChild.textContent = output.data[JS_MIME_TYPE];\n",
       "      // store reference to embed id on output_area\n",
       "      output_area._bokeh_element_id = output.metadata[EXEC_MIME_TYPE][\"id\"];\n",
       "    }\n",
       "    if (output.metadata[EXEC_MIME_TYPE][\"server_id\"] !== undefined) {\n",
       "      var bk_div = document.createElement(\"div\");\n",
       "      bk_div.innerHTML = output.data[HTML_MIME_TYPE];\n",
       "      var script_attrs = bk_div.children[0].attributes;\n",
       "      for (var i = 0; i < script_attrs.length; i++) {\n",
       "        toinsert[toinsert.length - 1].firstChild.setAttribute(script_attrs[i].name, script_attrs[i].value);\n",
       "        toinsert[toinsert.length - 1].firstChild.textContent = bk_div.children[0].textContent\n",
       "      }\n",
       "      // store reference to server id on output_area\n",
       "      output_area._bokeh_server_id = output.metadata[EXEC_MIME_TYPE][\"server_id\"];\n",
       "    }\n",
       "  }\n",
       "\n",
       "  function register_renderer(events, OutputArea) {\n",
       "\n",
       "    function append_mime(data, metadata, element) {\n",
       "      // create a DOM node to render to\n",
       "      var toinsert = this.create_output_subarea(\n",
       "        metadata,\n",
       "        CLASS_NAME,\n",
       "        EXEC_MIME_TYPE\n",
       "      );\n",
       "      this.keyboard_manager.register_events(toinsert);\n",
       "      // Render to node\n",
       "      var props = {data: data, metadata: metadata[EXEC_MIME_TYPE]};\n",
       "      render(props, toinsert[toinsert.length - 1]);\n",
       "      element.append(toinsert);\n",
       "      return toinsert\n",
       "    }\n",
       "\n",
       "    /* Handle when an output is cleared or removed */\n",
       "    events.on('clear_output.CodeCell', handleClearOutput);\n",
       "    events.on('delete.Cell', handleClearOutput);\n",
       "\n",
       "    /* Handle when a new output is added */\n",
       "    events.on('output_added.OutputArea', handleAddOutput);\n",
       "\n",
       "    /**\n",
       "     * Register the mime type and append_mime function with output_area\n",
       "     */\n",
       "    OutputArea.prototype.register_mime_type(EXEC_MIME_TYPE, append_mime, {\n",
       "      /* Is output safe? */\n",
       "      safe: true,\n",
       "      /* Index of renderer in `output_area.display_order` */\n",
       "      index: 0\n",
       "    });\n",
       "  }\n",
       "\n",
       "  // register the mime type if in Jupyter Notebook environment and previously unregistered\n",
       "  if (root.Jupyter !== undefined) {\n",
       "    var events = require('base/js/events');\n",
       "    var OutputArea = require('notebook/js/outputarea').OutputArea;\n",
       "\n",
       "    if (OutputArea.prototype.mime_types().indexOf(EXEC_MIME_TYPE) == -1) {\n",
       "      register_renderer(events, OutputArea);\n",
       "    }\n",
       "  }\n",
       "\n",
       "  \n",
       "  if (typeof (root._bokeh_timeout) === \"undefined\" || force === true) {\n",
       "    root._bokeh_timeout = Date.now() + 5000;\n",
       "    root._bokeh_failed_load = false;\n",
       "  }\n",
       "\n",
       "  var NB_LOAD_WARNING = {'data': {'text/html':\n",
       "     \"<div style='background-color: #fdd'>\\n\"+\n",
       "     \"<p>\\n\"+\n",
       "     \"BokehJS does not appear to have successfully loaded. If loading BokehJS from CDN, this \\n\"+\n",
       "     \"may be due to a slow or bad network connection. Possible fixes:\\n\"+\n",
       "     \"</p>\\n\"+\n",
       "     \"<ul>\\n\"+\n",
       "     \"<li>re-rerun `output_notebook()` to attempt to load from CDN again, or</li>\\n\"+\n",
       "     \"<li>use INLINE resources instead, as so:</li>\\n\"+\n",
       "     \"</ul>\\n\"+\n",
       "     \"<code>\\n\"+\n",
       "     \"from bokeh.resources import INLINE\\n\"+\n",
       "     \"output_notebook(resources=INLINE)\\n\"+\n",
       "     \"</code>\\n\"+\n",
       "     \"</div>\"}};\n",
       "\n",
       "  function display_loaded() {\n",
       "    var el = document.getElementById(\"1002\");\n",
       "    if (el != null) {\n",
       "      el.textContent = \"BokehJS is loading...\";\n",
       "    }\n",
       "    if (root.Bokeh !== undefined) {\n",
       "      if (el != null) {\n",
       "        el.textContent = \"BokehJS \" + root.Bokeh.version + \" successfully loaded.\";\n",
       "      }\n",
       "    } else if (Date.now() < root._bokeh_timeout) {\n",
       "      setTimeout(display_loaded, 100)\n",
       "    }\n",
       "  }\n",
       "\n",
       "\n",
       "  function run_callbacks() {\n",
       "    try {\n",
       "      root._bokeh_onload_callbacks.forEach(function(callback) {\n",
       "        if (callback != null)\n",
       "          callback();\n",
       "      });\n",
       "    } finally {\n",
       "      delete root._bokeh_onload_callbacks\n",
       "    }\n",
       "    console.debug(\"Bokeh: all callbacks have finished\");\n",
       "  }\n",
       "\n",
       "  function load_libs(css_urls, js_urls, callback) {\n",
       "    if (css_urls == null) css_urls = [];\n",
       "    if (js_urls == null) js_urls = [];\n",
       "\n",
       "    root._bokeh_onload_callbacks.push(callback);\n",
       "    if (root._bokeh_is_loading > 0) {\n",
       "      console.debug(\"Bokeh: BokehJS is being loaded, scheduling callback at\", now());\n",
       "      return null;\n",
       "    }\n",
       "    if (js_urls == null || js_urls.length === 0) {\n",
       "      run_callbacks();\n",
       "      return null;\n",
       "    }\n",
       "    console.debug(\"Bokeh: BokehJS not loaded, scheduling load and callback at\", now());\n",
       "    root._bokeh_is_loading = css_urls.length + js_urls.length;\n",
       "\n",
       "    function on_load() {\n",
       "      root._bokeh_is_loading--;\n",
       "      if (root._bokeh_is_loading === 0) {\n",
       "        console.debug(\"Bokeh: all BokehJS libraries/stylesheets loaded\");\n",
       "        run_callbacks()\n",
       "      }\n",
       "    }\n",
       "\n",
       "    function on_error(url) {\n",
       "      console.error(\"failed to load \" + url);\n",
       "    }\n",
       "\n",
       "    for (let i = 0; i < css_urls.length; i++) {\n",
       "      const url = css_urls[i];\n",
       "      const element = document.createElement(\"link\");\n",
       "      element.onload = on_load;\n",
       "      element.onerror = on_error.bind(null, url);\n",
       "      element.rel = \"stylesheet\";\n",
       "      element.type = \"text/css\";\n",
       "      element.href = url;\n",
       "      console.debug(\"Bokeh: injecting link tag for BokehJS stylesheet: \", url);\n",
       "      document.body.appendChild(element);\n",
       "    }\n",
       "\n",
       "    const hashes = {\"https://cdn.bokeh.org/bokeh/release/bokeh-2.3.0.min.js\": \"HjagQp6T0/7bxYTAXbLotF1MLAGWmhkY5siA1Gc/pcEgvgRPtMsRn0gQtMwGKiw1\", \"https://cdn.bokeh.org/bokeh/release/bokeh-widgets-2.3.0.min.js\": \"ZEPPTjL+mdyqgIq+/pl9KTwzji8Kow2NnI3zWY8+sFinWP/SYJ80BnfeJsa45iYj\", \"https://cdn.bokeh.org/bokeh/release/bokeh-tables-2.3.0.min.js\": \"exLqv2ACDRIaV7ZK1iL8aGzGYQvKVuT3U2CT7FsQREBxRah6JrkVCoFy0koY1YqV\"};\n",
       "\n",
       "    for (let i = 0; i < js_urls.length; i++) {\n",
       "      const url = js_urls[i];\n",
       "      const element = document.createElement('script');\n",
       "      element.onload = on_load;\n",
       "      element.onerror = on_error.bind(null, url);\n",
       "      element.async = false;\n",
       "      element.src = url;\n",
       "      if (url in hashes) {\n",
       "        element.crossOrigin = \"anonymous\";\n",
       "        element.integrity = \"sha384-\" + hashes[url];\n",
       "      }\n",
       "      console.debug(\"Bokeh: injecting script tag for BokehJS library: \", url);\n",
       "      document.head.appendChild(element);\n",
       "    }\n",
       "  };\n",
       "\n",
       "  function inject_raw_css(css) {\n",
       "    const element = document.createElement(\"style\");\n",
       "    element.appendChild(document.createTextNode(css));\n",
       "    document.body.appendChild(element);\n",
       "  }\n",
       "\n",
       "  \n",
       "  var js_urls = [\"https://cdn.bokeh.org/bokeh/release/bokeh-2.3.0.min.js\", \"https://cdn.bokeh.org/bokeh/release/bokeh-widgets-2.3.0.min.js\", \"https://cdn.bokeh.org/bokeh/release/bokeh-tables-2.3.0.min.js\"];\n",
       "  var css_urls = [];\n",
       "  \n",
       "\n",
       "  var inline_js = [\n",
       "    function(Bokeh) {\n",
       "      Bokeh.set_log_level(\"info\");\n",
       "    },\n",
       "    function(Bokeh) {\n",
       "    \n",
       "    \n",
       "    }\n",
       "  ];\n",
       "\n",
       "  function run_inline_js() {\n",
       "    \n",
       "    if (root.Bokeh !== undefined || force === true) {\n",
       "      \n",
       "    for (var i = 0; i < inline_js.length; i++) {\n",
       "      inline_js[i].call(root, root.Bokeh);\n",
       "    }\n",
       "    if (force === true) {\n",
       "        display_loaded();\n",
       "      }} else if (Date.now() < root._bokeh_timeout) {\n",
       "      setTimeout(run_inline_js, 100);\n",
       "    } else if (!root._bokeh_failed_load) {\n",
       "      console.log(\"Bokeh: BokehJS failed to load within specified timeout.\");\n",
       "      root._bokeh_failed_load = true;\n",
       "    } else if (force !== true) {\n",
       "      var cell = $(document.getElementById(\"1002\")).parents('.cell').data().cell;\n",
       "      cell.output_area.append_execute_result(NB_LOAD_WARNING)\n",
       "    }\n",
       "\n",
       "  }\n",
       "\n",
       "  if (root._bokeh_is_loading === 0) {\n",
       "    console.debug(\"Bokeh: BokehJS loaded, going straight to plotting\");\n",
       "    run_inline_js();\n",
       "  } else {\n",
       "    load_libs(css_urls, js_urls, function() {\n",
       "      console.debug(\"Bokeh: BokehJS plotting callback run at\", now());\n",
       "      run_inline_js();\n",
       "    });\n",
       "  }\n",
       "}(window));"
      ],
      "application/vnd.bokehjs_load.v0+json": "\n(function(root) {\n  function now() {\n    return new Date();\n  }\n\n  var force = true;\n\n  if (typeof root._bokeh_onload_callbacks === \"undefined\" || force === true) {\n    root._bokeh_onload_callbacks = [];\n    root._bokeh_is_loading = undefined;\n  }\n\n  \n\n  \n  if (typeof (root._bokeh_timeout) === \"undefined\" || force === true) {\n    root._bokeh_timeout = Date.now() + 5000;\n    root._bokeh_failed_load = false;\n  }\n\n  var NB_LOAD_WARNING = {'data': {'text/html':\n     \"<div style='background-color: #fdd'>\\n\"+\n     \"<p>\\n\"+\n     \"BokehJS does not appear to have successfully loaded. If loading BokehJS from CDN, this \\n\"+\n     \"may be due to a slow or bad network connection. Possible fixes:\\n\"+\n     \"</p>\\n\"+\n     \"<ul>\\n\"+\n     \"<li>re-rerun `output_notebook()` to attempt to load from CDN again, or</li>\\n\"+\n     \"<li>use INLINE resources instead, as so:</li>\\n\"+\n     \"</ul>\\n\"+\n     \"<code>\\n\"+\n     \"from bokeh.resources import INLINE\\n\"+\n     \"output_notebook(resources=INLINE)\\n\"+\n     \"</code>\\n\"+\n     \"</div>\"}};\n\n  function display_loaded() {\n    var el = document.getElementById(\"1002\");\n    if (el != null) {\n      el.textContent = \"BokehJS is loading...\";\n    }\n    if (root.Bokeh !== undefined) {\n      if (el != null) {\n        el.textContent = \"BokehJS \" + root.Bokeh.version + \" successfully loaded.\";\n      }\n    } else if (Date.now() < root._bokeh_timeout) {\n      setTimeout(display_loaded, 100)\n    }\n  }\n\n\n  function run_callbacks() {\n    try {\n      root._bokeh_onload_callbacks.forEach(function(callback) {\n        if (callback != null)\n          callback();\n      });\n    } finally {\n      delete root._bokeh_onload_callbacks\n    }\n    console.debug(\"Bokeh: all callbacks have finished\");\n  }\n\n  function load_libs(css_urls, js_urls, callback) {\n    if (css_urls == null) css_urls = [];\n    if (js_urls == null) js_urls = [];\n\n    root._bokeh_onload_callbacks.push(callback);\n    if (root._bokeh_is_loading > 0) {\n      console.debug(\"Bokeh: BokehJS is being loaded, scheduling callback at\", now());\n      return null;\n    }\n    if (js_urls == null || js_urls.length === 0) {\n      run_callbacks();\n      return null;\n    }\n    console.debug(\"Bokeh: BokehJS not loaded, scheduling load and callback at\", now());\n    root._bokeh_is_loading = css_urls.length + js_urls.length;\n\n    function on_load() {\n      root._bokeh_is_loading--;\n      if (root._bokeh_is_loading === 0) {\n        console.debug(\"Bokeh: all BokehJS libraries/stylesheets loaded\");\n        run_callbacks()\n      }\n    }\n\n    function on_error(url) {\n      console.error(\"failed to load \" + url);\n    }\n\n    for (let i = 0; i < css_urls.length; i++) {\n      const url = css_urls[i];\n      const element = document.createElement(\"link\");\n      element.onload = on_load;\n      element.onerror = on_error.bind(null, url);\n      element.rel = \"stylesheet\";\n      element.type = \"text/css\";\n      element.href = url;\n      console.debug(\"Bokeh: injecting link tag for BokehJS stylesheet: \", url);\n      document.body.appendChild(element);\n    }\n\n    const hashes = {\"https://cdn.bokeh.org/bokeh/release/bokeh-2.3.0.min.js\": \"HjagQp6T0/7bxYTAXbLotF1MLAGWmhkY5siA1Gc/pcEgvgRPtMsRn0gQtMwGKiw1\", \"https://cdn.bokeh.org/bokeh/release/bokeh-widgets-2.3.0.min.js\": \"ZEPPTjL+mdyqgIq+/pl9KTwzji8Kow2NnI3zWY8+sFinWP/SYJ80BnfeJsa45iYj\", \"https://cdn.bokeh.org/bokeh/release/bokeh-tables-2.3.0.min.js\": \"exLqv2ACDRIaV7ZK1iL8aGzGYQvKVuT3U2CT7FsQREBxRah6JrkVCoFy0koY1YqV\"};\n\n    for (let i = 0; i < js_urls.length; i++) {\n      const url = js_urls[i];\n      const element = document.createElement('script');\n      element.onload = on_load;\n      element.onerror = on_error.bind(null, url);\n      element.async = false;\n      element.src = url;\n      if (url in hashes) {\n        element.crossOrigin = \"anonymous\";\n        element.integrity = \"sha384-\" + hashes[url];\n      }\n      console.debug(\"Bokeh: injecting script tag for BokehJS library: \", url);\n      document.head.appendChild(element);\n    }\n  };\n\n  function inject_raw_css(css) {\n    const element = document.createElement(\"style\");\n    element.appendChild(document.createTextNode(css));\n    document.body.appendChild(element);\n  }\n\n  \n  var js_urls = [\"https://cdn.bokeh.org/bokeh/release/bokeh-2.3.0.min.js\", \"https://cdn.bokeh.org/bokeh/release/bokeh-widgets-2.3.0.min.js\", \"https://cdn.bokeh.org/bokeh/release/bokeh-tables-2.3.0.min.js\"];\n  var css_urls = [];\n  \n\n  var inline_js = [\n    function(Bokeh) {\n      Bokeh.set_log_level(\"info\");\n    },\n    function(Bokeh) {\n    \n    \n    }\n  ];\n\n  function run_inline_js() {\n    \n    if (root.Bokeh !== undefined || force === true) {\n      \n    for (var i = 0; i < inline_js.length; i++) {\n      inline_js[i].call(root, root.Bokeh);\n    }\n    if (force === true) {\n        display_loaded();\n      }} else if (Date.now() < root._bokeh_timeout) {\n      setTimeout(run_inline_js, 100);\n    } else if (!root._bokeh_failed_load) {\n      console.log(\"Bokeh: BokehJS failed to load within specified timeout.\");\n      root._bokeh_failed_load = true;\n    } else if (force !== true) {\n      var cell = $(document.getElementById(\"1002\")).parents('.cell').data().cell;\n      cell.output_area.append_execute_result(NB_LOAD_WARNING)\n    }\n\n  }\n\n  if (root._bokeh_is_loading === 0) {\n    console.debug(\"Bokeh: BokehJS loaded, going straight to plotting\");\n    run_inline_js();\n  } else {\n    load_libs(css_urls, js_urls, function() {\n      console.debug(\"Bokeh: BokehJS plotting callback run at\", now());\n      run_inline_js();\n    });\n  }\n}(window));"
     },
     "metadata": {},
     "output_type": "display_data"
    }
   ],
   "source": [
    "%load_ext blackcellmagic\n",
    "%load_ext autoreload\n",
    "%autoreload 2\n",
    "\n",
    "# Colab setup ------------------\n",
    "import os, sys, subprocess\n",
    "if \"google.colab\" in sys.modules:\n",
    "    cmd = \"pip install --upgrade biocircuits watermark\"\n",
    "    process = subprocess.Popen(cmd.split(), stdout=subprocess.PIPE, stderr=subprocess.PIPE)\n",
    "    stdout, stderr = process.communicate()\n",
    "# ------------------------------\n",
    "\n",
    "import numpy as np\n",
    "\n",
    "import biocircuits\n",
    "\n",
    "import bokeh.io\n",
    "import bokeh.plotting\n",
    "\n",
    "bokeh.io.output_notebook()"
   ]
  },
  {
   "cell_type": "markdown",
   "metadata": {},
   "source": [
    "<hr>"
   ]
  },
  {
   "cell_type": "markdown",
   "metadata": {},
   "source": [
    "The `biocircuits.dde()` function solves delay differential equations. The development of this function is described in [the lesson on delay oscillators](../lessons/09_delay_oscillators.ipynb#Numerical-solution-of-DDEs).\n",
    "\n",
    "As an example "
   ]
  },
  {
   "cell_type": "code",
   "execution_count": 98,
   "metadata": {},
   "outputs": [
    {
     "name": "stdout",
     "output_type": "stream",
     "text": [
      "25.0\n"
     ]
    },
    {
     "data": {
      "text/html": [
       "\n",
       "\n",
       "\n",
       "\n",
       "\n",
       "\n",
       "  <div class=\"bk-root\" id=\"b4232084-e423-4660-b151-62b65c83ba9e\" data-root-id=\"62209\"></div>\n"
      ]
     },
     "metadata": {},
     "output_type": "display_data"
    },
    {
     "data": {
      "application/javascript": [
       "(function(root) {\n",
       "  function embed_document(root) {\n",
       "    \n",
       "  var docs_json = {\"68ba8499-2463-4f88-958b-63a61b8a3826\":{\"defs\":[{\"extends\":null,\"module\":null,\"name\":\"DataModel\",\"overrides\":[],\"properties\":[]}],\"roots\":{\"references\":[{\"attributes\":{\"below\":[{\"id\":\"62218\"}],\"center\":[{\"id\":\"62221\"},{\"id\":\"62225\"}],\"frame_height\":200,\"frame_width\":450,\"left\":[{\"id\":\"62222\"}],\"renderers\":[{\"id\":\"62243\"},{\"id\":\"62248\"}],\"title\":{\"id\":\"63402\"},\"toolbar\":{\"id\":\"62233\"},\"x_range\":{\"id\":\"62210\"},\"x_scale\":{\"id\":\"62214\"},\"y_range\":{\"id\":\"62212\"},\"y_scale\":{\"id\":\"62216\"}},\"id\":\"62209\",\"subtype\":\"Figure\",\"type\":\"Plot\"},{\"attributes\":{\"data\":{\"x\":{\"__ndarray__\":\"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\",\"dtype\":\"float64\",\"order\":\"little\",\"shape\":[400]},\"y\":{\"__ndarray__\":\"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\",\"dtype\":\"float64\",\"order\":\"little\",\"shape\":[400]}},\"selected\":{\"id\":\"63413\"},\"selection_policy\":{\"id\":\"63412\"}},\"id\":\"62245\",\"type\":\"ColumnDataSource\"},{\"attributes\":{\"line_color\":\"orange\",\"line_width\":2,\"x\":{\"field\":\"x\"},\"y\":{\"field\":\"y\"}},\"id\":\"62246\",\"type\":\"Line\"},{\"attributes\":{\"source\":{\"id\":\"62240\"}},\"id\":\"62244\",\"type\":\"CDSView\"},{\"attributes\":{\"line_alpha\":0.1,\"line_color\":\"#1f77b4\",\"line_width\":2,\"x\":{\"field\":\"x\"},\"y\":{\"field\":\"y\"}},\"id\":\"62242\",\"type\":\"Line\"},{\"attributes\":{},\"id\":\"63410\",\"type\":\"UnionRenderers\"},{\"attributes\":{\"source\":{\"id\":\"62245\"}},\"id\":\"62249\",\"type\":\"CDSView\"},{\"attributes\":{},\"id\":\"63411\",\"type\":\"Selection\"},{\"attributes\":{\"line_alpha\":0.1,\"line_color\":\"orange\",\"line_width\":2,\"x\":{\"field\":\"x\"},\"y\":{\"field\":\"y\"}},\"id\":\"62247\",\"type\":\"Line\"},{\"attributes\":{},\"id\":\"63406\",\"type\":\"BasicTickFormatter\"},{\"attributes\":{\"axis_label\":\"x\",\"formatter\":{\"id\":\"63406\"},\"major_label_policy\":{\"id\":\"63407\"},\"ticker\":{\"id\":\"62223\"}},\"id\":\"62222\",\"type\":\"LinearAxis\"},{\"attributes\":{},\"id\":\"63407\",\"type\":\"AllLabels\"},{\"attributes\":{\"bottom_units\":\"screen\",\"fill_alpha\":0.5,\"fill_color\":\"lightgrey\",\"left_units\":\"screen\",\"level\":\"overlay\",\"line_alpha\":1.0,\"line_color\":\"black\",\"line_dash\":[4,4],\"line_width\":2,\"right_units\":\"screen\",\"syncable\":false,\"top_units\":\"screen\"},\"id\":\"62232\",\"type\":\"BoxAnnotation\"},{\"attributes\":{},\"id\":\"62216\",\"type\":\"LinearScale\"},{\"attributes\":{\"line_color\":\"#1f77b4\",\"line_width\":2,\"x\":{\"field\":\"x\"},\"y\":{\"field\":\"y\"}},\"id\":\"62241\",\"type\":\"Line\"},{\"attributes\":{},\"id\":\"62227\",\"type\":\"WheelZoomTool\"},{\"attributes\":{},\"id\":\"63412\",\"type\":\"UnionRenderers\"},{\"attributes\":{\"data\":{\"x\":{\"__ndarray__\":\"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\",\"dtype\":\"float64\",\"order\":\"little\",\"shape\":[400]},\"y\":{\"__ndarray__\":\"n9OM16XIWzwG0dH/Czv5PyXa9xLgQQRAtYMsB/riCEDau3504LALQJPbQITCYw1AvLs7DjNrDkAF9luUyAoPQD7/3nZ0aw9At/udBASmD0BgUsV3fckPQLMubr/63g9AV/idQ//rD0DfxU0B4vMPQCpIW+eo+A9ASxT1so37D0CzMWBzTv0PQL6XlUpe/g9AlnQ09wL/D0C3BQq3Zv8PQLxK6ySj/w9AIoERwMf/D0CWgbvs3f8PQN4j7Fvr/w9A8kYif/P/D0CN+hRt+P8PQPnsX2n7/w9AVpQoOf3/D0CgEj5R/v8PQJPo2fr+/w9AhZSWYf//D0B9vJuf//8PQNikc8X//w9AoNA43f//D0BpQv3q//8PQNwvjPP//w9A/wVv+P//D0AAI0b7//8PQCW4C/3//w9AznMs/v//D0Ag4+D+//8PQNOlT////w9ASpGV////D0BQB+P///8PQDhhDgAAABBAnNIgAAAAEEBDKycAAAAQQDqMv/3//w9ASLm3Ff7/D0AwTN4VkP4PQKjXYtdhew5Apy/u1TIFA0DUvlFIr4b4P007CBBjV/A/+0BazjzE5j+b/ZIvd8LgP8gaUQTbPdo/G1dVGELV1T+F8eIolinTPxGL7CRwi9E/0Nb/H4+Q0D9IcKDfKvHPPxs+wf4KOc8/uwnMcIHJzj9I8lSF8IXOP5vNAIwCXc4/ILQVSjdEzj+ED9JMMjXOP8cT2B4ZLM4/LnqhK5Ymzj/F/5x1PyPOP9ZYaLM5Ic4/pkZGDgAgzj+jXe8QQh/OP/F6W/nOHs4/XtiYQIkezj+9I8YEXx7OP+fyh25FHs4/KMQT7zUezj8ffqKLLB7OP+riU9wmHs4/Mu2iaSMezj8yjNtTIR7OP33SvBEgHs4/TMFjTh8ezj/1Z6bYHh7OP0Yvu5EeHs4/Y6vLZR4ezj+bwpNLHh7OPzsmCzweHs4/Id9nMx4ezj9SQNQuHh7OP9UcbSweHs4/HyRPKx4ezj8q2AYrHh7OPwE4TyseHs4/cAXsKx4ezj9VGBAmHh7OPwsvFfIaHs4/q6LbsRUdzj/7I8ExKuzkP+Byx3ziPv4/BVsSYlEdBUA3bnqZfb4IQOL8CVBb8QpAMuY3I1NGDECSpcyX3xQNQD2eaKD+kQ1A9NnRGsrdDUB+ZKEstAsOQKb11nSEJw5AaKWnt104DkBOljuRkkIOQPTIH1vBSA5AAH4QKoBMDkBDHRX6xE4OQPq9itEkUA5AESxv9PlQDkCYZyoRe1EOQPeWmkfJUQ5AayOGqPhRDkAU8OdbFVIOQMVItb4mUg5AHoPBRjFSDkCfFvinN1IOQDOgOYU7Ug5A9h1o3D1SDkBm9UhHP1IOQIw+CCNAUg5AhzwJqEBSDkBebYD4QFIOQMn9IilBUg5Al/t+RkFSDkDbVSZYQVIOQGgWr2JBUg5A54nuaEFSDkDPj5ZsQVIOQPposW5BUg5AeP/Lb0FSDkAfYFBwQVIOQD4EcnBBUg5AKCpbcEFSDkDVdCJwQVIOQK5Y029BUg5AX9F0b0FSDkC3aQtvQVIOQILBpW5BUg5A2FQLd0FSDkBeDdwdSFIOQGroX1lFVw5ATucwqGZnCUAyz/KVzkEAQE/FleKxVvU/Pe7MCQQj7T9Q9DN0L+/kPxWgrm5W7t8/ysuLZTzp2T+10lFarkPWP6DjJRgpDtQ/rLk1pZW30j+ZgJbaD+jRP+dxRslZatE/aJsG0jIe0T+A3sVVEfDQPz04i30f1NA/u2cR5jHD0D8MaSu88LjQPyoUYHy6stA/x8zHKPeu0D8iCwSbr6zQPyFbMRtOq9A/sKvB93eq0D9+C/8/9qnQP/fo76unqdA/gM9yEnip0D8LRhQ9W6nQP/vZ6MVJqdA/FW6vMT+p0D+VgG3JOKnQP+3HBeg0qdA/itGGjjKp0D+dwm0iManQPzQDJ0YwqdA/9uIFwS+p0D+DsbBwL6nQPwA+VUAvqdA/ntRVIy+p0D9OwSsSL6nQP/zJGggvqdA/3tpcAi+p0D/NKEP/LqnQP145tv0uqdA/picf/S6p0D/2XCz9LqnQP+SkmP0uqdA/iAlG/i6p0D+hXzD/LqnQP/M2UQsvqdA/xkwhDjSp0D9GY8pJcKrQPzrMzcjXh/A/YNOIxzbSAEAR2GPMIAEGQCi9TqrvJAlAQz9HLNwLC0DvQ9sT0zIMQMpBn2iB5QxAru3uy75RDUC0LKpYUJMNQPVOjowIuw1ASDk5JxjTDUAgEsd2q+ENQO75zch/6g1A+2hrBdnvDUBZVxd3FvMNQL6cFOsM9Q1Asr0VSj32DUAZrgur9fYNQM6r9ltl9w1Az+2fBKn3DUAYPOcA0vcNQB/qt9Tq9w1A/OzG3vn3DUCcfuz6AvgNQFyujn8I+A1Aj7gs1wv4DUDqJF7dDfgNQBpwJBcP+A1AwQka1Q/4DUCJSwxIEPgNQL+fjI0Q+A1A3iKHtxD4DUCPm9LQEPgNQFD7AuAQ+A1Ac5QT6RD4DUDkF27uEPgNQHqhiPEQ+A1Ala1G8xD4DUBnJDD0EPgNQAkMmfQQ+A1AfxS09BD4DUAqw5/0EPgNQOf0bvQQ+A1Aw0Qs9BD4DUCa297zEPgNQFzjivMQ+A1ADNMH8xD4DUCg9CLSEPgNQIS8imb49w1AimJO9qnlDUCPFmNUe4AGQCZtOHFT6vw/seLxBbox8z+ETVrWeZzqPznn/xcXeuM/m4837W9P3j/AD358BRPZP3FXtEwJ59U/wLpOwyj70z+15S++MdHSP1K0UR6yHNI/bUXQ4Fqv0T/x0MuXHm3RP3RtOPf+RNE/Sj4WtrAs0T+WZDlz9x3RPwuCICQMFdE/jNW1+qQP0T8BEHsZXwzRP+M8nIljCtE/oLppEjAJ0T93UY3RdQjRPxMnFv4ECNE/uxh9pcAH0T+m0bU+lwfRP6A/bip+B9E/P4Bd+W4H0T/+jKLFZQfRPxjkwDJgB9E/Nr6J0lwH0T+2XTDHWgfRP1i7TopZB9E/CB2AylgH0T9i2XZWWAfRP8yFURBYB9E/lCL85VcH0T+T5X3MVwfRPy7tNb1XB9E/HW8atFcH0T+aPcCuVwfRP0acq6tXB9E/G+H0qVcH0T98lBSpVwfRPxKPt6hXB9E/gvCoqFcH0T+wl8yoVwfRPyw5xahXB9E/9PrIg1cH0T/LmiQXSAfRP9lwcH4FBdE/idaf38mm9T/nVucb4FYCQBKtsXgG5AZAU79RzdalCUCnFfCXZlELQG6Hgr1nVAxAjL+EgE3xDEC4MevDWFANQCIf8vHriQ1AUFY/hMysDUB2TSQw7cENQJmPApu5zg1AySpxXXrWDUBwgNSsLNsNQIX79f8E3g1ACq+mMr7fDUCBpXZ2yeANQMxMLl1r4Q1AG+RgcM3hDUBLj4/ZCOINQO60zdYs4g1AJO7ho0LiDUDeqbPYT+INQE/Yq9hX4g1AblE/sVziDUDFhLugX+INQFHa82dh4g1A2223e2LiDUCDKskiY+INQNQxB4hj4g1A0OFpxWPiDUAnOq3qY+INQMteWQFk4g1A9xI2D2TiDUAWZMMXZOINQPsUIR1k4g1AwgeZIGTiDUAokvMiZOINQJDGqiRk4g1A+s8IJmTiDUCp1DsnZOINQD3WXyhk4g1A8U2GKWTiDUCZ7boqZOINQLDDBCxk4g1ARdhpLWTiDUAQjIwvZOINQFnc7alk4g1ANRPRQL/iDUAaWNujoyYOQL6K5JEgBwRAxdtcPlz1+T9NxujgfmnxP6dw739IeOg/GMlbkY8y4j+bhxWvuMvcP5vofx5BMdg/8EWYfV9n1T95vhWh7LbTP7Kq0Jr1sNI/5Ws/w0QS0j8SW95nI7LRP/+nQcTnd9E/5uDmJaFU0T/hm46oQj/RPxJdqMpQMtE/04EzWHkq0T9zXuZJuSXRP+BpZ6LYItE/JLw3Yxoh0T/7r5EPDCDRP6+ZF01oH9E/CIWwGAUf0T+dSDz/yB7RP+Q/D5akHtE/Ry5cho4e0T+6e+MngR7RP0k6Ug15HtE/KM4xI3Qe0T/yM5EncR7RP6WaaVdvHtE/MYWWPG4e0T9KTYaPbR7RP5PC3SRtHtE/819Z4mwe0T9Jrw64bB7RPw1vWZxsHtE/57FhiWwe0T8fq597bB7RP9Nt7HBsHtE/1AD8Z2we0T9hAgBgbB7RP2QyglhsHtE/IkkzUWwe0T/sH+dJbB7RP68bhUJsHtE/UQv4Omwe0T8kJTIzbB7RP8u9NCtsHtE/bOTzImwe0T8=\",\"dtype\":\"float64\",\"order\":\"little\",\"shape\":[400]}},\"selected\":{\"id\":\"63411\"},\"selection_policy\":{\"id\":\"63410\"}},\"id\":\"62240\",\"type\":\"ColumnDataSource\"},{\"attributes\":{},\"id\":\"62212\",\"type\":\"DataRange1d\"},{\"attributes\":{},\"id\":\"63413\",\"type\":\"Selection\"},{\"attributes\":{},\"id\":\"62219\",\"type\":\"BasicTicker\"},{\"attributes\":{},\"id\":\"62229\",\"type\":\"SaveTool\"},{\"attributes\":{},\"id\":\"62214\",\"type\":\"LinearScale\"},{\"attributes\":{},\"id\":\"63402\",\"type\":\"Title\"},{\"attributes\":{\"data_source\":{\"id\":\"62245\"},\"glyph\":{\"id\":\"62246\"},\"hover_glyph\":null,\"muted_glyph\":null,\"nonselection_glyph\":{\"id\":\"62247\"},\"view\":{\"id\":\"62249\"}},\"id\":\"62248\",\"type\":\"GlyphRenderer\"},{\"attributes\":{\"axis_label\":\"time\",\"formatter\":{\"id\":\"63403\"},\"major_label_policy\":{\"id\":\"63404\"},\"ticker\":{\"id\":\"62219\"}},\"id\":\"62218\",\"type\":\"LinearAxis\"},{\"attributes\":{},\"id\":\"62230\",\"type\":\"ResetTool\"},{\"attributes\":{\"axis\":{\"id\":\"62222\"},\"dimension\":1,\"ticker\":null},\"id\":\"62225\",\"type\":\"Grid\"},{\"attributes\":{\"axis\":{\"id\":\"62218\"},\"ticker\":null},\"id\":\"62221\",\"type\":\"Grid\"},{\"attributes\":{},\"id\":\"63403\",\"type\":\"BasicTickFormatter\"},{\"attributes\":{\"data_source\":{\"id\":\"62240\"},\"glyph\":{\"id\":\"62241\"},\"hover_glyph\":null,\"muted_glyph\":null,\"nonselection_glyph\":{\"id\":\"62242\"},\"view\":{\"id\":\"62244\"}},\"id\":\"62243\",\"type\":\"GlyphRenderer\"},{\"attributes\":{},\"id\":\"62223\",\"type\":\"BasicTicker\"},{\"attributes\":{\"active_multi\":null,\"tools\":[{\"id\":\"62226\"},{\"id\":\"62227\"},{\"id\":\"62228\"},{\"id\":\"62229\"},{\"id\":\"62230\"},{\"id\":\"62231\"}]},\"id\":\"62233\",\"type\":\"Toolbar\"},{\"attributes\":{},\"id\":\"63404\",\"type\":\"AllLabels\"},{\"attributes\":{},\"id\":\"62231\",\"type\":\"HelpTool\"},{\"attributes\":{\"end\":200.0},\"id\":\"62210\",\"type\":\"Range1d\"},{\"attributes\":{},\"id\":\"62226\",\"type\":\"PanTool\"},{\"attributes\":{\"overlay\":{\"id\":\"62232\"}},\"id\":\"62228\",\"type\":\"BoxZoomTool\"}],\"root_ids\":[\"62209\"]},\"title\":\"Bokeh Application\",\"version\":\"2.3.0\"}};\n",
       "  var render_items = [{\"docid\":\"68ba8499-2463-4f88-958b-63a61b8a3826\",\"root_ids\":[\"62209\"],\"roots\":{\"62209\":\"b4232084-e423-4660-b151-62b65c83ba9e\"}}];\n",
       "  root.Bokeh.embed.embed_items_notebook(docs_json, render_items);\n",
       "\n",
       "  }\n",
       "  if (root.Bokeh !== undefined) {\n",
       "    embed_document(root);\n",
       "  } else {\n",
       "    var attempts = 0;\n",
       "    var timer = setInterval(function(root) {\n",
       "      if (root.Bokeh !== undefined) {\n",
       "        clearInterval(timer);\n",
       "        embed_document(root);\n",
       "      } else {\n",
       "        attempts++;\n",
       "        if (attempts > 100) {\n",
       "          clearInterval(timer);\n",
       "          console.log(\"Bokeh: ERROR: Unable to run BokehJS code because BokehJS library is missing\");\n",
       "        }\n",
       "      }\n",
       "    }, 10, root)\n",
       "  }\n",
       "})(window);"
      ],
      "application/vnd.bokehjs_exec.v0+json": ""
     },
     "metadata": {
      "application/vnd.bokehjs_exec.v0+json": {
       "id": "62209"
      }
     },
     "output_type": "display_data"
    }
   ],
   "source": [
    "# Right hand side of simple delay oscillator\n",
    "def delay_rhs(xy, t, xy_past, beta, n, tau_x, tau_y):\n",
    "    x, y = xy\n",
    "    x_past, _ = xy_past(t - tau_x)\n",
    "    _, y_past = xy_past(t - tau_y)\n",
    "    \n",
    "    return np.array(\n",
    "        [\n",
    "            beta / (1 + x_past ** n) - x,\n",
    "#           beta * x_past ** n / (1 + x_past ** n + y_past ** n) - y,\n",
    "            beta / (1 + y_past ** n) - y,\n",
    "        ]\n",
    "    )\n",
    "\n",
    "\n",
    "# Initially, we just have no gene product\n",
    "def xy0(t):\n",
    "    return np.array([0.0, 0.0])\n",
    "\n",
    "\n",
    "# Specify parameters (All dimensionless)\n",
    "beta = 4.0\n",
    "n = 2.0\n",
    "tau_x = 10.0\n",
    "tau_y = 25.0\n",
    "\n",
    "# Time points we want\n",
    "t = np.linspace(0, 200, 400)\n",
    "\n",
    "# Perform the integration\n",
    "xy = biocircuits.ddeint(\n",
    "    delay_rhs, xy0, t, max(tau_x, tau_y), args=(beta, n, tau_x, tau_y)\n",
    ")\n",
    "\n",
    "# Plot the result\n",
    "p = bokeh.plotting.figure(\n",
    "    frame_width=450,\n",
    "    frame_height=200,\n",
    "    x_axis_label=\"time\",\n",
    "    y_axis_label=\"x\",\n",
    "    x_range=[t.min(), t.max()],\n",
    ")\n",
    "p.line(t, xy[:, 0], line_width=2)\n",
    "p.line(t, xy[:, 1], line_width=2, line_color='orange')\n",
    "\n",
    "bokeh.io.show(p)"
   ]
  },
  {
   "cell_type": "code",
   "execution_count": 82,
   "metadata": {},
   "outputs": [
    {
     "data": {
      "text/html": [
       "\n",
       "\n",
       "\n",
       "\n",
       "\n",
       "\n",
       "  <div class=\"bk-root\" id=\"efc32b7a-e84b-4848-8612-741930b700d3\" data-root-id=\"43672\"></div>\n"
      ]
     },
     "metadata": {},
     "output_type": "display_data"
    },
    {
     "data": {
      "application/javascript": [
       "(function(root) {\n",
       "  function embed_document(root) {\n",
       "    \n",
       "  var docs_json = {\"bac2c796-a6b2-4d40-901c-584b0f174178\":{\"defs\":[{\"extends\":null,\"module\":null,\"name\":\"DataModel\",\"overrides\":[],\"properties\":[]}],\"roots\":{\"references\":[{\"attributes\":{\"below\":[{\"id\":\"43681\"}],\"center\":[{\"id\":\"43684\"},{\"id\":\"43688\"}],\"frame_height\":200,\"frame_width\":450,\"left\":[{\"id\":\"43685\"}],\"renderers\":[{\"id\":\"43706\"}],\"title\":{\"id\":\"44654\"},\"toolbar\":{\"id\":\"43696\"},\"x_range\":{\"id\":\"43673\"},\"x_scale\":{\"id\":\"43677\"},\"y_range\":{\"id\":\"43675\"},\"y_scale\":{\"id\":\"43679\"}},\"id\":\"43672\",\"subtype\":\"Figure\",\"type\":\"Plot\"},{\"attributes\":{\"axis_label\":\"x\",\"formatter\":{\"id\":\"44658\"},\"major_label_policy\":{\"id\":\"44659\"},\"ticker\":{\"id\":\"43686\"}},\"id\":\"43685\",\"type\":\"LinearAxis\"},{\"attributes\":{},\"id\":\"43675\",\"type\":\"DataRange1d\"},{\"attributes\":{\"line_color\":\"#1f77b4\",\"line_width\":2,\"x\":{\"field\":\"x\"},\"y\":{\"field\":\"y\"}},\"id\":\"43704\",\"type\":\"Line\"},{\"attributes\":{},\"id\":\"43689\",\"type\":\"PanTool\"},{\"attributes\":{\"line_alpha\":0.1,\"line_color\":\"#1f77b4\",\"line_width\":2,\"x\":{\"field\":\"x\"},\"y\":{\"field\":\"y\"}},\"id\":\"43705\",\"type\":\"Line\"},{\"attributes\":{},\"id\":\"44656\",\"type\":\"AllLabels\"},{\"attributes\":{\"bottom_units\":\"screen\",\"fill_alpha\":0.5,\"fill_color\":\"lightgrey\",\"left_units\":\"screen\",\"level\":\"overlay\",\"line_alpha\":1.0,\"line_color\":\"black\",\"line_dash\":[4,4],\"line_width\":2,\"right_units\":\"screen\",\"syncable\":false,\"top_units\":\"screen\"},\"id\":\"43695\",\"type\":\"BoxAnnotation\"},{\"attributes\":{},\"id\":\"43686\",\"type\":\"BasicTicker\"},{\"attributes\":{},\"id\":\"44655\",\"type\":\"BasicTickFormatter\"},{\"attributes\":{\"axis\":{\"id\":\"43685\"},\"dimension\":1,\"ticker\":null},\"id\":\"43688\",\"type\":\"Grid\"},{\"attributes\":{\"source\":{\"id\":\"43703\"}},\"id\":\"43707\",\"type\":\"CDSView\"},{\"attributes\":{},\"id\":\"43679\",\"type\":\"LinearScale\"},{\"attributes\":{\"overlay\":{\"id\":\"43695\"}},\"id\":\"43691\",\"type\":\"BoxZoomTool\"},{\"attributes\":{},\"id\":\"43694\",\"type\":\"HelpTool\"},{\"attributes\":{\"axis_label\":\"time\",\"formatter\":{\"id\":\"44655\"},\"major_label_policy\":{\"id\":\"44656\"},\"ticker\":{\"id\":\"43682\"}},\"id\":\"43681\",\"type\":\"LinearAxis\"},{\"attributes\":{},\"id\":\"43682\",\"type\":\"BasicTicker\"},{\"attributes\":{},\"id\":\"44662\",\"type\":\"UnionRenderers\"},{\"attributes\":{\"axis\":{\"id\":\"43681\"},\"ticker\":null},\"id\":\"43684\",\"type\":\"Grid\"},{\"attributes\":{\"end\":200.0},\"id\":\"43673\",\"type\":\"Range1d\"},{\"attributes\":{},\"id\":\"43690\",\"type\":\"WheelZoomTool\"},{\"attributes\":{\"active_multi\":null,\"tools\":[{\"id\":\"43689\"},{\"id\":\"43690\"},{\"id\":\"43691\"},{\"id\":\"43692\"},{\"id\":\"43693\"},{\"id\":\"43694\"}]},\"id\":\"43696\",\"type\":\"Toolbar\"},{\"attributes\":{\"data\":{\"x\":{\"__ndarray__\":\"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\",\"dtype\":\"float64\",\"order\":\"little\",\"shape\":[400]},\"y\":{\"__ndarray__\":\"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\",\"dtype\":\"float64\",\"order\":\"little\",\"shape\":[400]}},\"selected\":{\"id\":\"44663\"},\"selection_policy\":{\"id\":\"44662\"}},\"id\":\"43703\",\"type\":\"ColumnDataSource\"},{\"attributes\":{},\"id\":\"43677\",\"type\":\"LinearScale\"},{\"attributes\":{},\"id\":\"44663\",\"type\":\"Selection\"},{\"attributes\":{},\"id\":\"44654\",\"type\":\"Title\"},{\"attributes\":{},\"id\":\"43692\",\"type\":\"SaveTool\"},{\"attributes\":{},\"id\":\"44658\",\"type\":\"BasicTickFormatter\"},{\"attributes\":{},\"id\":\"43693\",\"type\":\"ResetTool\"},{\"attributes\":{},\"id\":\"44659\",\"type\":\"AllLabels\"},{\"attributes\":{\"data_source\":{\"id\":\"43703\"},\"glyph\":{\"id\":\"43704\"},\"hover_glyph\":null,\"muted_glyph\":null,\"nonselection_glyph\":{\"id\":\"43705\"},\"view\":{\"id\":\"43707\"}},\"id\":\"43706\",\"type\":\"GlyphRenderer\"}],\"root_ids\":[\"43672\"]},\"title\":\"Bokeh Application\",\"version\":\"2.3.0\"}};\n",
       "  var render_items = [{\"docid\":\"bac2c796-a6b2-4d40-901c-584b0f174178\",\"root_ids\":[\"43672\"],\"roots\":{\"43672\":\"efc32b7a-e84b-4848-8612-741930b700d3\"}}];\n",
       "  root.Bokeh.embed.embed_items_notebook(docs_json, render_items);\n",
       "\n",
       "  }\n",
       "  if (root.Bokeh !== undefined) {\n",
       "    embed_document(root);\n",
       "  } else {\n",
       "    var attempts = 0;\n",
       "    var timer = setInterval(function(root) {\n",
       "      if (root.Bokeh !== undefined) {\n",
       "        clearInterval(timer);\n",
       "        embed_document(root);\n",
       "      } else {\n",
       "        attempts++;\n",
       "        if (attempts > 100) {\n",
       "          clearInterval(timer);\n",
       "          console.log(\"Bokeh: ERROR: Unable to run BokehJS code because BokehJS library is missing\");\n",
       "        }\n",
       "      }\n",
       "    }, 10, root)\n",
       "  }\n",
       "})(window);"
      ],
      "application/vnd.bokehjs_exec.v0+json": ""
     },
     "metadata": {
      "application/vnd.bokehjs_exec.v0+json": {
       "id": "43672"
      }
     },
     "output_type": "display_data"
    }
   ],
   "source": [
    "# Right hand side of simple delay oscillator\n",
    "def delay_rhs(x, t, x_past, beta, n, tau):\n",
    "    return beta / (1 + x_past(t - tau) ** n) - x\n",
    "\n",
    "\n",
    "# Initially, we just have no gene product\n",
    "def x0(t):\n",
    "    return 0\n",
    "\n",
    "\n",
    "# Specify parameters (All dimensionless)\n",
    "beta = 4\n",
    "n = 2\n",
    "tau = 10\n",
    "\n",
    "# Time points we want\n",
    "t = np.linspace(0, 200, 400)\n",
    "\n",
    "# Perform the integration\n",
    "x = biocircuits.ddeint(delay_rhs, x0, t, tau, args=(beta, n, tau))\n",
    "\n",
    "# Plot the result\n",
    "p = bokeh.plotting.figure(\n",
    "    frame_width=450,\n",
    "    frame_height=200,\n",
    "    x_axis_label=\"time\",\n",
    "    y_axis_label=\"x\",\n",
    "    x_range=[t.min(), t.max()],\n",
    ")\n",
    "p.line(t, x[:, 0], line_width=2)\n",
    "\n",
    "bokeh.io.show(p)"
   ]
  },
  {
   "cell_type": "markdown",
   "metadata": {},
   "source": [
    "## Our model system\n",
    "\n",
    "As we learn how to use some Python-based tools for analysis of genetic circuits, we will learn an important design principle about *cascades*. A three-component cascade is illustrated below.\n",
    "\n",
    "\\begin{align}\n",
    "\\mathrm{X} \\longrightarrow \\mathrm{Y} \\longrightarrow \\mathrm{Z}\n",
    "\\end{align}\n",
    "\n",
    "Here, X is our input, which we will specify. X could be something like an externally imposed stimulus.  We are interested in the response of Y and Z as a function of input X. We will expose the design principle that *a cascade can filter out high frequency fluctuations*. This makes sense intuitively. Imagine we have a brief pulse in X. Y will start to grow in concentration during the pulse, but will then fall back toward its basal level when the pulse stops. If there is not enough time for Y to accumulate enough to enhance production of Z, then the level of Z does not change appreciably. Thus, Z shows no response to a brief pulse."
   ]
  },
  {
   "cell_type": "markdown",
   "metadata": {},
   "source": [
    "## The dynamical equations\n",
    "\n",
    "We will model the circuit by writing down a system of ordinary differential equations and solving them. We will assume Hill-like behavior for the activation of Y by X and of Z by Y. We also neglect leakage. We define the concentrations of X, Y, and Z, respectively as $x$, $y$, and $z$. The system of ODEs describing this system is then\n",
    "\n",
    "\\begin{align}\n",
    "\\frac{\\mathrm{d}y}{\\mathrm{d}t} &= \\beta_y\\,\\frac{(x/k_x)^{n_x}}{1+(x/k_x)^{n_x}} - \\gamma_y y, \\\\[1em]\n",
    "\\frac{\\mathrm{d}z}{\\mathrm{d}t} &= \\beta_z\\,\\frac{(y/k_y)^{n_y}}{1+(y/k_y)^{n_y}} - \\gamma_z z.\n",
    "\\end{align}\n",
    "\n",
    "Note that the imposed $x(t)$ is in general a function of time.  "
   ]
  },
  {
   "cell_type": "markdown",
   "metadata": {},
   "source": [
    "## Nondimensionalization\n",
    "\n",
    "As is generally a good idea for analysis of these systems, we will **nondimensionalize** the dynamical equations. The variables and parameters in the problem have **dimension**. For example, $y$ has dimension of concentration, or number of particles per cubic length, written as\n",
    "\n",
    "\\begin{align}\n",
    "y = \\left[\\frac{N}{L^3}\\right].\n",
    "\\end{align}\n",
    "\n",
    "The parameter $\\gamma_y$ has dimension of inverse time, or $\\gamma_y = [T^{-1}]$. It is clear that each term in the dynamical equations has dimension of $N/L^3 T$. In general, every term in an equation must have the same dimension; trying to add, for example, a meter to a kilogram is nonsensical.\n",
    "\n",
    "The nondimensionalization procedure involves rewriting the equations such that every term is **dimensionless**, which means that every term has dimension of unity. This is beneficial for several reasons.\n",
    "\n",
    "1. It reduces the number of parameters you need to consider. Only dimensionless ratios/products of parameters are considered.\n",
    "2. It allows comparison of the relative magnitudes of terms in an equation.\n",
    "3. It provides intuition by identifying which ratios and products of parameters determine the dynamics.\n",
    "\n",
    "There is no one way to nondimensionalize a set of dynamical equations. We have found the following procedure to be generally effective. Let $\\theta$ be one of the variables, space, or time. In the above dynamical equations, $\\theta$ could be $x$, $y$, $z$, or $t$. (Here $x$, $y$, and $z$ denote concentrations; there are no spatial variables in this problem.) By contrast, $\\beta_y$, $\\beta_z$, $k_x$, $k_y$, $n_x$, $n_y$, $\\gamma_y$, and $\\gamma_z$ are system *parameters*, not variables.\n",
    "\n",
    "1. For each variable and time, define a dimensionless version (usually marked by a tilde) such that $\\theta = \\theta_d \\tilde{\\theta}$, where $\\theta$ is some variable or time. The constant $\\theta_d$ imparts the dimension on $\\theta$ (hence the subscript *d*).\n",
    "2. Substitute these expressions into the dynamical equations.\n",
    "3. Rearrange the equations such that every term is dimensionless. As a result, you find ratios and products of the $\\theta_d$'s and the system parameters. These ratios are dimensionless and are called *dimensionless parameters*.\n",
    "4. Choose expressions for the $\\theta_d$'s that minimize the number of dimensionless parameters.\n",
    "\n",
    "As usual, this is best seen by example. We start be defining\n",
    "\n",
    "\\begin{align}\n",
    "&t = t_d\\,\\tilde{t},\\\\[1em]\n",
    "&x = x_d\\,\\tilde{x},\\\\[1em]\n",
    "&y = y_d\\,\\tilde{y},\\\\[1em]\n",
    "&z = z_d\\,\\tilde{z}.\n",
    "\\end{align}\n",
    "\n",
    "Inserting these into the dynamical equations gives\n",
    "\n",
    "\\begin{align}\n",
    "&\\frac{y_d}{t_d}\\,\\frac{\\mathrm{d}\\tilde{y}}{\\mathrm{d}\\tilde{t}} = \\beta_y\\,\\frac{(x_d\\tilde{x}/k_x)^{n_x}}{1+(x_d\\tilde{x}/k_x)^{n_x}} - \\gamma_y y_d \\tilde{y}, \\\\[1em]\n",
    "&\\frac{z_d}{t_d}\\frac{\\mathrm{d}\\tilde{z}}{\\mathrm{d}\\tilde{t}} = \\beta_z\\,\\frac{(y_d\\tilde{y}/k_y)^{n_y}}{1+(y_d\\tilde{y}/k_y)^{n_y}} - \\gamma_z z_d\\tilde{z}.\n",
    "\\end{align}\n",
    "\n",
    "To make every term dimensionless, we can divide the top equation by $y_d/t_d$ and the bottom equation by $z_d/t_d$. The result is\n",
    "\n",
    "\\begin{align}\n",
    "&\\frac{\\mathrm{d}\\tilde{y}}{\\mathrm{d}\\tilde{t}} = \\frac{\\beta_y\\,t_d}{y_d}\\,\\frac{(x_d\\tilde{x}/k_x)^{n_x}}{1+(x_d\\tilde{x}/k_x)^{n_x}} - \\gamma_y t_d \\tilde{y}, \\\\[1em]\n",
    "&\\frac{\\mathrm{d}\\tilde{z}}{\\mathrm{d}\\tilde{t}} = \\frac{\\beta_z\\,t_d}{z_d}\\,\\frac{(y_d\\tilde{y}/k_y)^{n_y}}{1+(y_d\\tilde{y}/k_y)^{n_y}} - \\gamma_z t_d\\tilde{z}.\n",
    "\\end{align}\n",
    "\n",
    "We identify our dimensionless parameters as\n",
    "\\begin{align}\n",
    "&\\beta_y\\,t_d/y_d, \\\\[1em]\n",
    "&\\beta_z\\,t_d/z_d, \\\\[1em]\n",
    "&x_d/k_x,\\\\[1em]\n",
    "&y_d/k_y,\\\\[1em]\n",
    "&\\gamma_y t_d,\\\\[1em]\n",
    "&\\gamma_z t_d,\n",
    "\\end{align}\n",
    "\n",
    "with $n_x$ and $n_y$ already being dimensionless. We see immediately that we can eliminate two of the dimensionless parameters if we choose $x_d = k_x$ and $y_d = k_y$. We can eliminate another by choosing $t_d = 1/\\gamma_y$. (We could have also chosen $t_d = 1 / \\gamma_z$.) Thus, we have $\\tilde{\\gamma} \\equiv \\gamma_z / \\gamma_y$ and $\\tilde{\\beta} \\equiv \\beta_y/\\gamma_y k_y$ as a dimensionless parameters. Finally, we can choose $z_d = \\beta_z/\\gamma_z$ such that $\\beta_z\\,t_d/z_d = \\tilde{\\gamma}$. This last choice does not add a dimensionless parameter, since we have already defined $\\tilde{\\gamma}$.\n",
    "\n",
    "Thus, our dimensionless equations are\n",
    "\n",
    "\\begin{align}\n",
    "&\\frac{\\mathrm{d}\\tilde{y}}{\\mathrm{d}\\tilde{t}} = \\tilde{\\beta}\\,\\frac{\\tilde{x}^{n_x}}{1+\\tilde{x}^{n_x}} - \\tilde{y}, \\\\[1em]\n",
    "&\\frac{\\mathrm{d}\\tilde{z}}{\\mathrm{d}\\tilde{t}} = \\tilde{\\gamma}\\,\\frac{\\tilde{y}^{n_y}}{1+\\tilde{y}^{n_y}} - \\tilde{\\gamma} \\tilde{z}.\n",
    "\\end{align}\n",
    "\n",
    "For notational convenience, and since we will always be working in dimensionless units, we will drop all of the tildes. Doing this and dividing the bottom equation by $\\tilde{\\gamma}$ gives\n",
    "\n",
    "\\begin{align}\n",
    "\\frac{\\mathrm{d}y}{\\mathrm{d}t} &= \\beta \\,\\frac{x^{n_x}}{1+x^{n_x}} - y, \\\\[1em]\n",
    "\\gamma^{-1}\\,\\frac{\\mathrm{d}z}{\\mathrm{d}t} &= \\frac{y^{n_y}}{1+y^{n_y}} - z.\n",
    "\\end{align}\n",
    "\n",
    "Thus, in addition to the specifics of our input $x(t)$, we have four parameters, $\\beta$, $\\gamma$, $n_x$, and $n_y$. We already know that $n_x$ and $n_y$ are Hill coefficients that parametrize the ultrasensitivity of the regulation by X and Y respectively. The parameter $\\beta = \\beta_y/\\gamma_y k_y$ is the ratio of the unregulated level of Y, $\\beta_y/\\gamma$ to the level of Y that activates Z. The parameter $\\gamma$ is the ratio of the decay rate of Z to that of Y. If dilution is the primary mode of concentration depletion for both Y and Z, then $\\gamma \\approx 1$. We now have a clear picture of which dimensionless parameters dictate the dynamics and what they mean physically."
   ]
  },
  {
   "cell_type": "markdown",
   "metadata": {},
   "source": [
    "## The scipy.intergrate module\n",
    "\n",
    "Now that we have our dimensionless dynamical equations, we will move to solving them.\n",
    "\n",
    "**The [SciPy Library](https://docs.scipy.org/doc/scipy/reference/)** is a Python library for scientific computing. It contains many modules, including `scipy.stats`, `scipy.special`, and `scipy.optimize`, which respectively have functions to perform statistical calculations, special functions, and optimization routines. There are many more. We will use the `scipy.integrate` module to integrate systems of ODEs.\n",
    "\n",
    "There are three main APIs for solving real-valued initial value problems in the module. They are [solve_ivp()](https://docs.scipy.org/doc/scipy/reference/generated/scipy.integrate.solve_ivp.html#scipy.integrate.solve_ivp), [ode()](https://scipy.github.io/devdocs/generated/scipy.integrate.ode.html#scipy.integrate.ode), and [odeint()](https://scipy.github.io/devdocs/generated/scipy.integrate.odeint.html#scipy.integrate.odeint). According to the SciPy developers, `solve_ivp()` is the preferred method, with the others labeled as having an \"old\" API. The `solve_ivp()` function has the flexibility of allowing choice of multiple numerical algorithms for solving ODEs. However, for the kinds of problems we encounter in this class, I find that the generic LSODA algorithm developed by Linda Petzold and Alan Hindmarsh that handles both stiff and non-stiff problems with variable time stepping is the best option. This is the only solver offered in the `odeint()` function. If we compare the two solvers, `solve_ivp()` and `odeint()`, the former has a large overhead, which can lead to performance issues for small problems (for large problems, this is not a big deal). Since most of our problems are small, we will use `odeint()`. It has much better performance, and though its API is different, it is still intuitive.\n",
    "\n",
    "The basic call signature for `odeint()` is\n",
    "\n",
    "    scipy.integrate.odeint(func, y0, t, args=())\n",
    "\n",
    "There are many other keyword arguments to set algorithmic parameters, but we will generally not need them (and you can read about them in the [documentation](https://scipy.github.io/devdocs/generated/scipy.integrate.odeint.html#scipy.integrate.odeint)).\n",
    "Importantly, `func` is a vector-valued function with call signature `func(y, t, *args)` that specifies the right hand side of the system of ODEs to be solved. `t` is a scalar time point and `y` is a one-dimensional array (though multidimensional arrays are possible). `y0` is an array with the initial conditions.\n",
    "\n",
    "As is often the case, use of this function is best seen by example, and we will now apply it to the cascade circuit."
   ]
  },
  {
   "cell_type": "markdown",
   "metadata": {},
   "source": [
    "## Solving for a constant input X\n",
    "\n",
    "We will first consider the case where we initially have no X, Y, or Z present. At time $t = 0$, we suddenly have a concentration of X of $x_0$. So, we need five parameters for the right hand side of our ODEs, $\\beta$, $\\gamma$, $n_x$, $n_y$, and $x_0$.\n",
    "\n",
    "We now define the function for the right hand side of the ODEs."
   ]
  },
  {
   "cell_type": "code",
   "execution_count": 2,
   "metadata": {},
   "outputs": [],
   "source": [
    "def cascade_rhs(yz, t, beta, gamma, n_x, n_y, x):\n",
    "    \"\"\"\n",
    "    Right hand side for cascade X -> Y -> Z.  Return dy/dt and dz/dt.\n",
    "    \"\"\"\n",
    "    # Unpack y and z\n",
    "    y, z = yz\n",
    "\n",
    "    # Compute dy/dt\n",
    "    dy_dt = beta * x ** n_x / (1 + x ** n_x) - y\n",
    "\n",
    "    # Compute dz/dt\n",
    "    dz_dt = gamma * (y ** n_y / (1 + y ** n_y) - z)\n",
    "\n",
    "    # Return the result as a NumPy array\n",
    "    return np.array([dy_dt, dz_dt])"
   ]
  },
  {
   "cell_type": "markdown",
   "metadata": {},
   "source": [
    "We can now define the initial conditions, our parameters, and the time points we want and use `scipy.integrate.odeint()` to solve."
   ]
  },
  {
   "cell_type": "code",
   "execution_count": 3,
   "metadata": {},
   "outputs": [],
   "source": [
    "# Number of time points we want for the solutions\n",
    "n = 400\n",
    "\n",
    "# Time points we want for the solution\n",
    "t = np.linspace(0, 10, n)\n",
    "\n",
    "# Initial condition\n",
    "yz_0 = np.array([0.0, 0.0])\n",
    "\n",
    "# Parameters\n",
    "beta = 1.0\n",
    "gamma = 1.0\n",
    "n_x = 2\n",
    "n_y = 2\n",
    "x0 = 2.0\n",
    "\n",
    "# Package parameters into a tuple\n",
    "args = (beta, gamma, n_x, n_y, x0)\n",
    "\n",
    "# Integrate ODES\n",
    "yz = scipy.integrate.odeint(cascade_rhs, yz_0, t, args=args)"
   ]
  },
  {
   "cell_type": "markdown",
   "metadata": {},
   "source": [
    "That's it!  The integration is done.  We can now look at what `scipy.integrate.odeint()`'s output looks like."
   ]
  },
  {
   "cell_type": "code",
   "execution_count": 4,
   "metadata": {},
   "outputs": [
    {
     "data": {
      "text/plain": [
       "(400, 2)"
      ]
     },
     "execution_count": 4,
     "metadata": {},
     "output_type": "execute_result"
    }
   ],
   "source": [
    "yz.shape"
   ]
  },
  {
   "cell_type": "markdown",
   "metadata": {},
   "source": [
    "The first column of the output `yz` gives $y(t)$ at the specified time points and the second column gives $z(t)$. We would now like to plot the results."
   ]
  },
  {
   "cell_type": "markdown",
   "metadata": {},
   "source": [
    "## Plotting results\n",
    "\n",
    "We will use [Bokeh](https://docs.bokeh.org/) to plot the results. The syntax is pretty self-explanatory from the example below. Note that you can save a plot as a PNG by clicking the disk icon next to the plot, which might be helpful for incorporating your plots into your presentations. (Note that for publications, you should usually save your figures in a vector graphics format, which [Bokeh supports](https://docs.bokeh.org/en/latest/docs/user_guide/export.html), but is not necessary, and in fact discouraged, for display of plots in the browser.) \n",
    "\n",
    "Before building the plot, we will load in the color scheme we will use. The [colorcet package](https://colorcet.holoviz.org/) is good for this. I like to use the Category10 color palette for categorical colors."
   ]
  },
  {
   "cell_type": "code",
   "execution_count": 5,
   "metadata": {},
   "outputs": [],
   "source": [
    "# Set up color palette for this notebook\n",
    "colors = colorcet.b_glasbey_category10"
   ]
  },
  {
   "cell_type": "markdown",
   "metadata": {},
   "source": [
    "Colors in place, we will write a function to set up the plot. Within this function, we will write the solver; not just the plotting function. It will become clear that this is useful for interactive graphics. Because transcription rates, decay rates, and input concentrations of X can vary over orders of magnitude, we will input those as their logarithms. Finally, we will allow for normalization of the responses. That is, we allow for rescaling of the Y and Z concentrations such that their maximum concentration is one."
   ]
  },
  {
   "cell_type": "code",
   "execution_count": 6,
   "metadata": {},
   "outputs": [],
   "source": [
    "def cascade_response_plot(\n",
    "    log_beta=0,\n",
    "    log_gamma=0,\n",
    "    n_x=2,\n",
    "    n_y=2,\n",
    "    log_x0=np.log10(2),\n",
    "    t_max=10,\n",
    "    normalize=False,\n",
    "):\n",
    "    \"\"\"Generate a plot showing response of the cascade circuit\n",
    "    to a step in x0.\n",
    "    \"\"\"\n",
    "    # Package parameters into a tuple\n",
    "    args = (\n",
    "        10 ** log_beta,\n",
    "        10 ** log_gamma,\n",
    "        n_x,\n",
    "        n_y,\n",
    "        10 ** log_x0,\n",
    "    )\n",
    "\n",
    "    # Integrate ODES\n",
    "    t = np.linspace(0, t_max, 400)\n",
    "    yz = scipy.integrate.odeint(cascade_rhs, yz_0, t, args=args)\n",
    "    y, z = yz.transpose()\n",
    "\n",
    "    # Normalize Y and Z responses\n",
    "    if normalize:\n",
    "        y /= y.max()\n",
    "        z /= z.max()\n",
    "\n",
    "    # Set up plot\n",
    "    p = bokeh.plotting.figure(\n",
    "        frame_width=325,\n",
    "        frame_height=250,\n",
    "        x_axis_label=\"dimensionless time\",\n",
    "        y_axis_label=f\"{'normalized ' if normalize else ''}dimensionless y, z\",\n",
    "        x_range=[0, t_max],\n",
    "    )\n",
    "\n",
    "    # Populate glyphs\n",
    "    p.line(t, y, line_width=2, color=colors[0], legend_label=\"y\")\n",
    "    p.line(t, z, line_width=2, color=colors[1], legend_label=\"z\")\n",
    "\n",
    "    # Place the legend\n",
    "    p.legend.location = \"bottom_right\"\n",
    "\n",
    "    return p"
   ]
  },
  {
   "cell_type": "markdown",
   "metadata": {},
   "source": [
    "Now that we have our function, we call it to generate the graphic, and then we use `bokeh.io.show()` to display the graphic in the notebook. Note that at the top of the notebook, we called `bokeh.io.output_notebook()` which tells `bokeh.io.show()` to display the plot in the notebook instead of writing it out to a file."
   ]
  },
  {
   "cell_type": "code",
   "execution_count": 7,
   "metadata": {},
   "outputs": [
    {
     "data": {
      "text/html": [
       "\n",
       "\n",
       "\n",
       "\n",
       "\n",
       "\n",
       "  <div class=\"bk-root\" id=\"91b241ff-b57b-4c48-8167-0f3842043261\" data-root-id=\"1003\"></div>\n"
      ]
     },
     "metadata": {},
     "output_type": "display_data"
    },
    {
     "data": {
      "application/javascript": [
       "(function(root) {\n",
       "  function embed_document(root) {\n",
       "    \n",
       "  var docs_json = {\"ebf7d0ae-b785-45f4-b0e8-8d8c8ea1d39e\":{\"defs\":[{\"extends\":null,\"module\":null,\"name\":\"DataModel\",\"overrides\":[],\"properties\":[]}],\"roots\":{\"references\":[{\"attributes\":{\"below\":[{\"id\":\"1012\"}],\"center\":[{\"id\":\"1015\"},{\"id\":\"1019\"},{\"id\":\"1050\"}],\"frame_height\":250,\"frame_width\":325,\"left\":[{\"id\":\"1016\"}],\"renderers\":[{\"id\":\"1037\"},{\"id\":\"1055\"}],\"title\":{\"id\":\"1040\"},\"toolbar\":{\"id\":\"1027\"},\"x_range\":{\"id\":\"1004\"},\"x_scale\":{\"id\":\"1008\"},\"y_range\":{\"id\":\"1006\"},\"y_scale\":{\"id\":\"1010\"}},\"id\":\"1003\",\"subtype\":\"Figure\",\"type\":\"Plot\"},{\"attributes\":{},\"id\":\"1048\",\"type\":\"Selection\"},{\"attributes\":{},\"id\":\"1006\",\"type\":\"DataRange1d\"},{\"attributes\":{\"items\":[{\"id\":\"1051\"},{\"id\":\"1070\"}],\"location\":\"bottom_right\"},\"id\":\"1050\",\"type\":\"Legend\"},{\"attributes\":{},\"id\":\"1068\",\"type\":\"Selection\"},{\"attributes\":{},\"id\":\"1021\",\"type\":\"WheelZoomTool\"},{\"attributes\":{\"bottom_units\":\"screen\",\"fill_alpha\":0.5,\"fill_color\":\"lightgrey\",\"left_units\":\"screen\",\"level\":\"overlay\",\"line_alpha\":1.0,\"line_color\":\"black\",\"line_dash\":[4,4],\"line_width\":2,\"right_units\":\"screen\",\"syncable\":false,\"top_units\":\"screen\"},\"id\":\"1026\",\"type\":\"BoxAnnotation\"},{\"attributes\":{},\"id\":\"1043\",\"type\":\"AllLabels\"},{\"attributes\":{\"axis_label\":\"dimensionless y, z\",\"formatter\":{\"id\":\"1042\"},\"major_label_policy\":{\"id\":\"1043\"},\"ticker\":{\"id\":\"1017\"}},\"id\":\"1016\",\"type\":\"LinearAxis\"},{\"attributes\":{},\"id\":\"1013\",\"type\":\"BasicTicker\"},{\"attributes\":{\"active_multi\":null,\"tools\":[{\"id\":\"1020\"},{\"id\":\"1021\"},{\"id\":\"1022\"},{\"id\":\"1023\"},{\"id\":\"1024\"},{\"id\":\"1025\"}]},\"id\":\"1027\",\"type\":\"Toolbar\"},{\"attributes\":{},\"id\":\"1010\",\"type\":\"LinearScale\"},{\"attributes\":{},\"id\":\"1008\",\"type\":\"LinearScale\"},{\"attributes\":{\"axis_label\":\"dimensionless time\",\"formatter\":{\"id\":\"1045\"},\"major_label_policy\":{\"id\":\"1046\"},\"ticker\":{\"id\":\"1013\"}},\"id\":\"1012\",\"type\":\"LinearAxis\"},{\"attributes\":{\"data_source\":{\"id\":\"1052\"},\"glyph\":{\"id\":\"1053\"},\"hover_glyph\":null,\"muted_glyph\":null,\"nonselection_glyph\":{\"id\":\"1054\"},\"view\":{\"id\":\"1056\"}},\"id\":\"1055\",\"type\":\"GlyphRenderer\"},{\"attributes\":{\"axis\":{\"id\":\"1012\"},\"ticker\":null},\"id\":\"1015\",\"type\":\"Grid\"},{\"attributes\":{\"data\":{\"x\":{\"__ndarray__\":\"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\",\"dtype\":\"float64\",\"order\":\"little\",\"shape\":[400]},\"y\":{\"__ndarray__\":\"AAAAAAAAAAAQrGk7s0aUP/BcMIp2BqQ/sPjsiu2qrT/iq7TQJYmzP67jSfAJH7g/de3F7d+XvD+QEiDyL3rAPwUOKa+emsI/IsiquZOtxD/EXG12ZLPGP83b2ClkrMg/gIOPCeSYyj8nWaBIM3nMP+OoQSSfTc4/KgMmeDkL0D/0C6IR/OnQP4qbBjE7w9E/4MgSxhmX0j9Aq8niuWXTP1YGn8E8L9Q/T50tysLz1D+oEQqXa7PVP/sKPfpVbtY/rGHOAqAk1z/IfgkBZ9bXP5DSv4vHg9g/93VchN0s2T/cU98bxNHZPykixNaVcto/KFevkWwP2z9ehGyFYajbP6TsyUqNPdw/fd2d3gfP3D+6jBqm6FzdP7Mz+3FG590/w/mAgjdu3j+uruyK0fHeP3ye+rQpct8/fTdTpFTv3z/8+Og8szTgPxoeZ2s5cOA/tXoccEaq4D/BzNug4+LgP+P6UBgaGuE/Hbx3t/JP4T+ZUwwndoThP9WU59ist+E/TmJfCZ/p4T98tKPAVBriP2Op+NPVSeI/y+f+5il44j8mlPdsWKXiP4S06Klo0eI/QXbMs2H84j9MN79zSibjP5lFDqcpT+M/rFBQ4AV34z/7HH6I5Z3jP5pA7t/Ow+M/vjZY/8fo4z9NJdnY1gzkP9f+3TgBMOQ/wTgVx0xS5D84NFUHv3PkP4xUjVpdlOQ/GPCM/yy05D9isfATM9PkP0RD5JR08eQ/ZM7yX/YO5T+jA9YzvSvlP5xSGbHNR+U/3B8FWyxj5T8QfXaY3X3lP8HxoLTll+U/yRIP30ix5T+ujXksC8rlPytIRpgw4uU/63rlBL355T8S9/Q7tBDmPz6IPu4ZJ+Y/bODbtfE85j8pVFIWP1LmP2R/7nwFZ+Y//ERYQEh75j8gipyiCo/mP3+QZtFPouY/H2Ra5hq15j9qy9vmbsfmP9rGJMVO2eY/cZJAYb3q5j/BhTCJvfvmP3KiZvhRDOc/dfgXWX0c5z/eHAhFQiznPzVHp0WjO+c/unJ/1KJK5z+yy5JbQ1nnP5km6jSHZ+c/COanq3B15z9Kr3T8AYPnP5YpkVU9kOc/IwoX1ySd5z+ZbVOTuqnnP0BU4ZAAtuc//cdtyfjB5z+GHe8ppc3nP9X2VpMH2ec/fv2+2iHk5z+ArOrI9e7nP5uohhuF+ec/V70shdED6D/q+4ut3A3oP2Xh7DGoF+g/9IvcpTUh6D/kq5+ShiroPzoMwHecM+g/Ig5Py3g86D+3MBT6HEXoP6P2yGeKTeg/nsFfb8JV6D/lXzNjxl3oP6uEPI2XZeg/1UdPLzdt6D81PUaDpnToPwxTMbvme+g/Q1iHAfmC6D9+fVh53onoP65rmj6YkOg/9ZIyZieX6D9QHij+jJ3oPz4i0g3Ko+g/VJMDlt+p6D/E+ziRzq/oP8d6t/OXteg/4+W1qzy76D/0CIKhvcDoPyjZtrcbxug/4bpdy1fL6D9/ivezctDoP+VVq0Nt1eg/XT9mR0ja6D8KMPqGBN/oP3hcO8Wi4+g/LKlNwCPo6D8LmskxiOzoP9+hg87Q8Og/7ALTRv706D+94qxGEfnoP2UgvnUK/eg/cy6Ed+oA6T//TIfrsQTpP+PBgm1hCOk/irMylfkL6T9vc472eg/pPzl63yHmEuk/KALXozsW6T9PzKIFfBnpP/oiHM2nHOk/TyDyfL8f6T9vtHaUwyLpPyC20Y+0Jek/RqsU6JIo6T/Q7EwTXyvpPy8YlYQZLuk/qSU6rMIw6T/3KeX3WjPpPyEPbNLiNek/zLn8o1o46T9jOC7SwjrpPwwLEMAbPek/89Y4zmU/6T8RY+JaoUHpP5BLD8LOQ+k/sAllXe5F6T8N+02EAEjpPyMxCIwFSuk/BTyyx/1L6T+zd1eI6U3pP0RzBh3JT+k/8Lr00pxR6T+6kFv1ZFPpP5t7lM0hVek/dU8mo9NW6T/l7c+7eljpP0WeklsXWuk/1rPDxKlb6T8j4iw4Ml3pP3xk7fSwXuk/NEGROCZg6T9BuBw/kmHpPwM9FUP1Yuk/FheKfU9k6T+7cB8moWXpPysAMnPqZuk/55W8mSto6T9OTGTNZGnpP+HEhUCWauk/Or48JMBr6T9bYGuo4mzpP7eQwfv9bek/xEDXSxJv6T+tOCTFH3DpP81V/pImcek/T+Kn3yZy6T/p81XUIHPpP+KMNpkUdOk/Z392VQJ16T/xG1Iv6nXpPxxAHUzMduk/YNs00Kh36T8HpA7ff3jpP2eIPptReek/2th7Jh566T9FPqah5XrpP4ZDzyyoe+k/ej1K52V86T/UKpvvHn3pP9BCg2PTfek/amIGYIN+6T8WZm8BL3/pP6tYVGPWf+k/vgWcoHmA6T9bVI7TGIHpP06wxxW0gek/4Ls/gEuC6T8PQk8r34LpP/Pesy5vg+k/YISTofuD6T/f2ZOahITpP+HajC8Khek/M/8jdoyF6T9QJEmDC4bpP1tuaGuHhuk/ftVsQgCH6T88s8IbdofpP9VPWgrph+k/eSmyIFmI6T+uCdhwxojpP9b3Xwwxiek/J6JtBJmJ6T/7Cbdp/onpP5Ush0xhiuk/3qvAvMGK6T8td+DJH4vpP+fiA4N7i+k/Mhjv9tSL6T+7EQQ0LIzpPwWGSkiBjOk/4+hyQdSM6T+rJ9ksJY3pP1tlhxd0jek/xrY4DsGN6T/NTFMdDI7pP7OnzFBVjuk/aHFltJyO6T/JXplT4o7pP5+vnTkmj+k/TpNjcWiP6T+NjZoFqY/pPyDbsgDoj+k/XvPabCWQ6T/R9dJTYZDpPxlZMb+bkOk/BhNbuNSQ6T9FVXtIDJHpP3OBhXhCkek/NB03UXeR6T9GxhnbqpHpP4MhhB7dkek/L1F3Iw6S6T85hsbxPZLpP1m4IZFskuk/DKIJCZqS6T+FWtFgxpLpP5/vn5/xkuk/yv9xzBuT6T/0UhvuRJPpPx2/Lwttk+k/+EEQKpST6T97JwdRupPpPxP7N4bfk+k/MNSgzwOU6T/HohszJ5TpP9d7X7ZJlOk/7uUBX2uU6T83KWgyjJTpP/GlwDWslOk/5A8wbsuU6T/Pd7zg6ZTpPw/JTZIHlek/iumuhySV6T+b2Y7FQJXpP/LTgVBclek/hm0CLXeV6T94tXJfkZXpPwL0/uuqlek/IF6g1sOV6T9LsVcj3JXpP9lhDdbzlek/EzOS8gqW6T8pEqB8IZbpPxnx2nc3luk/naHR50yW6T8XsP7PYZbpP4A+yTN2luk/gJRtFoqW6T85yQl7nZbpP2ybu2Swluk/ssiN1sKW6T+cunjT1JbpP+szY17mluk/0/0ieveW6T84lX0pCJfpP+nXKG8Yl+k/35PLTSiX6T+L3ubHN5fpPy2Z6d9Gl+k/hu5AmFWX6T+XS0vzY5fpPxHnWPNxl+k/w0ismn+X6T8M0XrrjJfpP0tA7eeZl+k/TT4gkqaX6T/rdyTsspfpPy8O6ve+l+k/LwlXt8qX6T+3z04s1pfpP45CqVjhl+k/wCQzPuyX6T/ng67e9pfpP3sg0zsBmOk/FdZOVwuY6T/AA8YyFZjpP+Beyc8emOk/bu/yLyiY6T+sGK5UMZjpPzDwcz86mOk/I1q08UKY6T9ia9ZsS5jpP2fJOLJTmOk/7Acyw1uY6T9ZBBGhY5jpP+8+HU1rmOk//B+WyHKY6T+kvKUUepjpP3O2dDKBmOk/mDkoI4iY6T/dbt7njpjpP4esroGVmOk/BaSp8ZuY6T9rjNk4opjpP7lJQliomOk/6JDhUK6Y6T/ICK8jtJjpP6tnnNG5mOk/1o2VW7+Y6T9mOX/CxJjpP+q6NgfKmOk/PHKVKs+Y6T+oAW8t1JjpP4dJkRDZmOk/QGrE1N2Y6T/qwsp64pjpP4DsYAPnmOk/wbE9b+uY6T+dAxK/75jpP0XqiPPzmOk/3XJHDfiY6T+8MO8M/JjpP+9gOfP/mOk/W8fNwAOZ6T9BK0l2B5npP6pYRBQLmek/IzBUmw6Z6T8HtQkMEpnpP2Ia8mYVmek/Ws6WrBiZ6T8yhH3dG5npP9s8KPoemek/Dk4VAyKZ6T8EaL/4JJnpP4dIotsnmek/RRI7rCqZ6T98O/5qLZnpP1VDXRgwmek/g9PGtDKZ6T+uzaZANZnpPwVYZrw3mek/8OhrKDqZ6T/nURuFPJnpP3DJ1dI+mek/PfT5EUGZ6T9x7eNCQ5npP5aL7WVFmek/rYRwe0eZ6T8eIMODSZnpP8/kOH9Lmek/KiAjbk2Z6T8=\",\"dtype\":\"float64\",\"order\":\"little\",\"shape\":[400]}},\"selected\":{\"id\":\"1048\"},\"selection_policy\":{\"id\":\"1047\"}},\"id\":\"1034\",\"type\":\"ColumnDataSource\"},{\"attributes\":{\"axis\":{\"id\":\"1016\"},\"dimension\":1,\"ticker\":null},\"id\":\"1019\",\"type\":\"Grid\"},{\"attributes\":{\"label\":{\"value\":\"z\"},\"renderers\":[{\"id\":\"1055\"}]},\"id\":\"1070\",\"type\":\"LegendItem\"},{\"attributes\":{\"source\":{\"id\":\"1052\"}},\"id\":\"1056\",\"type\":\"CDSView\"},{\"attributes\":{},\"id\":\"1047\",\"type\":\"UnionRenderers\"},{\"attributes\":{\"data\":{\"x\":{\"__ndarray__\":\"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\",\"dtype\":\"float64\",\"order\":\"little\",\"shape\":[400]},\"y\":{\"__ndarray__\":\"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\",\"dtype\":\"float64\",\"order\":\"little\",\"shape\":[400]}},\"selected\":{\"id\":\"1068\"},\"selection_policy\":{\"id\":\"1067\"}},\"id\":\"1052\",\"type\":\"ColumnDataSource\"},{\"attributes\":{\"line_alpha\":0.1,\"line_color\":\"#1f77b3\",\"line_width\":2,\"x\":{\"field\":\"x\"},\"y\":{\"field\":\"y\"}},\"id\":\"1036\",\"type\":\"Line\"},{\"attributes\":{},\"id\":\"1017\",\"type\":\"BasicTicker\"},{\"attributes\":{\"line_color\":\"#ff7e0e\",\"line_width\":2,\"x\":{\"field\":\"x\"},\"y\":{\"field\":\"y\"}},\"id\":\"1053\",\"type\":\"Line\"},{\"attributes\":{\"line_alpha\":0.1,\"line_color\":\"#ff7e0e\",\"line_width\":2,\"x\":{\"field\":\"x\"},\"y\":{\"field\":\"y\"}},\"id\":\"1054\",\"type\":\"Line\"},{\"attributes\":{\"label\":{\"value\":\"y\"},\"renderers\":[{\"id\":\"1037\"}]},\"id\":\"1051\",\"type\":\"LegendItem\"},{\"attributes\":{\"overlay\":{\"id\":\"1026\"}},\"id\":\"1022\",\"type\":\"BoxZoomTool\"},{\"attributes\":{},\"id\":\"1025\",\"type\":\"HelpTool\"},{\"attributes\":{\"source\":{\"id\":\"1034\"}},\"id\":\"1038\",\"type\":\"CDSView\"},{\"attributes\":{},\"id\":\"1020\",\"type\":\"PanTool\"},{\"attributes\":{},\"id\":\"1045\",\"type\":\"BasicTickFormatter\"},{\"attributes\":{\"data_source\":{\"id\":\"1034\"},\"glyph\":{\"id\":\"1035\"},\"hover_glyph\":null,\"muted_glyph\":null,\"nonselection_glyph\":{\"id\":\"1036\"},\"view\":{\"id\":\"1038\"}},\"id\":\"1037\",\"type\":\"GlyphRenderer\"},{\"attributes\":{},\"id\":\"1023\",\"type\":\"SaveTool\"},{\"attributes\":{\"end\":10},\"id\":\"1004\",\"type\":\"Range1d\"},{\"attributes\":{},\"id\":\"1024\",\"type\":\"ResetTool\"},{\"attributes\":{},\"id\":\"1046\",\"type\":\"AllLabels\"},{\"attributes\":{},\"id\":\"1042\",\"type\":\"BasicTickFormatter\"},{\"attributes\":{},\"id\":\"1040\",\"type\":\"Title\"},{\"attributes\":{\"line_color\":\"#1f77b3\",\"line_width\":2,\"x\":{\"field\":\"x\"},\"y\":{\"field\":\"y\"}},\"id\":\"1035\",\"type\":\"Line\"},{\"attributes\":{},\"id\":\"1067\",\"type\":\"UnionRenderers\"}],\"root_ids\":[\"1003\"]},\"title\":\"Bokeh Application\",\"version\":\"2.3.0\"}};\n",
       "  var render_items = [{\"docid\":\"ebf7d0ae-b785-45f4-b0e8-8d8c8ea1d39e\",\"root_ids\":[\"1003\"],\"roots\":{\"1003\":\"91b241ff-b57b-4c48-8167-0f3842043261\"}}];\n",
       "  root.Bokeh.embed.embed_items_notebook(docs_json, render_items);\n",
       "\n",
       "  }\n",
       "  if (root.Bokeh !== undefined) {\n",
       "    embed_document(root);\n",
       "  } else {\n",
       "    var attempts = 0;\n",
       "    var timer = setInterval(function(root) {\n",
       "      if (root.Bokeh !== undefined) {\n",
       "        clearInterval(timer);\n",
       "        embed_document(root);\n",
       "      } else {\n",
       "        attempts++;\n",
       "        if (attempts > 100) {\n",
       "          clearInterval(timer);\n",
       "          console.log(\"Bokeh: ERROR: Unable to run BokehJS code because BokehJS library is missing\");\n",
       "        }\n",
       "      }\n",
       "    }, 10, root)\n",
       "  }\n",
       "})(window);"
      ],
      "application/vnd.bokehjs_exec.v0+json": ""
     },
     "metadata": {
      "application/vnd.bokehjs_exec.v0+json": {
       "id": "1003"
      }
     },
     "output_type": "display_data"
    }
   ],
   "source": [
    "p = cascade_response_plot()\n",
    "\n",
    "# Show plot\n",
    "bokeh.io.show(p)"
   ]
  },
  {
   "cell_type": "markdown",
   "metadata": {},
   "source": [
    "We see that the cascade acts as a delay for changes in $z$ as a result of input $x$."
   ]
  },
  {
   "cell_type": "markdown",
   "metadata": {},
   "source": [
    "## Interactive plotting and varying parameters\n",
    "\n",
    "Plotting with Bokeh in Jupyter notebooks allows for interactivity with plots that can help to rapidly gain insights about how parameter values might affect the dynamics. We have found that this is a useful tool to rapidly explore parameter dependence on circuit behavior. We will construct an interactive plot for the cascade circuit to demonstrate how it is done.\n",
    "\n",
    "For our interactivity, we will use [Panel](https://panel.holoviz.org). (Note that we imported Panel as `pn` at the beginning of this notebook and executed `pn.extension()` to enable Panel to work.) Panel allows convenient functionality for making interactive graphics. As you will see throughout the course, interactive graphics make it easier to explore how circuits work; you can interact directly with plots instead of having to re-run calculations and manually re-plot.\n",
    "\n",
    "<div class=\"alert alert-info\">\n",
    "\n",
    "**Note:** As of Panel version 0.10.3, Panel graphics do not natively render in JupyterLab version 3.0.0 and above. We expect this to be fixed in short order, so we proceed with code cells as we would once these kinks are ironed out in this and future lessons. \n",
    "   \n",
    "Note that because of this, the plots will not render in the rendered HTML version of this notebook. The plots would not be responsive anyway because there is no Python engine in the static HTML rendering. Nonetheless, as described below, you can still interact with your plots by serving them and using the `servable()` method of Panel objects.\n",
    "    \n",
    "</div>\n",
    "\n",
    "As a first step in creating a graphic, we create **sliders**, which enable us to graphically change values of parameters. I'll first build an example slider in Panel."
   ]
  },
  {
   "cell_type": "code",
   "execution_count": 8,
   "metadata": {},
   "outputs": [
    {
     "data": {},
     "metadata": {},
     "output_type": "display_data"
    },
    {
     "data": {
      "application/vnd.holoviews_exec.v0+json": "",
      "text/html": [
       "<div id='1149'>\n",
       "\n",
       "\n",
       "\n",
       "\n",
       "\n",
       "  <div class=\"bk-root\" id=\"56ee1f0b-5633-4d65-a9f6-77bcb88a23a2\" data-root-id=\"1149\"></div>\n",
       "</div>\n",
       "<script type=\"application/javascript\">(function(root) {\n",
       "  function embed_document(root) {\n",
       "    var docs_json = {\"f4bd4f5e-25a9-4dcb-bfde-a80d1aa54135\":{\"defs\":[{\"extends\":null,\"module\":null,\"name\":\"DataModel\",\"overrides\":[],\"properties\":[]}],\"roots\":{\"references\":[{\"attributes\":{\"client_comm_id\":\"95913bbef16b4515a915470fe8182cdb\",\"comm_id\":\"b39fd19fa4ec4a8e84ad88f1d1a49fd8\",\"plot_id\":\"1149\"},\"id\":\"1150\",\"type\":\"panel.models.comm_manager.CommManager\"},{\"attributes\":{\"reload\":false},\"id\":\"1151\",\"type\":\"panel.models.location.Location\"},{\"attributes\":{\"end\":1,\"margin\":[5,10,5,10],\"start\":0,\"step\":0.01,\"title\":\"example\",\"value\":0.5},\"id\":\"1149\",\"type\":\"Slider\"}],\"root_ids\":[\"1149\",\"1150\",\"1151\"]},\"title\":\"Bokeh Application\",\"version\":\"2.3.0\"}};\n",
       "    var render_items = [{\"docid\":\"f4bd4f5e-25a9-4dcb-bfde-a80d1aa54135\",\"root_ids\":[\"1149\"],\"roots\":{\"1149\":\"56ee1f0b-5633-4d65-a9f6-77bcb88a23a2\"}}];\n",
       "    root.Bokeh.embed.embed_items_notebook(docs_json, render_items);\n",
       "  }\n",
       "  if (root.Bokeh !== undefined && root.Bokeh.Panel !== undefined) {\n",
       "    embed_document(root);\n",
       "  } else {\n",
       "    var attempts = 0;\n",
       "    var timer = setInterval(function(root) {\n",
       "      if (root.Bokeh !== undefined && root.Bokeh.Panel !== undefined) {\n",
       "        clearInterval(timer);\n",
       "        embed_document(root);\n",
       "      } else if (document.readyState == \"complete\") {\n",
       "        attempts++;\n",
       "        if (attempts > 100) {\n",
       "          clearInterval(timer);\n",
       "          console.log(\"Bokeh: ERROR: Unable to run BokehJS code because BokehJS library is missing\");\n",
       "        }\n",
       "      }\n",
       "    }, 10, root)\n",
       "  }\n",
       "})(window);</script>"
      ],
      "text/plain": [
       "FloatSlider(name='example', step=0.01, value=0.5, value_throttled=0.5)"
      ]
     },
     "execution_count": 8,
     "metadata": {
      "application/vnd.holoviews_exec.v0+json": {
       "id": "1149"
      }
     },
     "output_type": "execute_result"
    }
   ],
   "source": [
    "pn.widgets.FloatSlider(name='example', start=0, end=1, step=0.01, value=0.5)"
   ]
  },
  {
   "cell_type": "markdown",
   "metadata": {},
   "source": [
    "We would like to build such sliders for all of the parameter of our model."
   ]
  },
  {
   "cell_type": "code",
   "execution_count": 9,
   "metadata": {},
   "outputs": [],
   "source": [
    "log_beta_slider = pn.widgets.FloatSlider(\n",
    "    name=\"log₁₀ β\", start=-1, end=2, step=0.1, value=0\n",
    ")\n",
    "log_gamma_slider = pn.widgets.FloatSlider(\n",
    "    name=\"log₁₀ γ\", start=-1, end=2, step=0.1, value=0\n",
    ")\n",
    "nx_slider = pn.widgets.FloatSlider(\n",
    "    name=\"nx\", start=0.1, end=10, step=0.1, value=2\n",
    ")\n",
    "ny_slider = pn.widgets.FloatSlider(\n",
    "    name=\"ny\", start=0.1, end=10, step=0.1, value=2\n",
    ")\n",
    "log_x0_slider = pn.widgets.FloatSlider(\n",
    "    name=\"log₁₀ x0\", start=-1, end=2, step=0.1, value=np.log10(2)\n",
    ")\n",
    "t_max_slider = pn.widgets.FloatSlider(\n",
    "    start=1, end=20, step=0.1, value=10, name=\"t_max\",\n",
    ")"
   ]
  },
  {
   "cell_type": "markdown",
   "metadata": {},
   "source": [
    "The `normalize` parameter is a binary choice, so we cannot use a slider for it. Instead, we can use a checkbox."
   ]
  },
  {
   "cell_type": "code",
   "execution_count": 10,
   "metadata": {},
   "outputs": [],
   "source": [
    "normalize_checkbox = pn.widgets.Checkbox(name='Normalize', value=False)"
   ]
  },
  {
   "cell_type": "markdown",
   "metadata": {},
   "source": [
    "Once the sliders and checkbox are built, adding the interactivity to the plot is as simple as adding a `@pn.depends()` decorator to the plotting function. Specifically, we set things up so that the parameters of the function that generates the plot depend on the values of the sliders. We simply add the decorator to the function we already wrote to do this."
   ]
  },
  {
   "cell_type": "code",
   "execution_count": 11,
   "metadata": {},
   "outputs": [],
   "source": [
    "@pn.depends(\n",
    "    log_beta_slider.param.value,\n",
    "    log_gamma_slider.param.value,\n",
    "    nx_slider.param.value,\n",
    "    ny_slider.param.value,\n",
    "    log_x0_slider.param.value,\n",
    "    t_max_slider.param.value,\n",
    "    normalize_checkbox.param.value,\n",
    ")\n",
    "def cascade_response_plot(\n",
    "    log_beta=0,\n",
    "    log_gamma=0,\n",
    "    n_x=2,\n",
    "    n_y=2,\n",
    "    log_x0=np.log10(2),\n",
    "    t_max=10,\n",
    "    normalize=False,\n",
    "):\n",
    "    # Package parameters into a tuple\n",
    "    args = (\n",
    "        10 ** log_beta,\n",
    "        10 ** log_gamma,\n",
    "        n_x,\n",
    "        n_y,\n",
    "        10 ** log_x0,\n",
    "    )\n",
    "\n",
    "    # Integrate ODES\n",
    "    t = np.linspace(0, t_max, 400)\n",
    "    yz = scipy.integrate.odeint(cascade_rhs, yz_0, t, args=args)\n",
    "    y, z = yz.transpose()\n",
    "\n",
    "    # Normalize Y and Z responses\n",
    "    if normalize:\n",
    "        y /= y.max()\n",
    "        z /= z.max()\n",
    "\n",
    "    # Set up plot\n",
    "    p = bokeh.plotting.figure(\n",
    "        frame_width=325,\n",
    "        frame_height=250,\n",
    "        x_axis_label=\"dimensionless time\",\n",
    "        y_axis_label=f\"{'normalized ' if normalize else ''}dimensionless y, z\",\n",
    "        x_range=[0, t_max],\n",
    "    )\n",
    "\n",
    "    # Populate glyphs\n",
    "    p.line(t, y, line_width=2, color=colors[0], legend_label=\"y\")\n",
    "    p.line(t, z, line_width=2, color=colors[1], legend_label=\"z\")\n",
    "\n",
    "    # Place the legend\n",
    "    p.legend.location = \"bottom_right\"\n",
    "\n",
    "    return p"
   ]
  },
  {
   "cell_type": "markdown",
   "metadata": {},
   "source": [
    "Now, we need to lay things out. We will construct the widgets (the sliders) in a column using the `pn.Column()` class and then build the plot next to the widgets using the `pn.Row()` class. I'll add a little spacer to keep things well-spaced.\n",
    "\n",
    "<!--\n",
    "**Note: The interactivity from Panel will not be available in the HTML version of this notebook because Python needs to be running to perform the updates. All subsequent interactive plots will appear static in the HTML rendering of this notebook.**\n",
    "-->"
   ]
  },
  {
   "cell_type": "code",
   "execution_count": 12,
   "metadata": {},
   "outputs": [],
   "source": [
    "widgets = pn.Column(\n",
    "    pn.Spacer(height=10),\n",
    "    log_beta_slider,\n",
    "    log_gamma_slider,    \n",
    "    nx_slider,\n",
    "    ny_slider,\n",
    "    t_max_slider,\n",
    "    log_x0_slider,\n",
    "    width=150,\n",
    ")\n",
    "\n",
    "left_column = pn.Column(\n",
    "    pn.Row(pn.Spacer(width=30), normalize_checkbox), cascade_response_plot,\n",
    ")\n",
    "\n",
    "# Final layout\n",
    "dashboard = pn.Row(left_column, pn.Spacer(width=20), widgets)"
   ]
  },
  {
   "cell_type": "markdown",
   "metadata": {},
   "source": [
    "To view the dashboard, we simple enter the name of the Panel object of the dashboard in a code cell and execute it. If we attach a `.servable()` call to it, it will still render in the notebook, but the graphic is also servable from the command line."
   ]
  },
  {
   "cell_type": "code",
   "execution_count": 13,
   "metadata": {},
   "outputs": [
    {
     "data": {},
     "metadata": {},
     "output_type": "display_data"
    },
    {
     "data": {
      "application/vnd.holoviews_exec.v0+json": "",
      "text/html": [
       "<div id='1220'>\n",
       "\n",
       "\n",
       "\n",
       "\n",
       "\n",
       "  <div class=\"bk-root\" id=\"dee69b79-a21e-4518-98c3-06c49831b976\" data-root-id=\"1220\"></div>\n",
       "</div>\n",
       "<script type=\"application/javascript\">(function(root) {\n",
       "  function embed_document(root) {\n",
       "    var docs_json = {\"d1c98a5e-06da-46a4-9641-9118d0b26794\":{\"defs\":[{\"extends\":null,\"module\":null,\"name\":\"DataModel\",\"overrides\":[],\"properties\":[]}],\"roots\":{\"references\":[{\"attributes\":{\"line_alpha\":0.1,\"line_color\":\"#ff7e0e\",\"line_width\":2,\"x\":{\"field\":\"x\"},\"y\":{\"field\":\"y\"}},\"id\":\"1203\",\"type\":\"Line\"},{\"attributes\":{\"children\":[{\"id\":\"1254\"},{\"id\":\"1255\"},{\"id\":\"1256\"},{\"id\":\"1257\"},{\"id\":\"1258\"},{\"id\":\"1259\"},{\"id\":\"1260\"}],\"margin\":[0,0,0,0],\"min_width\":150,\"name\":\"Column00019\",\"width\":150},\"id\":\"1253\",\"type\":\"Column\"},{\"attributes\":{\"line_color\":\"#1f77b3\",\"line_width\":2,\"x\":{\"field\":\"x\"},\"y\":{\"field\":\"y\"}},\"id\":\"1184\",\"type\":\"Line\"},{\"attributes\":{\"label\":{\"value\":\"y\"},\"renderers\":[{\"id\":\"1186\"}]},\"id\":\"1200\",\"type\":\"LegendItem\"},{\"attributes\":{},\"id\":\"1189\",\"type\":\"Title\"},{\"attributes\":{\"data\":{\"x\":{\"__ndarray__\":\"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\",\"dtype\":\"float64\",\"order\":\"little\",\"shape\":[400]},\"y\":{\"__ndarray__\":\"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\",\"dtype\":\"float64\",\"order\":\"little\",\"shape\":[400]}},\"selected\":{\"id\":\"1217\"},\"selection_policy\":{\"id\":\"1216\"}},\"id\":\"1201\",\"type\":\"ColumnDataSource\"},{\"attributes\":{\"line_color\":\"#ff7e0e\",\"line_width\":2,\"x\":{\"field\":\"x\"},\"y\":{\"field\":\"y\"}},\"id\":\"1202\",\"type\":\"Line\"},{\"attributes\":{\"client_comm_id\":\"5241fdc88fa64d9bad9b395b10c31f51\",\"comm_id\":\"3e422e5ebfac4566902d5478d117944e\",\"plot_id\":\"1220\"},\"id\":\"1300\",\"type\":\"panel.models.comm_manager.CommManager\"},{\"attributes\":{\"children\":[{\"id\":\"1221\"},{\"id\":\"1252\"},{\"id\":\"1253\"}],\"margin\":[0,0,0,0],\"name\":\"Row00031\"},\"id\":\"1220\",\"type\":\"Row\"},{\"attributes\":{\"end\":2,\"margin\":[5,10,5,10],\"start\":-1,\"step\":0.1,\"title\":\"log\\u2081\\u2080 \\u03b2\",\"value\":0},\"id\":\"1255\",\"type\":\"Slider\"},{\"attributes\":{},\"id\":\"1216\",\"type\":\"UnionRenderers\"},{\"attributes\":{\"end\":10,\"margin\":[5,10,5,10],\"start\":0.1,\"step\":0.1,\"title\":\"nx\",\"value\":2},\"id\":\"1257\",\"type\":\"Slider\"},{\"attributes\":{},\"id\":\"1155\",\"type\":\"DataRange1d\"},{\"attributes\":{},\"id\":\"1191\",\"type\":\"BasicTickFormatter\"},{\"attributes\":{},\"id\":\"1217\",\"type\":\"Selection\"},{\"attributes\":{},\"id\":\"1192\",\"type\":\"AllLabels\"},{\"attributes\":{\"bottom_units\":\"screen\",\"fill_alpha\":0.5,\"fill_color\":\"lightgrey\",\"left_units\":\"screen\",\"level\":\"overlay\",\"line_alpha\":1.0,\"line_color\":\"black\",\"line_dash\":[4,4],\"line_width\":2,\"right_units\":\"screen\",\"syncable\":false,\"top_units\":\"screen\"},\"id\":\"1175\",\"type\":\"BoxAnnotation\"},{\"attributes\":{},\"id\":\"1159\",\"type\":\"LinearScale\"},{\"attributes\":{\"height\":10,\"margin\":[5,5,5,5],\"min_height\":10,\"name\":\"Spacer00018\"},\"id\":\"1254\",\"type\":\"Spacer\"},{\"attributes\":{},\"id\":\"1194\",\"type\":\"BasicTickFormatter\"},{\"attributes\":{\"end\":2,\"margin\":[5,10,5,10],\"start\":-1,\"step\":0.1,\"title\":\"log\\u2081\\u2080 \\u03b3\",\"value\":0},\"id\":\"1256\",\"type\":\"Slider\"},{\"attributes\":{\"below\":[{\"id\":\"1161\"}],\"center\":[{\"id\":\"1164\"},{\"id\":\"1168\"},{\"id\":\"1199\"}],\"frame_height\":250,\"frame_width\":325,\"left\":[{\"id\":\"1165\"}],\"renderers\":[{\"id\":\"1186\"},{\"id\":\"1204\"}],\"title\":{\"id\":\"1189\"},\"toolbar\":{\"id\":\"1176\"},\"x_range\":{\"id\":\"1153\"},\"x_scale\":{\"id\":\"1157\"},\"y_range\":{\"id\":\"1155\"},\"y_scale\":{\"id\":\"1159\"}},\"id\":\"1152\",\"subtype\":\"Figure\",\"type\":\"Plot\"},{\"attributes\":{},\"id\":\"1195\",\"type\":\"AllLabels\"},{\"attributes\":{\"overlay\":{\"id\":\"1175\"}},\"id\":\"1171\",\"type\":\"BoxZoomTool\"},{\"attributes\":{},\"id\":\"1173\",\"type\":\"ResetTool\"},{\"attributes\":{\"end\":10,\"margin\":[5,10,5,10],\"start\":0.1,\"step\":0.1,\"title\":\"ny\",\"value\":2},\"id\":\"1258\",\"type\":\"Slider\"},{\"attributes\":{},\"id\":\"1169\",\"type\":\"PanTool\"},{\"attributes\":{\"end\":20,\"margin\":[5,10,5,10],\"start\":1,\"step\":0.1,\"title\":\"t_max\",\"value\":10},\"id\":\"1259\",\"type\":\"Slider\"},{\"attributes\":{\"end\":2,\"margin\":[5,10,5,10],\"start\":-1,\"step\":0.1,\"title\":\"log\\u2081\\u2080 x0\",\"value\":0.3010299956639812},\"id\":\"1260\",\"type\":\"Slider\"},{\"attributes\":{},\"id\":\"1166\",\"type\":\"BasicTicker\"},{\"attributes\":{\"data_source\":{\"id\":\"1183\"},\"glyph\":{\"id\":\"1184\"},\"hover_glyph\":null,\"muted_glyph\":null,\"nonselection_glyph\":{\"id\":\"1185\"},\"view\":{\"id\":\"1187\"}},\"id\":\"1186\",\"type\":\"GlyphRenderer\"},{\"attributes\":{},\"id\":\"1172\",\"type\":\"SaveTool\"},{\"attributes\":{},\"id\":\"1196\",\"type\":\"UnionRenderers\"},{\"attributes\":{\"active_multi\":null,\"tools\":[{\"id\":\"1169\"},{\"id\":\"1170\"},{\"id\":\"1171\"},{\"id\":\"1172\"},{\"id\":\"1173\"},{\"id\":\"1174\"}]},\"id\":\"1176\",\"type\":\"Toolbar\"},{\"attributes\":{},\"id\":\"1197\",\"type\":\"Selection\"},{\"attributes\":{},\"id\":\"1157\",\"type\":\"LinearScale\"},{\"attributes\":{},\"id\":\"1162\",\"type\":\"BasicTicker\"},{\"attributes\":{\"margin\":[5,5,5,5],\"min_width\":20,\"name\":\"Spacer00030\",\"width\":20},\"id\":\"1252\",\"type\":\"Spacer\"},{\"attributes\":{\"axis\":{\"id\":\"1161\"},\"ticker\":null},\"id\":\"1164\",\"type\":\"Grid\"},{\"attributes\":{\"data\":{\"x\":{\"__ndarray__\":\"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\",\"dtype\":\"float64\",\"order\":\"little\",\"shape\":[400]},\"y\":{\"__ndarray__\":\"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\",\"dtype\":\"float64\",\"order\":\"little\",\"shape\":[400]}},\"selected\":{\"id\":\"1197\"},\"selection_policy\":{\"id\":\"1196\"}},\"id\":\"1183\",\"type\":\"ColumnDataSource\"},{\"attributes\":{\"axis\":{\"id\":\"1165\"},\"dimension\":1,\"ticker\":null},\"id\":\"1168\",\"type\":\"Grid\"},{\"attributes\":{},\"id\":\"1174\",\"type\":\"HelpTool\"},{\"attributes\":{\"children\":[{\"id\":\"1223\"},{\"id\":\"1224\"}],\"margin\":[0,0,0,0],\"name\":\"Row00021\"},\"id\":\"1222\",\"type\":\"Row\"},{\"attributes\":{\"end\":10},\"id\":\"1153\",\"type\":\"Range1d\"},{\"attributes\":{},\"id\":\"1170\",\"type\":\"WheelZoomTool\"},{\"attributes\":{\"axis_label\":\"dimensionless y, z\",\"formatter\":{\"id\":\"1191\"},\"major_label_policy\":{\"id\":\"1192\"},\"ticker\":{\"id\":\"1166\"}},\"id\":\"1165\",\"type\":\"LinearAxis\"},{\"attributes\":{\"data_source\":{\"id\":\"1201\"},\"glyph\":{\"id\":\"1202\"},\"hover_glyph\":null,\"muted_glyph\":null,\"nonselection_glyph\":{\"id\":\"1203\"},\"view\":{\"id\":\"1205\"}},\"id\":\"1204\",\"type\":\"GlyphRenderer\"},{\"attributes\":{\"labels\":[\"Normalize\"],\"margin\":[5,10,5,10]},\"id\":\"1224\",\"type\":\"CheckboxGroup\"},{\"attributes\":{\"axis_label\":\"dimensionless time\",\"formatter\":{\"id\":\"1194\"},\"major_label_policy\":{\"id\":\"1195\"},\"ticker\":{\"id\":\"1162\"}},\"id\":\"1161\",\"type\":\"LinearAxis\"},{\"attributes\":{\"children\":[{\"id\":\"1222\"},{\"id\":\"1225\"}],\"margin\":[0,0,0,0],\"name\":\"Column00029\"},\"id\":\"1221\",\"type\":\"Column\"},{\"attributes\":{\"children\":[{\"id\":\"1152\"}],\"margin\":[0,0,0,0],\"name\":\"Row00026\"},\"id\":\"1225\",\"type\":\"Row\"},{\"attributes\":{\"source\":{\"id\":\"1201\"}},\"id\":\"1205\",\"type\":\"CDSView\"},{\"attributes\":{\"source\":{\"id\":\"1183\"}},\"id\":\"1187\",\"type\":\"CDSView\"},{\"attributes\":{\"margin\":[5,5,5,5],\"min_width\":30,\"name\":\"Spacer00020\",\"width\":30},\"id\":\"1223\",\"type\":\"Spacer\"},{\"attributes\":{\"line_alpha\":0.1,\"line_color\":\"#1f77b3\",\"line_width\":2,\"x\":{\"field\":\"x\"},\"y\":{\"field\":\"y\"}},\"id\":\"1185\",\"type\":\"Line\"},{\"attributes\":{\"label\":{\"value\":\"z\"},\"renderers\":[{\"id\":\"1204\"}]},\"id\":\"1219\",\"type\":\"LegendItem\"},{\"attributes\":{\"items\":[{\"id\":\"1200\"},{\"id\":\"1219\"}],\"location\":\"bottom_right\"},\"id\":\"1199\",\"type\":\"Legend\"}],\"root_ids\":[\"1220\",\"1300\"]},\"title\":\"Bokeh Application\",\"version\":\"2.3.0\"}};\n",
       "    var render_items = [{\"docid\":\"d1c98a5e-06da-46a4-9641-9118d0b26794\",\"root_ids\":[\"1220\"],\"roots\":{\"1220\":\"dee69b79-a21e-4518-98c3-06c49831b976\"}}];\n",
       "    root.Bokeh.embed.embed_items_notebook(docs_json, render_items);\n",
       "  }\n",
       "  if (root.Bokeh !== undefined && root.Bokeh.Panel !== undefined) {\n",
       "    embed_document(root);\n",
       "  } else {\n",
       "    var attempts = 0;\n",
       "    var timer = setInterval(function(root) {\n",
       "      if (root.Bokeh !== undefined && root.Bokeh.Panel !== undefined) {\n",
       "        clearInterval(timer);\n",
       "        embed_document(root);\n",
       "      } else if (document.readyState == \"complete\") {\n",
       "        attempts++;\n",
       "        if (attempts > 100) {\n",
       "          clearInterval(timer);\n",
       "          console.log(\"Bokeh: ERROR: Unable to run BokehJS code because BokehJS library is missing\");\n",
       "        }\n",
       "      }\n",
       "    }, 10, root)\n",
       "  }\n",
       "})(window);</script>"
      ],
      "text/plain": [
       "Row\n",
       "    [0] Column\n",
       "        [0] Row\n",
       "            [0] Spacer(width=30)\n",
       "            [1] Checkbox(name='Normalize')\n",
       "        [1] ParamFunction(function)\n",
       "    [1] Spacer(width=20)\n",
       "    [2] Column(width=150)\n",
       "        [0] Spacer(height=10)\n",
       "        [1] FloatSlider(end=2, name='log₁₀ β', start=-1, value_throttled=0)\n",
       "        [2] FloatSlider(end=2, name='log₁₀ γ', start=-1, value_throttled=0)\n",
       "        [3] FloatSlider(end=10, name='nx', start=0.1, value=2, value_throttled=2)\n",
       "        [4] FloatSlider(end=10, name='ny', start=0.1, value=2, value_throttled=2)\n",
       "        [5] FloatSlider(end=20, name='t_max', start=1, value=10, value_throttled=10)\n",
       "        [6] FloatSlider(end=2, name='log₁₀ x0', start=-1, value=0.3010299956639812, value_throttled=0.3010299956639812)"
      ]
     },
     "execution_count": 13,
     "metadata": {
      "application/vnd.holoviews_exec.v0+json": {
       "id": "1220"
      }
     },
     "output_type": "execute_result"
    }
   ],
   "source": [
    "dashboard.servable()"
   ]
  },
  {
   "cell_type": "markdown",
   "metadata": {},
   "source": [
    "To serve the dashboard from the command line, you can enter the following:\n",
    "\n",
    "    panel serve name_of_the_notebook.ipynb --show\n",
    "    \n",
    "This will open your default browser (Firefox or Chrome recommended) and the dashboard will be displayed along in a browser tab and be fully interactive.\n",
    "\n",
    "Importantly, when exploring the plot interactively, we see that when Y cooperatively activates Z (that is, $n_y$ is large), the delay is longer. The delay is also naturally longer as $\\gamma$ gets small. This makes sense, since $\\gamma$ is the ratio of the decay rate of Z to that of Y. As we saw in the previous lesson, the decay rate sets the speed of the response, and if Z decays more slowly than Y, its dynamics will be slower.\n",
    "\n",
    "Note that the above conclusions are clearer when we plot the normalized curves."
   ]
  },
  {
   "cell_type": "markdown",
   "metadata": {},
   "source": [
    "## Speeding up interactions and Hill functions\n",
    "\n",
    "The process of building the interactive plot may have seemed like a lot of steps. However, if we look back at what we did to build it, we did the following.\n",
    "\n",
    "1. Wrote a function to make a plot.\n",
    "2. Built widgets to control the parameters of the plot.\n",
    "3. Make a layout positioning the plot(s) and widgets.\n",
    "\n",
    "You pretty much do step 1 whenever you make any plot. Panel makes the interactivity easy by providing widgets and function decorators.\n",
    "\n",
    "When we built the plots above, we wrote a function that constructs a new plot every time we change a parameter value. This works well, but it can become slow, since we are re-generating the entire graphic with each update. To have faster responses, we could instead update only the *data* that is plotted.\n",
    "\n",
    "To illustrate how this works, and to get a feel for Hill functions in the meantime, we can look at how tuning the Hill coefficient and Hill $k$ values affect the shape of a Hill function.\n",
    "\n",
    "We start by writing a function to make a plot of an increasing (in blue) and decreasing (in orange) Hill function. We assume that $k$ and the concentration $x$ are in the same (unspecified) units. We will not need any Panel decorator here, as will become clear momentarily."
   ]
  },
  {
   "cell_type": "code",
   "execution_count": 14,
   "metadata": {},
   "outputs": [],
   "source": [
    "def hill_plot(k=1, n=1):\n",
    "    # Set up plot\n",
    "    p = bokeh.plotting.figure(\n",
    "        frame_width=450,\n",
    "        frame_height=250,\n",
    "        x_axis_label=\"x\",\n",
    "        y_axis_label=\"f(x;k,n)\",\n",
    "        x_range=[0, 10],\n",
    "    )\n",
    "\n",
    "    # Set up empty data source\n",
    "    x = np.linspace(0, 10, 400)\n",
    "    y_decreasing = 1 / (1 + (x / k) ** n)\n",
    "    y_increasing = 1 - y_decreasing\n",
    "    source = bokeh.models.ColumnDataSource(\n",
    "        dict(x=x, y_increasing=y_increasing, y_decreasing=y_decreasing)\n",
    "    )\n",
    "\n",
    "    # Populate glyphs\n",
    "    p.line(\"x\", \"y_increasing\", source=source, line_width=2, color=colors[0])\n",
    "    p.line(\"x\", \"y_decreasing\", source=source, line_width=2, color=colors[1])\n",
    "\n",
    "    return p"
   ]
  },
  {
   "cell_type": "markdown",
   "metadata": {},
   "source": [
    "Next, we can build sliders for $k$ and $n$."
   ]
  },
  {
   "cell_type": "code",
   "execution_count": 15,
   "metadata": {},
   "outputs": [],
   "source": [
    "k_slider = pn.widgets.FloatSlider(\n",
    "    name=\"k\", start=0.1, end=10, step=0.1, value=1, width=150\n",
    ")\n",
    "n_slider = pn.widgets.FloatSlider(\n",
    "    name=\"n\", start=0.1, end=10, step=0.1, value=1, width=150\n",
    ")"
   ]
  },
  {
   "cell_type": "markdown",
   "metadata": {},
   "source": [
    "Next, we need to make sure the Bokeh plot is in a Panel **pane**, so that we can link it to the slider, which we need to do explicitly since we're updating the data source and not just replotting."
   ]
  },
  {
   "cell_type": "code",
   "execution_count": 16,
   "metadata": {},
   "outputs": [],
   "source": [
    "p_pane = pn.pane.Bokeh(hill_plot())"
   ]
  },
  {
   "cell_type": "markdown",
   "metadata": {},
   "source": [
    "Next, we need a **callback**. This is a function that gets executed every time the slider changes. In our previous example, by default, the callback was to regenerate the entire plot. Here, we update the data source in our callback. We have to get into the guts of the Bokeh figure, pulling out the glyph renderer and adjusting its properties, including its data source."
   ]
  },
  {
   "cell_type": "code",
   "execution_count": 17,
   "metadata": {},
   "outputs": [],
   "source": [
    "def k_callback(target, event):\n",
    "    # New value of k\n",
    "    k = event.new\n",
    "\n",
    "    # Fetch value of n\n",
    "    n = n_slider.value\n",
    "\n",
    "    # Extract data source\n",
    "    gr = target.object.renderers[0]\n",
    "    source = gr.data_source\n",
    "\n",
    "    # Update data source\n",
    "    x = source.data[\"x\"]\n",
    "    source.data[\"y_decreasing\"] = 1 / (1 + (x / k) ** n)\n",
    "    source.data[\"y_increasing\"] = 1 - source.data[\"y_decreasing\"]\n",
    "\n",
    "\n",
    "def n_callback(target, event):\n",
    "    # Fetch value of k\n",
    "    k = k_slider.value\n",
    "\n",
    "    # New value of n\n",
    "    n = event.new\n",
    "\n",
    "    # Extract data source\n",
    "    gr = target.object.renderers[0]\n",
    "    source = gr.data_source\n",
    "\n",
    "    # Update data source\n",
    "    x = source.data[\"x\"]\n",
    "    source.data[\"y_decreasing\"] = 1 / (1 + (x / k) ** n)\n",
    "    source.data[\"y_increasing\"] = 1 - source.data[\"y_decreasing\"]"
   ]
  },
  {
   "cell_type": "markdown",
   "metadata": {},
   "source": [
    "Finally, we need to **link** the sliders with the plot."
   ]
  },
  {
   "cell_type": "code",
   "execution_count": 18,
   "metadata": {},
   "outputs": [
    {
     "data": {
      "text/plain": [
       "Watcher(inst=FloatSlider(end=10, name='n', start=0.1, value=1, value_throttled=1, width=150), cls=<class 'panel.widgets.slider.FloatSlider'>, fn=<function Reactive.link.<locals>.link at 0x7fb6314561f0>, mode='args', onlychanged=True, parameter_names=('value',), what='value', queued=False)"
      ]
     },
     "execution_count": 18,
     "metadata": {},
     "output_type": "execute_result"
    }
   ],
   "source": [
    "k_slider.link(p_pane, callbacks={'value': k_callback})\n",
    "n_slider.link(p_pane, callbacks={'value': n_callback})"
   ]
  },
  {
   "cell_type": "markdown",
   "metadata": {},
   "source": [
    "The result that was printed to the screen simply says that we have set up a **watcher** so that the plot will get updated whenever the slider is changed. Now, we can look at our result! (Note that we added `.servable()` so we can serve up this graphic as well. If we serve this notebook from the command line, both this interactive graphic and the dashboard for the cascade we built above will be displayed.)"
   ]
  },
  {
   "cell_type": "code",
   "execution_count": 19,
   "metadata": {},
   "outputs": [
    {
     "data": {},
     "metadata": {},
     "output_type": "display_data"
    },
    {
     "data": {
      "application/vnd.holoviews_exec.v0+json": "",
      "text/html": [
       "<div id='1408'>\n",
       "\n",
       "\n",
       "\n",
       "\n",
       "\n",
       "  <div class=\"bk-root\" id=\"b6cb4176-4a3f-44cf-aa16-b9c684e96f31\" data-root-id=\"1408\"></div>\n",
       "</div>\n",
       "<script type=\"application/javascript\">(function(root) {\n",
       "  function embed_document(root) {\n",
       "    var docs_json = {\"37a8fa8c-57e7-4036-bc92-f0d5f9e5e1f6\":{\"defs\":[{\"extends\":null,\"module\":null,\"name\":\"DataModel\",\"overrides\":[],\"properties\":[]}],\"roots\":{\"references\":[{\"attributes\":{\"source\":{\"id\":\"1397\"}},\"id\":\"1407\",\"type\":\"CDSView\"},{\"attributes\":{\"client_comm_id\":\"83dbde50d4c34cdab092e060a2f1d1d1\",\"comm_id\":\"009cede48aa749e7841d2d094fe5c44d\",\"plot_id\":\"1408\"},\"id\":\"1472\",\"type\":\"panel.models.comm_manager.CommManager\"},{\"attributes\":{\"axis\":{\"id\":\"1379\"},\"dimension\":1,\"ticker\":null},\"id\":\"1382\",\"type\":\"Grid\"},{\"attributes\":{\"children\":[{\"id\":\"1435\"},{\"id\":\"1436\"},{\"id\":\"1437\"},{\"id\":\"1438\"}],\"margin\":[0,0,0,0],\"name\":\"Column00042\"},\"id\":\"1434\",\"type\":\"Column\"},{\"attributes\":{},\"id\":\"1419\",\"type\":\"UnionRenderers\"},{\"attributes\":{\"axis\":{\"id\":\"1375\"},\"ticker\":null},\"id\":\"1378\",\"type\":\"Grid\"},{\"attributes\":{\"axis_label\":\"f(x;k,n)\",\"formatter\":{\"id\":\"1414\"},\"major_label_policy\":{\"id\":\"1415\"},\"ticker\":{\"id\":\"1380\"}},\"id\":\"1379\",\"type\":\"LinearAxis\"},{\"attributes\":{\"bottom_units\":\"screen\",\"fill_alpha\":0.5,\"fill_color\":\"lightgrey\",\"left_units\":\"screen\",\"level\":\"overlay\",\"line_alpha\":1.0,\"line_color\":\"black\",\"line_dash\":[4,4],\"line_width\":2,\"right_units\":\"screen\",\"syncable\":false,\"top_units\":\"screen\"},\"id\":\"1389\",\"type\":\"BoxAnnotation\"},{\"attributes\":{},\"id\":\"1384\",\"type\":\"WheelZoomTool\"},{\"attributes\":{},\"id\":\"1418\",\"type\":\"AllLabels\"},{\"attributes\":{\"children\":[{\"id\":\"1409\"},{\"id\":\"1410\"}],\"margin\":[0,0,0,0],\"name\":\"Column00044\"},\"id\":\"1408\",\"type\":\"Column\"},{\"attributes\":{\"height\":40,\"margin\":[5,5,5,5],\"min_height\":40,\"name\":\"Spacer00040\"},\"id\":\"1435\",\"type\":\"Spacer\"},{\"attributes\":{\"end\":10},\"id\":\"1367\",\"type\":\"Range1d\"},{\"attributes\":{\"margin\":[5,5,5,5],\"min_width\":15,\"name\":\"Spacer00039\",\"width\":15},\"id\":\"1433\",\"type\":\"Spacer\"},{\"attributes\":{\"below\":[{\"id\":\"1375\"}],\"center\":[{\"id\":\"1378\"},{\"id\":\"1382\"}],\"frame_height\":250,\"frame_width\":450,\"left\":[{\"id\":\"1379\"}],\"renderers\":[{\"id\":\"1401\"},{\"id\":\"1406\"}],\"title\":{\"id\":\"1412\"},\"toolbar\":{\"id\":\"1390\"},\"x_range\":{\"id\":\"1367\"},\"x_scale\":{\"id\":\"1371\"},\"y_range\":{\"id\":\"1369\"},\"y_scale\":{\"id\":\"1373\"}},\"id\":\"1366\",\"subtype\":\"Figure\",\"type\":\"Plot\"},{\"attributes\":{},\"id\":\"1373\",\"type\":\"LinearScale\"},{\"attributes\":{\"height\":15,\"margin\":[5,5,5,5],\"min_height\":15,\"name\":\"Spacer00041\"},\"id\":\"1437\",\"type\":\"Spacer\"},{\"attributes\":{},\"id\":\"1371\",\"type\":\"LinearScale\"},{\"attributes\":{},\"id\":\"1417\",\"type\":\"BasicTickFormatter\"},{\"attributes\":{},\"id\":\"1420\",\"type\":\"Selection\"},{\"attributes\":{\"data_source\":{\"id\":\"1397\"},\"glyph\":{\"id\":\"1399\"},\"hover_glyph\":null,\"muted_glyph\":null,\"nonselection_glyph\":{\"id\":\"1400\"},\"view\":{\"id\":\"1402\"}},\"id\":\"1401\",\"type\":\"GlyphRenderer\"},{\"attributes\":{\"children\":[{\"id\":\"1366\"},{\"id\":\"1433\"},{\"id\":\"1434\"}],\"margin\":[0,0,0,0],\"name\":\"Row00043\"},\"id\":\"1410\",\"type\":\"Row\"},{\"attributes\":{},\"id\":\"1369\",\"type\":\"DataRange1d\"},{\"attributes\":{\"axis_label\":\"x\",\"formatter\":{\"id\":\"1417\"},\"major_label_policy\":{\"id\":\"1418\"},\"ticker\":{\"id\":\"1376\"}},\"id\":\"1375\",\"type\":\"LinearAxis\"},{\"attributes\":{\"height\":30,\"margin\":[5,5,5,5],\"min_height\":30,\"name\":\"Spacer00038\"},\"id\":\"1409\",\"type\":\"Spacer\"},{\"attributes\":{},\"id\":\"1376\",\"type\":\"BasicTicker\"},{\"attributes\":{\"data\":{\"x\":{\"__ndarray__\":\"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\",\"dtype\":\"float64\",\"order\":\"little\",\"shape\":[400]},\"y_decreasing\":{\"__ndarray__\":\"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\",\"dtype\":\"float64\",\"order\":\"little\",\"shape\":[400]},\"y_increasing\":{\"__ndarray__\":\"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\",\"dtype\":\"float64\",\"order\":\"little\",\"shape\":[400]}},\"selected\":{\"id\":\"1420\"},\"selection_policy\":{\"id\":\"1419\"}},\"id\":\"1397\",\"type\":\"ColumnDataSource\"},{\"attributes\":{\"active_multi\":null,\"tools\":[{\"id\":\"1383\"},{\"id\":\"1384\"},{\"id\":\"1385\"},{\"id\":\"1386\"},{\"id\":\"1387\"},{\"id\":\"1388\"}]},\"id\":\"1390\",\"type\":\"Toolbar\"},{\"attributes\":{\"end\":10,\"margin\":[5,10,5,10],\"min_width\":150,\"start\":0.1,\"step\":0.1,\"title\":\"n\",\"value\":1,\"width\":150},\"id\":\"1438\",\"type\":\"Slider\"},{\"attributes\":{},\"id\":\"1383\",\"type\":\"PanTool\"},{\"attributes\":{\"end\":10,\"margin\":[5,10,5,10],\"min_width\":150,\"start\":0.1,\"step\":0.1,\"title\":\"k\",\"value\":1,\"width\":150},\"id\":\"1436\",\"type\":\"Slider\"},{\"attributes\":{},\"id\":\"1386\",\"type\":\"SaveTool\"},{\"attributes\":{\"line_alpha\":0.1,\"line_color\":\"#1f77b3\",\"line_width\":2,\"x\":{\"field\":\"x\"},\"y\":{\"field\":\"y_increasing\"}},\"id\":\"1400\",\"type\":\"Line\"},{\"attributes\":{\"data_source\":{\"id\":\"1397\"},\"glyph\":{\"id\":\"1404\"},\"hover_glyph\":null,\"muted_glyph\":null,\"nonselection_glyph\":{\"id\":\"1405\"},\"view\":{\"id\":\"1407\"}},\"id\":\"1406\",\"type\":\"GlyphRenderer\"},{\"attributes\":{\"line_color\":\"#1f77b3\",\"line_width\":2,\"x\":{\"field\":\"x\"},\"y\":{\"field\":\"y_increasing\"}},\"id\":\"1399\",\"type\":\"Line\"},{\"attributes\":{},\"id\":\"1414\",\"type\":\"BasicTickFormatter\"},{\"attributes\":{},\"id\":\"1412\",\"type\":\"Title\"},{\"attributes\":{\"source\":{\"id\":\"1397\"}},\"id\":\"1402\",\"type\":\"CDSView\"},{\"attributes\":{\"overlay\":{\"id\":\"1389\"}},\"id\":\"1385\",\"type\":\"BoxZoomTool\"},{\"attributes\":{\"line_color\":\"#ff7e0e\",\"line_width\":2,\"x\":{\"field\":\"x\"},\"y\":{\"field\":\"y_decreasing\"}},\"id\":\"1404\",\"type\":\"Line\"},{\"attributes\":{},\"id\":\"1415\",\"type\":\"AllLabels\"},{\"attributes\":{},\"id\":\"1388\",\"type\":\"HelpTool\"},{\"attributes\":{},\"id\":\"1387\",\"type\":\"ResetTool\"},{\"attributes\":{},\"id\":\"1380\",\"type\":\"BasicTicker\"},{\"attributes\":{\"line_alpha\":0.1,\"line_color\":\"#ff7e0e\",\"line_width\":2,\"x\":{\"field\":\"x\"},\"y\":{\"field\":\"y_decreasing\"}},\"id\":\"1405\",\"type\":\"Line\"}],\"root_ids\":[\"1408\",\"1472\"]},\"title\":\"Bokeh Application\",\"version\":\"2.3.0\"}};\n",
       "    var render_items = [{\"docid\":\"37a8fa8c-57e7-4036-bc92-f0d5f9e5e1f6\",\"root_ids\":[\"1408\"],\"roots\":{\"1408\":\"b6cb4176-4a3f-44cf-aa16-b9c684e96f31\"}}];\n",
       "    root.Bokeh.embed.embed_items_notebook(docs_json, render_items);\n",
       "  }\n",
       "  if (root.Bokeh !== undefined && root.Bokeh.Panel !== undefined) {\n",
       "    embed_document(root);\n",
       "  } else {\n",
       "    var attempts = 0;\n",
       "    var timer = setInterval(function(root) {\n",
       "      if (root.Bokeh !== undefined && root.Bokeh.Panel !== undefined) {\n",
       "        clearInterval(timer);\n",
       "        embed_document(root);\n",
       "      } else if (document.readyState == \"complete\") {\n",
       "        attempts++;\n",
       "        if (attempts > 100) {\n",
       "          clearInterval(timer);\n",
       "          console.log(\"Bokeh: ERROR: Unable to run BokehJS code because BokehJS library is missing\");\n",
       "        }\n",
       "      }\n",
       "    }, 10, root)\n",
       "  }\n",
       "})(window);</script>"
      ],
      "text/plain": [
       "Column\n",
       "    [0] Spacer(height=30)\n",
       "    [1] Row\n",
       "        [0] Bokeh(Figure)\n",
       "        [1] Spacer(width=15)\n",
       "        [2] Column\n",
       "            [0] Spacer(height=40)\n",
       "            [1] FloatSlider(end=10, name='k', start=0.1, value=1, value_throttled=1, width=150)\n",
       "            [2] Spacer(height=15)\n",
       "            [3] FloatSlider(end=10, name='n', start=0.1, value=1, value_throttled=1, width=150)"
      ]
     },
     "execution_count": 19,
     "metadata": {
      "application/vnd.holoviews_exec.v0+json": {
       "id": "1408"
      }
     },
     "output_type": "execute_result"
    }
   ],
   "source": [
    "pn.Column(\n",
    "    pn.Spacer(height=30),\n",
    "    pn.Row(\n",
    "        p_pane,\n",
    "        pn.Spacer(width=15),\n",
    "        pn.Column(pn.Spacer(height=40), k_slider, pn.Spacer(height=15), n_slider),\n",
    "    ),\n",
    ").servable()"
   ]
  },
  {
   "cell_type": "markdown",
   "metadata": {},
   "source": [
    "The response of sliders constructed this way can be much quicker than in the simpler method we did before, which regenerates the plot each time the slider changes value. However, as you can see from this example, you have to write more code to implement the faster-responding sliders. Going forward, we will almost always use the simpler construction, where we simple write a function that generates a plot and include that in our Panel layout, though in some applications, speed matters."
   ]
  },
  {
   "cell_type": "markdown",
   "metadata": {},
   "source": [
    "## Duration of input\n",
    "\n",
    "Coming back to our cascade circuit, now imagine that the input is a pulse of duration $\\tau$.  We can write a function for this and plot it."
   ]
  },
  {
   "cell_type": "code",
   "execution_count": 20,
   "metadata": {},
   "outputs": [
    {
     "data": {
      "text/html": [
       "\n",
       "\n",
       "\n",
       "\n",
       "\n",
       "\n",
       "  <div class=\"bk-root\" id=\"0a1a8d77-f51c-4741-89f3-9195d88368ec\" data-root-id=\"1528\"></div>\n"
      ]
     },
     "metadata": {},
     "output_type": "display_data"
    },
    {
     "data": {
      "application/javascript": [
       "(function(root) {\n",
       "  function embed_document(root) {\n",
       "    \n",
       "  var docs_json = {\"5a4f2598-e9b3-428e-9025-bb4893d74599\":{\"defs\":[{\"extends\":null,\"module\":null,\"name\":\"DataModel\",\"overrides\":[],\"properties\":[]}],\"roots\":{\"references\":[{\"attributes\":{\"below\":[{\"id\":\"1537\"}],\"center\":[{\"id\":\"1540\"},{\"id\":\"1544\"}],\"frame_height\":250,\"frame_width\":450,\"left\":[{\"id\":\"1541\"}],\"renderers\":[{\"id\":\"1562\"}],\"title\":{\"id\":\"1578\"},\"toolbar\":{\"id\":\"1552\"},\"x_range\":{\"id\":\"1529\"},\"x_scale\":{\"id\":\"1533\"},\"y_range\":{\"id\":\"1531\"},\"y_scale\":{\"id\":\"1535\"}},\"id\":\"1528\",\"subtype\":\"Figure\",\"type\":\"Plot\"},{\"attributes\":{\"source\":{\"id\":\"1559\"}},\"id\":\"1563\",\"type\":\"CDSView\"},{\"attributes\":{\"line_alpha\":0.1,\"line_color\":\"#2ba02b\",\"line_width\":2,\"x\":{\"field\":\"x\"},\"y\":{\"field\":\"y\"}},\"id\":\"1561\",\"type\":\"Line\"},{\"attributes\":{\"data\":{\"x\":{\"__ndarray__\":\"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\",\"dtype\":\"float64\",\"order\":\"little\",\"shape\":[400]},\"y\":[0,0,0,0,0,0,0,0,0,0,0,0,0,0,0,0,0,0,0,0,0,0,0,0,0,0,0,0,0,0,0,0,0,0,0,0,0,0,0,0,2,2,2,2,2,2,2,2,2,2,2,2,2,2,2,2,2,2,2,2,2,2,2,2,2,2,2,2,2,2,2,2,2,2,2,2,2,2,2,2,2,2,2,2,2,2,2,2,2,2,2,2,2,2,2,2,2,2,2,2,2,2,2,2,2,2,2,2,2,2,2,2,2,2,2,2,2,2,2,2,0,0,0,0,0,0,0,0,0,0,0,0,0,0,0,0,0,0,0,0,0,0,0,0,0,0,0,0,0,0,0,0,0,0,0,0,0,0,0,0,0,0,0,0,0,0,0,0,0,0,0,0,0,0,0,0,0,0,0,0,0,0,0,0,0,0,0,0,0,0,0,0,0,0,0,0,0,0,0,0,0,0,0,0,0,0,0,0,0,0,0,0,0,0,0,0,0,0,0,0,0,0,0,0,0,0,0,0,0,0,0,0,0,0,0,0,0,0,0,0,0,0,0,0,0,0,0,0,0,0,0,0,0,0,0,0,0,0,0,0,0,0,0,0,0,0,0,0,0,0,0,0,0,0,0,0,0,0,0,0,0,0,0,0,0,0,0,0,0,0,0,0,0,0,0,0,0,0,0,0,0,0,0,0,0,0,0,0,0,0,0,0,0,0,0,0,0,0,0,0,0,0,0,0,0,0,0,0,0,0,0,0,0,0,0,0,0,0,0,0,0,0,0,0,0,0,0,0,0,0,0,0,0,0,0,0,0,0,0,0,0,0,0,0,0,0,0,0,0,0,0,0,0,0,0,0,0,0,0,0,0,0,0,0,0,0,0,0,0,0,0,0,0,0,0,0,0,0,0,0]},\"selected\":{\"id\":\"1586\"},\"selection_policy\":{\"id\":\"1585\"}},\"id\":\"1559\",\"type\":\"ColumnDataSource\"},{\"attributes\":{\"end\":10},\"id\":\"1529\",\"type\":\"Range1d\"},{\"attributes\":{\"data_source\":{\"id\":\"1559\"},\"glyph\":{\"id\":\"1560\"},\"hover_glyph\":null,\"muted_glyph\":null,\"nonselection_glyph\":{\"id\":\"1561\"},\"view\":{\"id\":\"1563\"}},\"id\":\"1562\",\"type\":\"GlyphRenderer\"},{\"attributes\":{},\"id\":\"1578\",\"type\":\"Title\"},{\"attributes\":{},\"id\":\"1580\",\"type\":\"BasicTickFormatter\"},{\"attributes\":{\"line_color\":\"#2ba02b\",\"line_width\":2,\"x\":{\"field\":\"x\"},\"y\":{\"field\":\"y\"}},\"id\":\"1560\",\"type\":\"Line\"},{\"attributes\":{},\"id\":\"1535\",\"type\":\"LinearScale\"},{\"attributes\":{},\"id\":\"1581\",\"type\":\"AllLabels\"},{\"attributes\":{},\"id\":\"1533\",\"type\":\"LinearScale\"},{\"attributes\":{},\"id\":\"1550\",\"type\":\"HelpTool\"},{\"attributes\":{},\"id\":\"1531\",\"type\":\"DataRange1d\"},{\"attributes\":{},\"id\":\"1583\",\"type\":\"BasicTickFormatter\"},{\"attributes\":{\"axis_label\":\"dimensionless time\",\"formatter\":{\"id\":\"1583\"},\"major_label_policy\":{\"id\":\"1584\"},\"ticker\":{\"id\":\"1538\"}},\"id\":\"1537\",\"type\":\"LinearAxis\"},{\"attributes\":{\"bottom_units\":\"screen\",\"fill_alpha\":0.5,\"fill_color\":\"lightgrey\",\"left_units\":\"screen\",\"level\":\"overlay\",\"line_alpha\":1.0,\"line_color\":\"black\",\"line_dash\":[4,4],\"line_width\":2,\"right_units\":\"screen\",\"syncable\":false,\"top_units\":\"screen\"},\"id\":\"1551\",\"type\":\"BoxAnnotation\"},{\"attributes\":{},\"id\":\"1538\",\"type\":\"BasicTicker\"},{\"attributes\":{},\"id\":\"1584\",\"type\":\"AllLabels\"},{\"attributes\":{\"axis\":{\"id\":\"1537\"},\"ticker\":null},\"id\":\"1540\",\"type\":\"Grid\"},{\"attributes\":{\"axis_label\":\"dimensionless x\",\"formatter\":{\"id\":\"1580\"},\"major_label_policy\":{\"id\":\"1581\"},\"ticker\":{\"id\":\"1542\"}},\"id\":\"1541\",\"type\":\"LinearAxis\"},{\"attributes\":{\"axis\":{\"id\":\"1541\"},\"dimension\":1,\"ticker\":null},\"id\":\"1544\",\"type\":\"Grid\"},{\"attributes\":{},\"id\":\"1542\",\"type\":\"BasicTicker\"},{\"attributes\":{},\"id\":\"1585\",\"type\":\"UnionRenderers\"},{\"attributes\":{},\"id\":\"1586\",\"type\":\"Selection\"},{\"attributes\":{},\"id\":\"1546\",\"type\":\"WheelZoomTool\"},{\"attributes\":{},\"id\":\"1545\",\"type\":\"PanTool\"},{\"attributes\":{\"overlay\":{\"id\":\"1551\"}},\"id\":\"1547\",\"type\":\"BoxZoomTool\"},{\"attributes\":{},\"id\":\"1548\",\"type\":\"SaveTool\"},{\"attributes\":{},\"id\":\"1549\",\"type\":\"ResetTool\"},{\"attributes\":{\"active_multi\":null,\"tools\":[{\"id\":\"1545\"},{\"id\":\"1546\"},{\"id\":\"1547\"},{\"id\":\"1548\"},{\"id\":\"1549\"},{\"id\":\"1550\"}]},\"id\":\"1552\",\"type\":\"Toolbar\"}],\"root_ids\":[\"1528\"]},\"title\":\"Bokeh Application\",\"version\":\"2.3.0\"}};\n",
       "  var render_items = [{\"docid\":\"5a4f2598-e9b3-428e-9025-bb4893d74599\",\"root_ids\":[\"1528\"],\"roots\":{\"1528\":\"0a1a8d77-f51c-4741-89f3-9195d88368ec\"}}];\n",
       "  root.Bokeh.embed.embed_items_notebook(docs_json, render_items);\n",
       "\n",
       "  }\n",
       "  if (root.Bokeh !== undefined) {\n",
       "    embed_document(root);\n",
       "  } else {\n",
       "    var attempts = 0;\n",
       "    var timer = setInterval(function(root) {\n",
       "      if (root.Bokeh !== undefined) {\n",
       "        clearInterval(timer);\n",
       "        embed_document(root);\n",
       "      } else {\n",
       "        attempts++;\n",
       "        if (attempts > 100) {\n",
       "          clearInterval(timer);\n",
       "          console.log(\"Bokeh: ERROR: Unable to run BokehJS code because BokehJS library is missing\");\n",
       "        }\n",
       "      }\n",
       "    }, 10, root)\n",
       "  }\n",
       "})(window);"
      ],
      "application/vnd.bokehjs_exec.v0+json": ""
     },
     "metadata": {
      "application/vnd.bokehjs_exec.v0+json": {
       "id": "1528"
      }
     },
     "output_type": "display_data"
    }
   ],
   "source": [
    "def x_pulse(t, t_0, tau, x_0):\n",
    "    \"\"\"\n",
    "    Returns x value for a pulse beginning at t = 0 \n",
    "    and ending at t = t_0 + tau.\n",
    "    \"\"\"\n",
    "    return np.logical_and(t >= t_0, t <= (t_0 + tau)) * x_0\n",
    "\n",
    "\n",
    "# Plot the pulse\n",
    "p = bokeh.plotting.figure(\n",
    "    frame_width=450,\n",
    "    frame_height=250,\n",
    "    x_axis_label=\"dimensionless time\",\n",
    "    y_axis_label=\"dimensionless x\",\n",
    "    x_range=[0, 10],\n",
    ")\n",
    "\n",
    "# Populate glyphs\n",
    "p.line(t, x_pulse(t, 1.0, 2.0, 2), line_width=2, color=colors[2])\n",
    "\n",
    "# Show plot\n",
    "bokeh.io.show(p)"
   ]
  },
  {
   "cell_type": "markdown",
   "metadata": {},
   "source": [
    "If we want to solve the ODEs for a pulsed input, we need to have a way to pass this function as a parameter. Fortunately, we can pass functions as arguments in Python! So, we write a new function that takes `x_fun`, the function describing $x(t)$ as an argument, as well as `x_args`, the set of parameters passed into `x_fun`."
   ]
  },
  {
   "cell_type": "code",
   "execution_count": 21,
   "metadata": {},
   "outputs": [],
   "source": [
    "def cascade_rhs_x_fun(yz, t, beta, gamma, n_x, n_y, x_fun, x_args):\n",
    "    \"\"\"\n",
    "    Right hand side for cascade X -> Y -> Z.  Return dy/dt and dz/dt.\n",
    "    \n",
    "    x_fun is a function of the form x_fun(t, *x_args), so x_args is a tuple\n",
    "    containing the arguments to pass to x_fun.\n",
    "    \"\"\"\n",
    "    # Compute x\n",
    "    x = x_fun(t, *x_args)\n",
    "\n",
    "    # Return cascade RHS with this value of x\n",
    "    return cascade_rhs(yz, t, beta, gamma, n_x, n_y, x)"
   ]
  },
  {
   "cell_type": "markdown",
   "metadata": {},
   "source": [
    "With this in hand, we can now solve for a pulse.  We will have a pulse during $1 \\le t \\le 5$."
   ]
  },
  {
   "cell_type": "code",
   "execution_count": 22,
   "metadata": {},
   "outputs": [
    {
     "data": {
      "text/html": [
       "\n",
       "\n",
       "\n",
       "\n",
       "\n",
       "\n",
       "  <div class=\"bk-root\" id=\"dd8ba0e9-2360-4ef4-8f88-5d209a962b67\" data-root-id=\"1643\"></div>\n"
      ]
     },
     "metadata": {},
     "output_type": "display_data"
    },
    {
     "data": {
      "application/javascript": [
       "(function(root) {\n",
       "  function embed_document(root) {\n",
       "    \n",
       "  var docs_json = {\"a5fec31f-8884-47a8-be27-0a1b33db1bcf\":{\"defs\":[{\"extends\":null,\"module\":null,\"name\":\"DataModel\",\"overrides\":[],\"properties\":[]}],\"roots\":{\"references\":[{\"attributes\":{\"below\":[{\"id\":\"1652\"}],\"center\":[{\"id\":\"1655\"},{\"id\":\"1659\"},{\"id\":\"1690\"}],\"frame_height\":250,\"frame_width\":450,\"left\":[{\"id\":\"1656\"}],\"renderers\":[{\"id\":\"1677\"},{\"id\":\"1695\"}],\"title\":{\"id\":\"1680\"},\"toolbar\":{\"id\":\"1667\"},\"x_range\":{\"id\":\"1644\"},\"x_scale\":{\"id\":\"1648\"},\"y_range\":{\"id\":\"1646\"},\"y_scale\":{\"id\":\"1650\"}},\"id\":\"1643\",\"subtype\":\"Figure\",\"type\":\"Plot\"},{\"attributes\":{\"axis\":{\"id\":\"1656\"},\"dimension\":1,\"ticker\":null},\"id\":\"1659\",\"type\":\"Grid\"},{\"attributes\":{},\"id\":\"1653\",\"type\":\"BasicTicker\"},{\"attributes\":{\"label\":{\"value\":\"z\"},\"renderers\":[{\"id\":\"1695\"}]},\"id\":\"1710\",\"type\":\"LegendItem\"},{\"attributes\":{},\"id\":\"1665\",\"type\":\"HelpTool\"},{\"attributes\":{\"end\":10},\"id\":\"1644\",\"type\":\"Range1d\"},{\"attributes\":{},\"id\":\"1648\",\"type\":\"LinearScale\"},{\"attributes\":{\"source\":{\"id\":\"1692\"}},\"id\":\"1696\",\"type\":\"CDSView\"},{\"attributes\":{\"active_multi\":null,\"tools\":[{\"id\":\"1660\"},{\"id\":\"1661\"},{\"id\":\"1662\"},{\"id\":\"1663\"},{\"id\":\"1664\"},{\"id\":\"1665\"}]},\"id\":\"1667\",\"type\":\"Toolbar\"},{\"attributes\":{\"source\":{\"id\":\"1674\"}},\"id\":\"1678\",\"type\":\"CDSView\"},{\"attributes\":{},\"id\":\"1663\",\"type\":\"SaveTool\"},{\"attributes\":{},\"id\":\"1646\",\"type\":\"DataRange1d\"},{\"attributes\":{\"line_color\":\"#ff7e0e\",\"line_width\":2,\"x\":{\"field\":\"x\"},\"y\":{\"field\":\"y\"}},\"id\":\"1693\",\"type\":\"Line\"},{\"attributes\":{},\"id\":\"1664\",\"type\":\"ResetTool\"},{\"attributes\":{},\"id\":\"1650\",\"type\":\"LinearScale\"},{\"attributes\":{\"overlay\":{\"id\":\"1666\"}},\"id\":\"1662\",\"type\":\"BoxZoomTool\"},{\"attributes\":{\"line_alpha\":0.1,\"line_color\":\"#ff7e0e\",\"line_width\":2,\"x\":{\"field\":\"x\"},\"y\":{\"field\":\"y\"}},\"id\":\"1694\",\"type\":\"Line\"},{\"attributes\":{\"axis\":{\"id\":\"1652\"},\"ticker\":null},\"id\":\"1655\",\"type\":\"Grid\"},{\"attributes\":{\"axis_label\":\"dimensionless y, z\",\"formatter\":{\"id\":\"1682\"},\"major_label_policy\":{\"id\":\"1683\"},\"ticker\":{\"id\":\"1657\"}},\"id\":\"1656\",\"type\":\"LinearAxis\"},{\"attributes\":{\"items\":[{\"id\":\"1691\"},{\"id\":\"1710\"}]},\"id\":\"1690\",\"type\":\"Legend\"},{\"attributes\":{},\"id\":\"1661\",\"type\":\"WheelZoomTool\"},{\"attributes\":{\"line_alpha\":0.1,\"line_color\":\"#1f77b3\",\"line_width\":2,\"x\":{\"field\":\"x\"},\"y\":{\"field\":\"y\"}},\"id\":\"1676\",\"type\":\"Line\"},{\"attributes\":{},\"id\":\"1660\",\"type\":\"PanTool\"},{\"attributes\":{\"axis_label\":\"dimensionless time\",\"formatter\":{\"id\":\"1685\"},\"major_label_policy\":{\"id\":\"1686\"},\"ticker\":{\"id\":\"1653\"}},\"id\":\"1652\",\"type\":\"LinearAxis\"},{\"attributes\":{\"bottom_units\":\"screen\",\"fill_alpha\":0.5,\"fill_color\":\"lightgrey\",\"left_units\":\"screen\",\"level\":\"overlay\",\"line_alpha\":1.0,\"line_color\":\"black\",\"line_dash\":[4,4],\"line_width\":2,\"right_units\":\"screen\",\"syncable\":false,\"top_units\":\"screen\"},\"id\":\"1666\",\"type\":\"BoxAnnotation\"},{\"attributes\":{},\"id\":\"1680\",\"type\":\"Title\"},{\"attributes\":{},\"id\":\"1707\",\"type\":\"UnionRenderers\"},{\"attributes\":{},\"id\":\"1708\",\"type\":\"Selection\"},{\"attributes\":{\"label\":{\"value\":\"y\"},\"renderers\":[{\"id\":\"1677\"}]},\"id\":\"1691\",\"type\":\"LegendItem\"},{\"attributes\":{},\"id\":\"1682\",\"type\":\"BasicTickFormatter\"},{\"attributes\":{},\"id\":\"1687\",\"type\":\"UnionRenderers\"},{\"attributes\":{},\"id\":\"1683\",\"type\":\"AllLabels\"},{\"attributes\":{},\"id\":\"1688\",\"type\":\"Selection\"},{\"attributes\":{\"data_source\":{\"id\":\"1674\"},\"glyph\":{\"id\":\"1675\"},\"hover_glyph\":null,\"muted_glyph\":null,\"nonselection_glyph\":{\"id\":\"1676\"},\"view\":{\"id\":\"1678\"}},\"id\":\"1677\",\"type\":\"GlyphRenderer\"},{\"attributes\":{},\"id\":\"1685\",\"type\":\"BasicTickFormatter\"},{\"attributes\":{},\"id\":\"1686\",\"type\":\"AllLabels\"},{\"attributes\":{\"data_source\":{\"id\":\"1692\"},\"glyph\":{\"id\":\"1693\"},\"hover_glyph\":null,\"muted_glyph\":null,\"nonselection_glyph\":{\"id\":\"1694\"},\"view\":{\"id\":\"1696\"}},\"id\":\"1695\",\"type\":\"GlyphRenderer\"},{\"attributes\":{\"data\":{\"x\":{\"__ndarray__\":\"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\",\"dtype\":\"float64\",\"order\":\"little\",\"shape\":[400]},\"y\":{\"__ndarray__\":\"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\",\"dtype\":\"float64\",\"order\":\"little\",\"shape\":[400]}},\"selected\":{\"id\":\"1688\"},\"selection_policy\":{\"id\":\"1687\"}},\"id\":\"1674\",\"type\":\"ColumnDataSource\"},{\"attributes\":{\"data\":{\"x\":{\"__ndarray__\":\"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\",\"dtype\":\"float64\",\"order\":\"little\",\"shape\":[400]},\"y\":{\"__ndarray__\":\"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\",\"dtype\":\"float64\",\"order\":\"little\",\"shape\":[400]}},\"selected\":{\"id\":\"1708\"},\"selection_policy\":{\"id\":\"1707\"}},\"id\":\"1692\",\"type\":\"ColumnDataSource\"},{\"attributes\":{\"line_color\":\"#1f77b3\",\"line_width\":2,\"x\":{\"field\":\"x\"},\"y\":{\"field\":\"y\"}},\"id\":\"1675\",\"type\":\"Line\"},{\"attributes\":{},\"id\":\"1657\",\"type\":\"BasicTicker\"}],\"root_ids\":[\"1643\"]},\"title\":\"Bokeh Application\",\"version\":\"2.3.0\"}};\n",
       "  var render_items = [{\"docid\":\"a5fec31f-8884-47a8-be27-0a1b33db1bcf\",\"root_ids\":[\"1643\"],\"roots\":{\"1643\":\"dd8ba0e9-2360-4ef4-8f88-5d209a962b67\"}}];\n",
       "  root.Bokeh.embed.embed_items_notebook(docs_json, render_items);\n",
       "\n",
       "  }\n",
       "  if (root.Bokeh !== undefined) {\n",
       "    embed_document(root);\n",
       "  } else {\n",
       "    var attempts = 0;\n",
       "    var timer = setInterval(function(root) {\n",
       "      if (root.Bokeh !== undefined) {\n",
       "        clearInterval(timer);\n",
       "        embed_document(root);\n",
       "      } else {\n",
       "        attempts++;\n",
       "        if (attempts > 100) {\n",
       "          clearInterval(timer);\n",
       "          console.log(\"Bokeh: ERROR: Unable to run BokehJS code because BokehJS library is missing\");\n",
       "        }\n",
       "      }\n",
       "    }, 10, root)\n",
       "  }\n",
       "})(window);"
      ],
      "application/vnd.bokehjs_exec.v0+json": ""
     },
     "metadata": {
      "application/vnd.bokehjs_exec.v0+json": {
       "id": "1643"
      }
     },
     "output_type": "display_data"
    }
   ],
   "source": [
    "# Set up parameters for the pulse (on at t = 1, off at t = 5, x_0 = 2)\n",
    "x_args = (1.0, 4.0, 2.0)\n",
    "\n",
    "# Package parameters into a tuple\n",
    "args = (beta, gamma, n_x, n_y, x_pulse, x_args)\n",
    "\n",
    "# Integrate ODEs\n",
    "yz = scipy.integrate.odeint(cascade_rhs_x_fun, yz_0, t, args=args)\n",
    "\n",
    "# Pluck out y and z\n",
    "y, z = yz.transpose()\n",
    "\n",
    "# Plot the results\n",
    "p = bokeh.plotting.figure(\n",
    "    frame_width=450,\n",
    "    frame_height=250,\n",
    "    x_axis_label=\"dimensionless time\",\n",
    "    y_axis_label=\"dimensionless y, z\",\n",
    "    x_range=[0, 10],\n",
    ")\n",
    "\n",
    "# Populate glyphs\n",
    "p.line(t, y, line_width=2, color=colors[0], legend_label=\"y\")\n",
    "p.line(t, z, line_width=2, color=colors[1], legend_label=\"z\")\n",
    "\n",
    "# Place the legend\n",
    "p.legend.location = \"top_right\"\n",
    "\n",
    "# Show plot\n",
    "bokeh.io.show(p)"
   ]
  },
  {
   "cell_type": "markdown",
   "metadata": {},
   "source": [
    "Let's see what happens when we do a shorter pulse, this time with $1 \\le t \\le 1.7$."
   ]
  },
  {
   "cell_type": "code",
   "execution_count": 23,
   "metadata": {},
   "outputs": [
    {
     "data": {
      "text/html": [
       "\n",
       "\n",
       "\n",
       "\n",
       "\n",
       "\n",
       "  <div class=\"bk-root\" id=\"d018bf93-940d-4858-a678-8dcf1dc5659d\" data-root-id=\"1813\"></div>\n"
      ]
     },
     "metadata": {},
     "output_type": "display_data"
    },
    {
     "data": {
      "application/javascript": [
       "(function(root) {\n",
       "  function embed_document(root) {\n",
       "    \n",
       "  var docs_json = {\"e9b7abab-19dd-457e-9d8c-d8a652107f8b\":{\"defs\":[{\"extends\":null,\"module\":null,\"name\":\"DataModel\",\"overrides\":[],\"properties\":[]}],\"roots\":{\"references\":[{\"attributes\":{\"below\":[{\"id\":\"1822\"}],\"center\":[{\"id\":\"1825\"},{\"id\":\"1829\"},{\"id\":\"1860\"}],\"frame_height\":250,\"frame_width\":450,\"left\":[{\"id\":\"1826\"}],\"renderers\":[{\"id\":\"1847\"},{\"id\":\"1865\"}],\"title\":{\"id\":\"1850\"},\"toolbar\":{\"id\":\"1837\"},\"x_range\":{\"id\":\"1814\"},\"x_scale\":{\"id\":\"1818\"},\"y_range\":{\"id\":\"1816\"},\"y_scale\":{\"id\":\"1820\"}},\"id\":\"1813\",\"subtype\":\"Figure\",\"type\":\"Plot\"},{\"attributes\":{},\"id\":\"1823\",\"type\":\"BasicTicker\"},{\"attributes\":{\"axis_label\":\"dimensionless time\",\"formatter\":{\"id\":\"1855\"},\"major_label_policy\":{\"id\":\"1856\"},\"ticker\":{\"id\":\"1823\"}},\"id\":\"1822\",\"type\":\"LinearAxis\"},{\"attributes\":{},\"id\":\"1820\",\"type\":\"LinearScale\"},{\"attributes\":{\"data\":{\"x\":{\"__ndarray__\":\"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\",\"dtype\":\"float64\",\"order\":\"little\",\"shape\":[400]},\"y\":{\"__ndarray__\":\"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\",\"dtype\":\"float64\",\"order\":\"little\",\"shape\":[400]}},\"selected\":{\"id\":\"1878\"},\"selection_policy\":{\"id\":\"1877\"}},\"id\":\"1862\",\"type\":\"ColumnDataSource\"},{\"attributes\":{\"axis\":{\"id\":\"1822\"},\"ticker\":null},\"id\":\"1825\",\"type\":\"Grid\"},{\"attributes\":{},\"id\":\"1827\",\"type\":\"BasicTicker\"},{\"attributes\":{\"data_source\":{\"id\":\"1844\"},\"glyph\":{\"id\":\"1845\"},\"hover_glyph\":null,\"muted_glyph\":null,\"nonselection_glyph\":{\"id\":\"1846\"},\"view\":{\"id\":\"1848\"}},\"id\":\"1847\",\"type\":\"GlyphRenderer\"},{\"attributes\":{\"line_color\":\"#1f77b3\",\"line_width\":2,\"x\":{\"field\":\"x\"},\"y\":{\"field\":\"y\"}},\"id\":\"1845\",\"type\":\"Line\"},{\"attributes\":{},\"id\":\"1856\",\"type\":\"AllLabels\"},{\"attributes\":{},\"id\":\"1852\",\"type\":\"BasicTickFormatter\"},{\"attributes\":{},\"id\":\"1830\",\"type\":\"PanTool\"},{\"attributes\":{},\"id\":\"1853\",\"type\":\"AllLabels\"},{\"attributes\":{},\"id\":\"1833\",\"type\":\"SaveTool\"},{\"attributes\":{},\"id\":\"1855\",\"type\":\"BasicTickFormatter\"},{\"attributes\":{\"axis_label\":\"dimensionless y, z\",\"formatter\":{\"id\":\"1852\"},\"major_label_policy\":{\"id\":\"1853\"},\"ticker\":{\"id\":\"1827\"}},\"id\":\"1826\",\"type\":\"LinearAxis\"},{\"attributes\":{},\"id\":\"1818\",\"type\":\"LinearScale\"},{\"attributes\":{},\"id\":\"1816\",\"type\":\"DataRange1d\"},{\"attributes\":{\"label\":{\"value\":\"z\"},\"renderers\":[{\"id\":\"1865\"}]},\"id\":\"1880\",\"type\":\"LegendItem\"},{\"attributes\":{\"source\":{\"id\":\"1862\"}},\"id\":\"1866\",\"type\":\"CDSView\"},{\"attributes\":{\"active_multi\":null,\"tools\":[{\"id\":\"1830\"},{\"id\":\"1831\"},{\"id\":\"1832\"},{\"id\":\"1833\"},{\"id\":\"1834\"},{\"id\":\"1835\"}]},\"id\":\"1837\",\"type\":\"Toolbar\"},{\"attributes\":{\"line_color\":\"#ff7e0e\",\"line_width\":2,\"x\":{\"field\":\"x\"},\"y\":{\"field\":\"y\"}},\"id\":\"1863\",\"type\":\"Line\"},{\"attributes\":{\"items\":[{\"id\":\"1861\"},{\"id\":\"1880\"}]},\"id\":\"1860\",\"type\":\"Legend\"},{\"attributes\":{\"line_alpha\":0.1,\"line_color\":\"#1f77b3\",\"line_width\":2,\"x\":{\"field\":\"x\"},\"y\":{\"field\":\"y\"}},\"id\":\"1846\",\"type\":\"Line\"},{\"attributes\":{\"line_alpha\":0.1,\"line_color\":\"#ff7e0e\",\"line_width\":2,\"x\":{\"field\":\"x\"},\"y\":{\"field\":\"y\"}},\"id\":\"1864\",\"type\":\"Line\"},{\"attributes\":{\"data_source\":{\"id\":\"1862\"},\"glyph\":{\"id\":\"1863\"},\"hover_glyph\":null,\"muted_glyph\":null,\"nonselection_glyph\":{\"id\":\"1864\"},\"view\":{\"id\":\"1866\"}},\"id\":\"1865\",\"type\":\"GlyphRenderer\"},{\"attributes\":{\"source\":{\"id\":\"1844\"}},\"id\":\"1848\",\"type\":\"CDSView\"},{\"attributes\":{},\"id\":\"1850\",\"type\":\"Title\"},{\"attributes\":{},\"id\":\"1834\",\"type\":\"ResetTool\"},{\"attributes\":{\"end\":10},\"id\":\"1814\",\"type\":\"Range1d\"},{\"attributes\":{\"overlay\":{\"id\":\"1836\"}},\"id\":\"1832\",\"type\":\"BoxZoomTool\"},{\"attributes\":{},\"id\":\"1857\",\"type\":\"UnionRenderers\"},{\"attributes\":{\"data\":{\"x\":{\"__ndarray__\":\"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\",\"dtype\":\"float64\",\"order\":\"little\",\"shape\":[400]},\"y\":{\"__ndarray__\":\"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\",\"dtype\":\"float64\",\"order\":\"little\",\"shape\":[400]}},\"selected\":{\"id\":\"1858\"},\"selection_policy\":{\"id\":\"1857\"}},\"id\":\"1844\",\"type\":\"ColumnDataSource\"},{\"attributes\":{},\"id\":\"1877\",\"type\":\"UnionRenderers\"},{\"attributes\":{\"bottom_units\":\"screen\",\"fill_alpha\":0.5,\"fill_color\":\"lightgrey\",\"left_units\":\"screen\",\"level\":\"overlay\",\"line_alpha\":1.0,\"line_color\":\"black\",\"line_dash\":[4,4],\"line_width\":2,\"right_units\":\"screen\",\"syncable\":false,\"top_units\":\"screen\"},\"id\":\"1836\",\"type\":\"BoxAnnotation\"},{\"attributes\":{},\"id\":\"1858\",\"type\":\"Selection\"},{\"attributes\":{},\"id\":\"1878\",\"type\":\"Selection\"},{\"attributes\":{\"label\":{\"value\":\"y\"},\"renderers\":[{\"id\":\"1847\"}]},\"id\":\"1861\",\"type\":\"LegendItem\"},{\"attributes\":{},\"id\":\"1835\",\"type\":\"HelpTool\"},{\"attributes\":{},\"id\":\"1831\",\"type\":\"WheelZoomTool\"},{\"attributes\":{\"axis\":{\"id\":\"1826\"},\"dimension\":1,\"ticker\":null},\"id\":\"1829\",\"type\":\"Grid\"}],\"root_ids\":[\"1813\"]},\"title\":\"Bokeh Application\",\"version\":\"2.3.0\"}};\n",
       "  var render_items = [{\"docid\":\"e9b7abab-19dd-457e-9d8c-d8a652107f8b\",\"root_ids\":[\"1813\"],\"roots\":{\"1813\":\"d018bf93-940d-4858-a678-8dcf1dc5659d\"}}];\n",
       "  root.Bokeh.embed.embed_items_notebook(docs_json, render_items);\n",
       "\n",
       "  }\n",
       "  if (root.Bokeh !== undefined) {\n",
       "    embed_document(root);\n",
       "  } else {\n",
       "    var attempts = 0;\n",
       "    var timer = setInterval(function(root) {\n",
       "      if (root.Bokeh !== undefined) {\n",
       "        clearInterval(timer);\n",
       "        embed_document(root);\n",
       "      } else {\n",
       "        attempts++;\n",
       "        if (attempts > 100) {\n",
       "          clearInterval(timer);\n",
       "          console.log(\"Bokeh: ERROR: Unable to run BokehJS code because BokehJS library is missing\");\n",
       "        }\n",
       "      }\n",
       "    }, 10, root)\n",
       "  }\n",
       "})(window);"
      ],
      "application/vnd.bokehjs_exec.v0+json": ""
     },
     "metadata": {
      "application/vnd.bokehjs_exec.v0+json": {
       "id": "1813"
      }
     },
     "output_type": "display_data"
    }
   ],
   "source": [
    "# Set up parameters for the pulse (on at t = 1, off at t = 1.7, x_0 = 2)\n",
    "x_args = (1.0, 0.7, 2.0)\n",
    "\n",
    "# Package parameters into a tuple\n",
    "args = (beta, gamma, n_x, n_y, x_pulse, x_args)\n",
    "\n",
    "# Integrate ODEs\n",
    "yz = scipy.integrate.odeint(cascade_rhs_x_fun, yz_0, t, args=args)\n",
    "\n",
    "# Pluck out y and z\n",
    "y, z = yz.transpose()\n",
    "\n",
    "# Plot the results\n",
    "p = bokeh.plotting.figure(\n",
    "    frame_width=450,\n",
    "    frame_height=250,\n",
    "    x_axis_label=\"dimensionless time\",\n",
    "    y_axis_label=\"dimensionless y, z\",\n",
    "    x_range=[0, 10],\n",
    ")\n",
    "\n",
    "# Populate glyphs\n",
    "p.line(t, y, line_width=2, color=colors[0], legend_label=\"y\")\n",
    "p.line(t, z, line_width=2, color=colors[1], legend_label=\"z\")\n",
    "\n",
    "# Place the legend\n",
    "p.legend.location = \"top_right\"\n",
    "\n",
    "# Show plot\n",
    "bokeh.io.show(p)"
   ]
  },
  {
   "cell_type": "markdown",
   "metadata": {},
   "source": [
    "We see that Z basically does not respond strongly to a short pulse.  The delay of the circuit allows short pulses to be ignored, but large pulses to be detected and responded to."
   ]
  },
  {
   "cell_type": "markdown",
   "metadata": {},
   "source": [
    "## Really short pulses and a lesson about scipy.integrate.odeint()\n",
    "\n",
    "Now, we will take a brief interlude to learn an important lesson about the algorithm of `scipy.integrate.odeint()` and its use in these applications. We will consider a very brief pulse, $1 \\le t \\le 1.05$."
   ]
  },
  {
   "cell_type": "code",
   "execution_count": 24,
   "metadata": {},
   "outputs": [
    {
     "data": {
      "text/html": [
       "\n",
       "\n",
       "\n",
       "\n",
       "\n",
       "\n",
       "  <div class=\"bk-root\" id=\"2fbcdda4-5a15-4ea6-ab03-8de84ccdec9f\" data-root-id=\"1996\"></div>\n"
      ]
     },
     "metadata": {},
     "output_type": "display_data"
    },
    {
     "data": {
      "application/javascript": [
       "(function(root) {\n",
       "  function embed_document(root) {\n",
       "    \n",
       "  var docs_json = {\"eb96bdf8-92a9-4a18-99e5-ae53a87963bd\":{\"defs\":[{\"extends\":null,\"module\":null,\"name\":\"DataModel\",\"overrides\":[],\"properties\":[]}],\"roots\":{\"references\":[{\"attributes\":{\"below\":[{\"id\":\"2005\"}],\"center\":[{\"id\":\"2008\"},{\"id\":\"2012\"},{\"id\":\"2043\"}],\"frame_height\":250,\"frame_width\":450,\"left\":[{\"id\":\"2009\"}],\"renderers\":[{\"id\":\"2030\"},{\"id\":\"2048\"}],\"title\":{\"id\":\"2033\"},\"toolbar\":{\"id\":\"2020\"},\"x_range\":{\"id\":\"1997\"},\"x_scale\":{\"id\":\"2001\"},\"y_range\":{\"id\":\"1999\"},\"y_scale\":{\"id\":\"2003\"}},\"id\":\"1996\",\"subtype\":\"Figure\",\"type\":\"Plot\"},{\"attributes\":{},\"id\":\"2010\",\"type\":\"BasicTicker\"},{\"attributes\":{},\"id\":\"2035\",\"type\":\"BasicTickFormatter\"},{\"attributes\":{},\"id\":\"2039\",\"type\":\"AllLabels\"},{\"attributes\":{},\"id\":\"2033\",\"type\":\"Title\"},{\"attributes\":{},\"id\":\"2060\",\"type\":\"UnionRenderers\"},{\"attributes\":{},\"id\":\"2040\",\"type\":\"UnionRenderers\"},{\"attributes\":{},\"id\":\"2061\",\"type\":\"Selection\"},{\"attributes\":{},\"id\":\"2036\",\"type\":\"AllLabels\"},{\"attributes\":{},\"id\":\"2013\",\"type\":\"PanTool\"},{\"attributes\":{},\"id\":\"2041\",\"type\":\"Selection\"},{\"attributes\":{\"label\":{\"value\":\"y\"},\"renderers\":[{\"id\":\"2030\"}]},\"id\":\"2044\",\"type\":\"LegendItem\"},{\"attributes\":{\"source\":{\"id\":\"2027\"}},\"id\":\"2031\",\"type\":\"CDSView\"},{\"attributes\":{\"active_multi\":null,\"tools\":[{\"id\":\"2013\"},{\"id\":\"2014\"},{\"id\":\"2015\"},{\"id\":\"2016\"},{\"id\":\"2017\"},{\"id\":\"2018\"}]},\"id\":\"2020\",\"type\":\"Toolbar\"},{\"attributes\":{\"overlay\":{\"id\":\"2019\"}},\"id\":\"2015\",\"type\":\"BoxZoomTool\"},{\"attributes\":{},\"id\":\"2014\",\"type\":\"WheelZoomTool\"},{\"attributes\":{\"bottom_units\":\"screen\",\"fill_alpha\":0.5,\"fill_color\":\"lightgrey\",\"left_units\":\"screen\",\"level\":\"overlay\",\"line_alpha\":1.0,\"line_color\":\"black\",\"line_dash\":[4,4],\"line_width\":2,\"right_units\":\"screen\",\"syncable\":false,\"top_units\":\"screen\"},\"id\":\"2019\",\"type\":\"BoxAnnotation\"},{\"attributes\":{},\"id\":\"2018\",\"type\":\"HelpTool\"},{\"attributes\":{},\"id\":\"2017\",\"type\":\"ResetTool\"},{\"attributes\":{\"axis_label\":\"dimensionless y, z\",\"formatter\":{\"id\":\"2035\"},\"major_label_policy\":{\"id\":\"2036\"},\"ticker\":{\"id\":\"2010\"}},\"id\":\"2009\",\"type\":\"LinearAxis\"},{\"attributes\":{\"items\":[{\"id\":\"2044\"},{\"id\":\"2063\"}]},\"id\":\"2043\",\"type\":\"Legend\"},{\"attributes\":{\"line_alpha\":0.1,\"line_color\":\"#1f77b3\",\"line_width\":2,\"x\":{\"field\":\"x\"},\"y\":{\"field\":\"y\"}},\"id\":\"2029\",\"type\":\"Line\"},{\"attributes\":{\"axis_label\":\"dimensionless time\",\"formatter\":{\"id\":\"2038\"},\"major_label_policy\":{\"id\":\"2039\"},\"ticker\":{\"id\":\"2006\"}},\"id\":\"2005\",\"type\":\"LinearAxis\"},{\"attributes\":{\"line_color\":\"#1f77b3\",\"line_width\":2,\"x\":{\"field\":\"x\"},\"y\":{\"field\":\"y\"}},\"id\":\"2028\",\"type\":\"Line\"},{\"attributes\":{\"data_source\":{\"id\":\"2045\"},\"glyph\":{\"id\":\"2046\"},\"hover_glyph\":null,\"muted_glyph\":null,\"nonselection_glyph\":{\"id\":\"2047\"},\"view\":{\"id\":\"2049\"}},\"id\":\"2048\",\"type\":\"GlyphRenderer\"},{\"attributes\":{},\"id\":\"2006\",\"type\":\"BasicTicker\"},{\"attributes\":{},\"id\":\"2038\",\"type\":\"BasicTickFormatter\"},{\"attributes\":{},\"id\":\"2001\",\"type\":\"LinearScale\"},{\"attributes\":{},\"id\":\"2003\",\"type\":\"LinearScale\"},{\"attributes\":{\"data_source\":{\"id\":\"2027\"},\"glyph\":{\"id\":\"2028\"},\"hover_glyph\":null,\"muted_glyph\":null,\"nonselection_glyph\":{\"id\":\"2029\"},\"view\":{\"id\":\"2031\"}},\"id\":\"2030\",\"type\":\"GlyphRenderer\"},{\"attributes\":{\"end\":10},\"id\":\"1997\",\"type\":\"Range1d\"},{\"attributes\":{\"label\":{\"value\":\"z\"},\"renderers\":[{\"id\":\"2048\"}]},\"id\":\"2063\",\"type\":\"LegendItem\"},{\"attributes\":{\"axis\":{\"id\":\"2005\"},\"ticker\":null},\"id\":\"2008\",\"type\":\"Grid\"},{\"attributes\":{\"source\":{\"id\":\"2045\"}},\"id\":\"2049\",\"type\":\"CDSView\"},{\"attributes\":{\"data\":{\"x\":{\"__ndarray__\":\"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\",\"dtype\":\"float64\",\"order\":\"little\",\"shape\":[400]},\"y\":{\"__ndarray__\":\"AAAAAAAAAAAAAAAAAAAAAAAAAAAAAAAAAAAAAAAAAAAAAAAAAAAAAAAAAAAAAAAAAAAAAAAAAAAAAAAAAAAAAAAAAAAAAAAAAAAAAAAAAAAAAAAAAAAAAAAAAAAAAAAAAAAAAAAAAAAAAAAAAAAAAAAAAAAAAAAAAAAAAAAAAAAAAAAAAAAAAAAAAAAAAAAAAAAAAAAAAAAAAAAAAAAAAAAAAAAAAAAAAAAAAAAAAAAAAAAAAAAAAAAAAAAAAAAAAAAAAAAAAAAAAAAAAAAAAAAAAAAAAAAAAAAAAAAAAAAAAAAAAAAAAAAAAAAAAAAAAAAAAAAAAAAAAAAAAAAAAAAAAAAAAAAAAAAAAAAAAAAAAAAAAAAAAAAAAAAAAAAAAAAAAAAAAAAAAAAAAAAAAAAAAAAAAAAAAAAAAAAAAAAAAAAAAAAAAAAAAAAAAAAAAAAAAAAAAAAAAAAAAAAAAAAAAAAAAAAAAAAAAAAAAAAAAAAAAAAAAAAAAAAAAAAAAAAAAAAAAAAAAAAAAAAAAAAAAAAAAAAAAAAAAAAAAAAAAAAAAAAAAAAAAAAAAAAAAAAAAAAAAAAAAAAAAAAAAAAAAAAAAAAAAAAAAAAAAAAAAAAAAAAAAAAAAAAAAAAAAAAAAAAAAAAAAAAAAAAAAAAAAAAAAAAAAAAAAAAAAAAAAAAAAAAAAAAAAAAAAAAAAAAAAAAAAAAAAAAAAAAAAAAAAAAAAAAAAAAAAAAAAAAAAAAAAAAAAAAAAAAAAAAAAAAAAAAAAAAAAAAAAAAAAAAAAAAAAAAAAAAAAAAAAAAAAAAAAAAAAAAAAAAAAAAAAAAAAAAAAAAAAAAAAAAAAAAAAAAAAAAAAAAAAAAAAAAAAAAAAAAAAAAAAAAAAAAAAAAAAAAAAAAAAAAAAAAAAAAAAAAAAAAAAAAAAAAAAAAAAAAAAAAAAAAAAAAAAAAAAAAAAAAAAAAAAAAAAAAAAAAAAAAAAAAAAAAAAAAAAAAAAAAAAAAAAAAAAAAAAAAAAAAAAAAAAAAAAAAAAAAAAAAAAAAAAAAAAAAAAAAAAAAAAAAAAAAAAAAAAAAAAAAAAAAAAAAAAAAAAAAAAAAAAAAAAAAAAAAAAAAAAAAAAAAAAAAAAAAAAAAAAAAAAAAAAAAAAAAAAAAAAAAAAAAAAAAAAAAAAAAAAAAAAAAAAAAAAAAAAAAAAAAAAAAAAAAAAAAAAAAAAAAAAAAAAAAAAAAAAAAAAAAAAAAAAAAAAAAAAAAAAAAAAAAAAAAAAAAAAAAAAAAAAAAAAAAAAAAAAAAAAAAAAAAAAAAAAAAAAAAAAAAAAAAAAAAAAAAAAAAAAAAAAAAAAAAAAAAAAAAAAAAAAAAAAAAAAAAAAAAAAAAAAAAAAAAAAAAAAAAAAAAAAAAAAAAAAAAAAAAAAAAAAAAAAAAAAAAAAAAAAAAAAAAAAAAAAAAAAAAAAAAAAAAAAAAAAAAAAAAAAAAAAAAAAAAAAAAAAAAAAAAAAAAAAAAAAAAAAAAAAAAAAAAAAAAAAAAAAAAAAAAAAAAAAAAAAAAAAAAAAAAAAAAAAAAAAAAAAAAAAAAAAAAAAAAAAAAAAAAAAAAAAAAAAAAAAAAAAAAAAAAAAAAAAAAAAAAAAAAAAAAAAAAAAAAAAAAAAAAAAAAAAAAAAAAAAAAAAAAAAAAAAAAAAAAAAAAAAAAAAAAAAAAAAAAAAAAAAAAAAAAAAAAAAAAAAAAAAAAAAAAAAAAAAAAAAAAAAAAAAAAAAAAAAAAAAAAAAAAAAAAAAAAAAAAAAAAAAAAAAAAAAAAAAAAAAAAAAAAAAAAAAAAAAAAAAAAAAAAAAAAAAAAAAAAAAAAAAAAAAAAAAAAAAAAAAAAAAAAAAAAAAAAAAAAAAAAAAAAAAAAAAAAAAAAAAAAAAAAAAAAAAAAAAAAAAAAAAAAAAAAAAAAAAAAAAAAAAAAAAAAAAAAAAAAAAAAAAAAAAAAAAAAAAAAAAAAAAAAAAAAAAAAAAAAAAAAAAAAAAAAAAAAAAAAAAAAAAAAAAAAAAAAAAAAAAAAAAAAAAAAAAAAAAAAAAAAAAAAAAAAAAAAAAAAAAAAAAAAAAAAAAAAAAAAAAAAAAAAAAAAAAAAAAAAAAAAAAAAAAAAAAAAAAAAAAAAAAAAAAAAAAAAAAAAAAAAAAAAAAAAAAAAAAAAAAAAAAAAAAAAAAAAAAAAAAAAAAAAAAAAAAAAAAAAAAAAAAAAAAAAAAAAAAAAAAAAAAAAAAAAAAAAAAAAAAAAAAAAAAAAAAAAAAAAAAAAAAAAAAAAAAAAAAAAAAAAAAAAAAAAAAAAAAAAAAAAAAAAAAAAAAAAAAAAAAAAAAAAAAAAAAAAAAAAAAAAAAAAAAAAAAAAAAAAAAAAAAAAAAAAAAAAAAAAAAAAAAAAAAAAAAAAAAAAAAAAAAAAAAAAAAAAAAAAAAAAAAAAAAAAAAAAAAAAAAAAAAAAAAAAAAAAAAAAAAAAAAAAAAAAAAAAAAAAAAAAAAAAAAAAAAAAAAAAAAAAAAAAAAAAAAAAAAAAAAAAAAAAAAAAAAAAAAAAAAAAAAAAAAAAAAAAAAAAAAAAAAAAAAAAAAAAAAAAAAAAAAAAAAAAAAAAAAAAAAAAAAAAAAAAAAAAAAAAAAAAAAAAAAAAAAAAAAAAAAAAAAAAAAAAAAAAAAAAAAAAAAAAAAAAAAAAAAAAAAAAAAAAAAAAAAAAAAAAAAAAAAAAAAAAAAAAAAAAAAAAAAAAAAAAAAAAAAAAAAAAAAAAAAAAAAAAAAAAAAAAAAAAAAAAAAAAAAAAAAAAAAAAAAAAAAAAAAAAAAAAAAAAAAAAAAAAAAAAAAAAAAAAAAAAAAAAAAAAAAAAAAAAAAAAAAAAAAAAAAAAAAAAAAAAAAAAAAAAAAAAAAAAAAAAAAAAAAAAAAAAAAAAAAAAAAAAAAAAAAAAAAAAAAAAAAAAAAAAAAAAAAAAAAAAAAAAAAAAAAAAAAAAAAAAAAAAAAAAAAAAAAAAAAAAAAAAAAAAAAAAAAAAAAAAAAAAAAAAAAAAAAAAAAAAAAAAAAAAAAAAAAAAAAAAAAAAAAAAAAAAAAAAAAAAAAAAAAAAAAAAAAAAAAAAAAAAAAAAAAAAAAAAAAAAAAAAAAAAAAAAAAAAAAAAAAAAAAAAAAAAAAAAAAAAAAAAAAAAAAAAAAAAAAAAAAAAAAAAAAAAAAAAAAAAAAAAAAAAAAAAAAAAAAAAAAAAAAAAAAAAAAAAAAAAAAAAAAAAAAAAAAAAAAAAAAAAAAAAAAAAAAAAAAAAAAAAAAAAAAAAAAAAAAAAAAAAAAAAAAAAAAAAAAAAAAAAAAAAAAAAAAAAAAAAAAAAAAAAAAAAAAAAAAAAAAAAAAAAAAAAAAAAAAAAAAAAAAAAAAAAAAAAAAAAAAAAAAAAAAAAAAAAAAAAAAAAAAAAAAAAAAAAAAAAAAAAAAAAAAAAAAAAAAAAAAAAAAAAAAAAAAAAAAAAAAAAAAAAAAAAAAAAAAAAAAAAAAAAAAAAAAAAAAAAAAAAAAAAAAAAAAAAAAAAAAAAAAAAAAAAAAAAAAAAAAAAAAAAAAAAAAAAAAAAAAAAAAAAAAAAAAAAAAAAAAAAAAAAAAAAAAAAAAAAAAAAAAAAAAAAAAAAAAAAAAAAAAAAAAAAAAAAAAAAAAAAAAAAAAAAAAAAAAAAAAAAAAAAAAAAAAAAAAAAAAAAAAAAAAAAAAAAAAAAAAAAAAAAAAAAAAAAAAAAAAAAAAAAAAAAAAAAAAAAAAAAAAAAAAAAAAAAAAAAAAAAAAAAAAAAAAAAAAAAAAAAAAAAAAAAAAAAAAAAAAAAAAAAAAAAAAAAAAAAAAAAAAAAAAAAAAAAAAAAAAAAAAAAAAAAAAAAAAAAAAAAAAAAAAAAAAAAAAAAAAAAAAAAAAAAAAAAAAAAAAAAAAAAAAAAAAAAAAAAAAAAAAAAAAAAAAAAAAAAAAAAAAAAAAAAAAAAAAAAAAAAAAAAAAAAAAAAAAAAAAAAAAAAAAAAAAAAAAAAAAAAAAAAAAAAAAAAAAAAAAAAAAAAAAAAAAAAAAAAAAAAAAAAAAAAAAAAAAAAAAAAAAAAAAAAAAAAAAAAAAAAAAAAAAAAAAAAAAAAAAAAAAAAAAAAAAAAAAAAAAAAAAAAAAAAAAAAAAAAAAAAAAAAAAAAAAAAAAAAAAAAAAAAAAAAAAAAAAAAAAAAAAAAAAAAAAAAAAAAAAAAAAAAAAAAAAAAAAAA=\",\"dtype\":\"float64\",\"order\":\"little\",\"shape\":[400]}},\"selected\":{\"id\":\"2061\"},\"selection_policy\":{\"id\":\"2060\"}},\"id\":\"2045\",\"type\":\"ColumnDataSource\"},{\"attributes\":{},\"id\":\"2016\",\"type\":\"SaveTool\"},{\"attributes\":{\"axis\":{\"id\":\"2009\"},\"dimension\":1,\"ticker\":null},\"id\":\"2012\",\"type\":\"Grid\"},{\"attributes\":{\"line_color\":\"#ff7e0e\",\"line_width\":2,\"x\":{\"field\":\"x\"},\"y\":{\"field\":\"y\"}},\"id\":\"2046\",\"type\":\"Line\"},{\"attributes\":{},\"id\":\"1999\",\"type\":\"DataRange1d\"},{\"attributes\":{\"line_alpha\":0.1,\"line_color\":\"#ff7e0e\",\"line_width\":2,\"x\":{\"field\":\"x\"},\"y\":{\"field\":\"y\"}},\"id\":\"2047\",\"type\":\"Line\"},{\"attributes\":{\"data\":{\"x\":{\"__ndarray__\":\"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\",\"dtype\":\"float64\",\"order\":\"little\",\"shape\":[400]},\"y\":{\"__ndarray__\":\"AAAAAAAAAAAAAAAAAAAAAAAAAAAAAAAAAAAAAAAAAAAAAAAAAAAAAAAAAAAAAAAAAAAAAAAAAAAAAAAAAAAAAAAAAAAAAAAAAAAAAAAAAAAAAAAAAAAAAAAAAAAAAAAAAAAAAAAAAAAAAAAAAAAAAAAAAAAAAAAAAAAAAAAAAAAAAAAAAAAAAAAAAAAAAAAAAAAAAAAAAAAAAAAAAAAAAAAAAAAAAAAAAAAAAAAAAAAAAAAAAAAAAAAAAAAAAAAAAAAAAAAAAAAAAAAAAAAAAAAAAAAAAAAAAAAAAAAAAAAAAAAAAAAAAAAAAAAAAAAAAAAAAAAAAAAAAAAAAAAAAAAAAAAAAAAAAAAAAAAAAAAAAAAAAAAAAAAAAAAAAAAAAAAAAAAAAAAAAAAAAAAAAAAAAAAAAAAAAAAAAAAAAAAAAAAAAAAAAAAAAAAAAAAAAAAAAAAAAAAAAAAAAAAAAAAAAAAAAAAAAAAAAAAAAAAAAAAAAAAAAAAAAAAAAAAAAAAAAAAAAAAAAAAAAAAAAAAAAAAAAAAAAAAAAAAAAAAAAAAAAAAAAAAAAAAAAAAAAAAAAAAAAAAAAAAAAAAAAAAAAAAAAAAAAAAAAAAAAAAAAAAAAAAAAAAAAAAAAAAAAAAAAAAAAAAAAAAAAAAAAAAAAAAAAAAAAAAAAAAAAAAAAAAAAAAAAAAAAAAAAAAAAAAAAAAAAAAAAAAAAAAAAAAAAAAAAAAAAAAAAAAAAAAAAAAAAAAAAAAAAAAAAAAAAAAAAAAAAAAAAAAAAAAAAAAAAAAAAAAAAAAAAAAAAAAAAAAAAAAAAAAAAAAAAAAAAAAAAAAAAAAAAAAAAAAAAAAAAAAAAAAAAAAAAAAAAAAAAAAAAAAAAAAAAAAAAAAAAAAAAAAAAAAAAAAAAAAAAAAAAAAAAAAAAAAAAAAAAAAAAAAAAAAAAAAAAAAAAAAAAAAAAAAAAAAAAAAAAAAAAAAAAAAAAAAAAAAAAAAAAAAAAAAAAAAAAAAAAAAAAAAAAAAAAAAAAAAAAAAAAAAAAAAAAAAAAAAAAAAAAAAAAAAAAAAAAAAAAAAAAAAAAAAAAAAAAAAAAAAAAAAAAAAAAAAAAAAAAAAAAAAAAAAAAAAAAAAAAAAAAAAAAAAAAAAAAAAAAAAAAAAAAAAAAAAAAAAAAAAAAAAAAAAAAAAAAAAAAAAAAAAAAAAAAAAAAAAAAAAAAAAAAAAAAAAAAAAAAAAAAAAAAAAAAAAAAAAAAAAAAAAAAAAAAAAAAAAAAAAAAAAAAAAAAAAAAAAAAAAAAAAAAAAAAAAAAAAAAAAAAAAAAAAAAAAAAAAAAAAAAAAAAAAAAAAAAAAAAAAAAAAAAAAAAAAAAAAAAAAAAAAAAAAAAAAAAAAAAAAAAAAAAAAAAAAAAAAAAAAAAAAAAAAAAAAAAAAAAAAAAAAAAAAAAAAAAAAAAAAAAAAAAAAAAAAAAAAAAAAAAAAAAAAAAAAAAAAAAAAAAAAAAAAAAAAAAAAAAAAAAAAAAAAAAAAAAAAAAAAAAAAAAAAAAAAAAAAAAAAAAAAAAAAAAAAAAAAAAAAAAAAAAAAAAAAAAAAAAAAAAAAAAAAAAAAAAAAAAAAAAAAAAAAAAAAAAAAAAAAAAAAAAAAAAAAAAAAAAAAAAAAAAAAAAAAAAAAAAAAAAAAAAAAAAAAAAAAAAAAAAAAAAAAAAAAAAAAAAAAAAAAAAAAAAAAAAAAAAAAAAAAAAAAAAAAAAAAAAAAAAAAAAAAAAAAAAAAAAAAAAAAAAAAAAAAAAAAAAAAAAAAAAAAAAAAAAAAAAAAAAAAAAAAAAAAAAAAAAAAAAAAAAAAAAAAAAAAAAAAAAAAAAAAAAAAAAAAAAAAAAAAAAAAAAAAAAAAAAAAAAAAAAAAAAAAAAAAAAAAAAAAAAAAAAAAAAAAAAAAAAAAAAAAAAAAAAAAAAAAAAAAAAAAAAAAAAAAAAAAAAAAAAAAAAAAAAAAAAAAAAAAAAAAAAAAAAAAAAAAAAAAAAAAAAAAAAAAAAAAAAAAAAAAAAAAAAAAAAAAAAAAAAAAAAAAAAAAAAAAAAAAAAAAAAAAAAAAAAAAAAAAAAAAAAAAAAAAAAAAAAAAAAAAAAAAAAAAAAAAAAAAAAAAAAAAAAAAAAAAAAAAAAAAAAAAAAAAAAAAAAAAAAAAAAAAAAAAAAAAAAAAAAAAAAAAAAAAAAAAAAAAAAAAAAAAAAAAAAAAAAAAAAAAAAAAAAAAAAAAAAAAAAAAAAAAAAAAAAAAAAAAAAAAAAAAAAAAAAAAAAAAAAAAAAAAAAAAAAAAAAAAAAAAAAAAAAAAAAAAAAAAAAAAAAAAAAAAAAAAAAAAAAAAAAAAAAAAAAAAAAAAAAAAAAAAAAAAAAAAAAAAAAAAAAAAAAAAAAAAAAAAAAAAAAAAAAAAAAAAAAAAAAAAAAAAAAAAAAAAAAAAAAAAAAAAAAAAAAAAAAAAAAAAAAAAAAAAAAAAAAAAAAAAAAAAAAAAAAAAAAAAAAAAAAAAAAAAAAAAAAAAAAAAAAAAAAAAAAAAAAAAAAAAAAAAAAAAAAAAAAAAAAAAAAAAAAAAAAAAAAAAAAAAAAAAAAAAAAAAAAAAAAAAAAAAAAAAAAAAAAAAAAAAAAAAAAAAAAAAAAAAAAAAAAAAAAAAAAAAAAAAAAAAAAAAAAAAAAAAAAAAAAAAAAAAAAAAAAAAAAAAAAAAAAAAAAAAAAAAAAAAAAAAAAAAAAAAAAAAAAAAAAAAAAAAAAAAAAAAAAAAAAAAAAAAAAAAAAAAAAAAAAAAAAAAAAAAAAAAAAAAAAAAAAAAAAAAAAAAAAAAAAAAAAAAAAAAAAAAAAAAAAAAAAAAAAAAAAAAAAAAAAAAAAAAAAAAAAAAAAAAAAAAAAAAAAAAAAAAAAAAAAAAAAAAAAAAAAAAAAAAAAAAAAAAAAAAAAAAAAAAAAAAAAAAAAAAAAAAAAAAAAAAAAAAAAAAAAAAAAAAAAAAAAAAAAAAAAAAAAAAAAAAAAAAAAAAAAAAAAAAAAAAAAAAAAAAAAAAAAAAAAAAAAAAAAAAAAAAAAAAAAAAAAAAAAAAAAAAAAAAAAAAAAAAAAAAAAAAAAAAAAAAAAAAAAAAAAAAAAAAAAAAAAAAAAAAAAAAAAAAAAAAAAAAAAAAAAAAAAAAAAAAAAAAAAAAAAAAAAAAAAAAAAAAAAAAAAAAAAAAAAAAAAAAAAAAAAAAAAAAAAAAAAAAAAAAAAAAAAAAAAAAAAAAAAAAAAAAAAAAAAAAAAAAAAAAAAAAAAAAAAAAAAAAAAAAAAAAAAAAAAAAAAAAAAAAAAAAAAAAAAAAAAAAAAAAAAAAAAAAAAAAAAAAAAAAAAAAAAAAAAAAAAAAAAAAAAAAAAAAAAAAAAAAAAAAAAAAAAAAAAAAAAAAAAAAAAAAAAAAAAAAAAAAAAAAAAAAAAAAAAAAAAAAAAAAAAAAAAAAAAAAAAAAAAAAAAAAAAAAAAAAAAAAAAAAAAAAAAAAAAAAAAAAAAAAAAAAAAAAAAAAAAAAAAAAAAAAAAAAAAAAAAAAAAAAAAAAAAAAAAAAAAAAAAAAAAAAAAAAAAAAAAAAAAAAAAAAAAAAAAAAAAAAAAAAAAAAAAAAAAAAAAAAAAAAAAAAAAAAAAAAAAAAAAAAAAAAAAAAAAAAAAAAAAAAAAAAAAAAAAAAAAAAAAAAAAAAAAAAAAAAAAAAAAAAAAAAAAAAAAAAAAAAAAAAAAAAAAAAAAAAAAAAAAAAAAAAAAAAAAAAAAAAAAAAAAAAAAAAAAAAAAAAAAAAAAAAAAAAAAAAAAAAAAAAAAAAAAAAAAAAAAAAAAAAAAAAAAAAAAAAAAAAAAAAAAAAAAAAAAAAAAAAAAAAAAAAAAAAAAAAAAAAAAAAAAAAAAAAAAAAAAAAAAAAAAAAAAAAAAAAAAAAAAAAAAAAAAAAAAAAAAAAAAAAAAAAAAAAAAAAAAAAAAAAAAAAAAAAAAAAAAAAAAAAAAAAAAAAAAAAAAAAAAAAAAAAAAAAAAAAAAAAAAAAAAAAAAAAAAAAAAAAAAAAAAAAAAAAAAAAAAAAAAAAAAAAAAAAAAAAAAAAAAAAAAAAAAAAAAAAAAAAAAAAAAAAAAAAAAAAAAAAAAAAAAAAAAAAAAAAAAAAAAAAAAAAAAAAAAAAAAAAAAAAAAAAAAAAAAAAAAAAAAAAAAAAAAAAAAAAAAAAAAAAAAAAAAAAAAAAAAAAAAAAAAAAAAAAAAAA=\",\"dtype\":\"float64\",\"order\":\"little\",\"shape\":[400]}},\"selected\":{\"id\":\"2041\"},\"selection_policy\":{\"id\":\"2040\"}},\"id\":\"2027\",\"type\":\"ColumnDataSource\"}],\"root_ids\":[\"1996\"]},\"title\":\"Bokeh Application\",\"version\":\"2.3.0\"}};\n",
       "  var render_items = [{\"docid\":\"eb96bdf8-92a9-4a18-99e5-ae53a87963bd\",\"root_ids\":[\"1996\"],\"roots\":{\"1996\":\"2fbcdda4-5a15-4ea6-ab03-8de84ccdec9f\"}}];\n",
       "  root.Bokeh.embed.embed_items_notebook(docs_json, render_items);\n",
       "\n",
       "  }\n",
       "  if (root.Bokeh !== undefined) {\n",
       "    embed_document(root);\n",
       "  } else {\n",
       "    var attempts = 0;\n",
       "    var timer = setInterval(function(root) {\n",
       "      if (root.Bokeh !== undefined) {\n",
       "        clearInterval(timer);\n",
       "        embed_document(root);\n",
       "      } else {\n",
       "        attempts++;\n",
       "        if (attempts > 100) {\n",
       "          clearInterval(timer);\n",
       "          console.log(\"Bokeh: ERROR: Unable to run BokehJS code because BokehJS library is missing\");\n",
       "        }\n",
       "      }\n",
       "    }, 10, root)\n",
       "  }\n",
       "})(window);"
      ],
      "application/vnd.bokehjs_exec.v0+json": ""
     },
     "metadata": {
      "application/vnd.bokehjs_exec.v0+json": {
       "id": "1996"
      }
     },
     "output_type": "display_data"
    }
   ],
   "source": [
    "# Set up parameters for the pulse (on at t = 1, off at t = 1.05, x_0 = 2)\n",
    "x_args = (1.0, 0.05, 2.0)\n",
    "\n",
    "# Package parameters into a tuple\n",
    "args = (beta, gamma, n_x, n_y, x_pulse, x_args)\n",
    "\n",
    "# Integrate ODEs\n",
    "yz = scipy.integrate.odeint(cascade_rhs_x_fun, yz_0, t, args=args)\n",
    "\n",
    "# Pluck out y and z\n",
    "y, z = yz.transpose()\n",
    "\n",
    "# Plot the results\n",
    "p = bokeh.plotting.figure(\n",
    "    frame_width=450,\n",
    "    frame_height=250,\n",
    "    x_axis_label=\"dimensionless time\",\n",
    "    y_axis_label=\"dimensionless y, z\",\n",
    "    x_range=[0, 10],\n",
    ")\n",
    "\n",
    "# Populate glyphs\n",
    "p.line(t, y, line_width=2, color=colors[0], legend_label=\"y\")\n",
    "p.line(t, z, line_width=2, color=colors[1], legend_label=\"z\")\n",
    "\n",
    "# Place the legend\n",
    "p.legend.location = \"top_right\"\n",
    "\n",
    "# Show plot\n",
    "bokeh.io.show(p)"
   ]
  },
  {
   "cell_type": "markdown",
   "metadata": {},
   "source": [
    "Uh oh!  Something went wrong, since the Y signal never went up. This exposes an important issue with the algorithm used by `scipy.integrate.odeint()`. The Hindmarsh-Petzold algorithm uses variable step sizes so that it takes long steps when the system is not changing much and short steps when it is. Therefore, if we have a long period of no changes (leading up to $t = 1$), the step sizes taken by the solver will increase, and we'll step right over the pulse.\n",
    "\n",
    "So, it is in general good practice to explicitly take into account discontinuities in the parameters over time. In this case, we would use `scipy.integrate.odeint()` to integrate to the pulse and use the end point of that as the initial condition of a new solution during the pulse. Then, at the end of the pulse, we start again.  Let's try again using this method."
   ]
  },
  {
   "cell_type": "code",
   "execution_count": 25,
   "metadata": {},
   "outputs": [
    {
     "data": {
      "text/html": [
       "\n",
       "\n",
       "\n",
       "\n",
       "\n",
       "\n",
       "  <div class=\"bk-root\" id=\"d0898373-1489-413b-8f58-4e1172df3694\" data-root-id=\"2192\"></div>\n"
      ]
     },
     "metadata": {},
     "output_type": "display_data"
    },
    {
     "data": {
      "application/javascript": [
       "(function(root) {\n",
       "  function embed_document(root) {\n",
       "    \n",
       "  var docs_json = {\"248ac2ee-17a3-4a51-9612-3aa826f36c3f\":{\"defs\":[{\"extends\":null,\"module\":null,\"name\":\"DataModel\",\"overrides\":[],\"properties\":[]}],\"roots\":{\"references\":[{\"attributes\":{\"below\":[{\"id\":\"2201\"}],\"center\":[{\"id\":\"2204\"},{\"id\":\"2208\"},{\"id\":\"2239\"}],\"frame_height\":250,\"frame_width\":450,\"left\":[{\"id\":\"2205\"}],\"renderers\":[{\"id\":\"2226\"},{\"id\":\"2244\"}],\"title\":{\"id\":\"2229\"},\"toolbar\":{\"id\":\"2216\"},\"x_range\":{\"id\":\"2193\"},\"x_scale\":{\"id\":\"2197\"},\"y_range\":{\"id\":\"2195\"},\"y_scale\":{\"id\":\"2199\"}},\"id\":\"2192\",\"subtype\":\"Figure\",\"type\":\"Plot\"},{\"attributes\":{\"data_source\":{\"id\":\"2241\"},\"glyph\":{\"id\":\"2242\"},\"hover_glyph\":null,\"muted_glyph\":null,\"nonselection_glyph\":{\"id\":\"2243\"},\"view\":{\"id\":\"2245\"}},\"id\":\"2244\",\"type\":\"GlyphRenderer\"},{\"attributes\":{},\"id\":\"2236\",\"type\":\"UnionRenderers\"},{\"attributes\":{\"data\":{\"x\":{\"__ndarray__\":\"AAAAAAAAAAAor6G8hvKqPyivobyG8ro/XkN5DeU1xD8or6G8hvLKP3kN5TWU19A/XkN5DeU11D9DeQ3lNZTXPyivobyG8to/DeU1lNdQ3j95DeU1lNfgP2wor6G8huI/XkN5DeU15D9QXkN5DeXlP0N5DeU1lOc/NpTXUF5D6T8or6G8hvLqPxrKayivoew/DeU1lNdQ7j8AAAAAAADwP2cJu/ktBPA/zxJ281sI8D82HDHtiQzwP54l7Oa3EPA/BS+n4OUU8D9tOGLaExnwP9RBHdRBHfA/PEvYzW8h8D+jVJPHnSXwPwpeTsHLKfA/cmcJu/kt8D/ZcMS0JzLwP0F6f65VNvA/qIM6qIM68D8QjfWhsT7wP3eWsJvfQvA/359rlQ1H8D9GqSaPO0vwP66y4YhpT/A/FbycgpdT8D98xVd8xVfwP+TOEnbzW/A/S9jNbyFg8D+z4YhpT2TwPxrrQ2N9aPA/gvT+XKts8D/p/blW2XDwP1EHdVAHdfA/uBAwSjV58D8fGutDY33wP4cjpj2RgfA/7ixhN7+F8D9WNhwx7YnwP70/1yobjvA/JUmSJEmS8D+MUk0ed5bwP/RbCBilmvA/W2XDEdOe8D/Dbn4LAaPwPyp4OQUvp/A/kYH0/lyr8D/5iq/4iq/wP2CUavK4s/A/yJ0l7Oa38D8vp+DlFLzwP5ewm99CwPA//rlW2XDE8D9mwxHTnsjwP83MzMzMzPA/ubOE3fwW8j+lmjzuLGHzP5KB9P5cq/Q/fmisD4319T9qT2QgvT/3P1Y2HDHtifg/Qh3UQR3U+T8uBIxSTR77PxrrQ2N9aPw/B9L7c62y/T/zuLOE3fz+P/DPtcqGIwBAZsMR057IAEDctm3btm0BQFKqyePOEgJAyJ0l7Oa3AkA+kYH0/lwDQLSE3fwWAgRAKng5BS+nBECga5UNR0wFQBZf8RVf8QVAjFJNHneWBkACRqkmjzsHQHg5BS+n4AdA7ixhN7+FCEBkIL0/1yoJQNwTGUjvzwlAUgd1UAd1CkDI+tBYHxoLQD7uLGE3vwtAtOGIaU9kDEAq1eRxZwkNQKDIQHp/rg1AFrycgpdTDkCMr/iKr/gOQAKjVJPHnQ9APEvYzW8hEED3RAbS+3MQQLI+NNaHxhBAbThi2hMZEUAoMpDen2sRQOMrvuIrvhFAniXs5rcQEkBZHxrrQ2MSQBQZSO/PtRJAzxJ281sIE0CKDKT351oTQEUG0vtzrRNAAAAAAAAAFEA=\",\"dtype\":\"float64\",\"order\":\"little\",\"shape\":[118]},\"y\":{\"__ndarray__\":\"AAAAAAAAAAAAAAAAAAAAAAAAAAAAAAAAAAAAAAAAAAAAAAAAAAAAAAAAAAAAAAAAAAAAAAAAAAAAAAAAAAAAAAAAAAAAAAAAAAAAAAAAAAAAAAAAAAAAAAAAAAAAAAAAAAAAAAAAAAAAAAAAAAAAAAAAAAAAAAAAAAAAAAAAAAAAAAAAAAAAAAAAAAAAAAAAAAAAAAAAAAAAAAAAAAAAANzy8RVLvEo/PthZSNa4Wj+pSbA3BQhkP0II6QbhsWo/aADc0f+scD/rJQjOMAB0PxLz+HeDUnc/FAm30/ajej//JOZ5jvR9PyVZyhMkooA/x01dC5JJgj9EyfxLkfCDP8QvBQUil4U/LpMLWEQ9hz/ElY1m+OKIPzTYCFI+iIo/vvz6OxYtjD8RpOFFgNGNP29wOpF8dY8/Q4HBn4WMkD8Zfhw5Fl6RP6f/bCVwL5I/T7inc5MAkz/q1JcpgNGTPyE80lM2opQ/5qBUALZylT9htRw9/0KWP4YsKBgSE5c/fbh0n+7ilz8GDADhlLKYP+HZx+oEgpk/jyXRyj5Rmj8b3KCPQiCbP3EPhEcQ75s/yQieAKi9nD+TEBLJCYydPwdwA681Wp4/l2+VwCsonz95WOsL7PWfP485lE+7YaA/4uY3xGXIoD/t2sNq9S6hP/YYGEpqlaE/K001acT7oT9bIxzPA2KiP7VHzYIoyKI/BWZJizIuoz98KpHvIZSjP+ZApbb2+aM/8foWguVtoj8sRLGDgAChP25Gn0bQXp8/roU9KdbwnD+ZV78tCLOaP7bu8O6qoZg/pVugPU25lj9WmyYxwvaUP3bGmKwcV5M/B/kV5KfXkT+sX5615XWQP5xIEcoSX44/Fb6plucEjD+oKr6PX9mJP0Se6ujd2Ic/kuyLqQ0Ahj84qW8F3EuEP2lJ8pRyuYI/RtNDNzNGgT+UY7wBad9/P8h98lZ5Z30/4IMv6Xogez9imPHSowZ5Pw9r1lR0Fnc/JVP6m7JMdT+mV++eZKZzP2q2j7fLIHI/5WrqU1+5cD95QVRdkttuPwCBQqHCd2w/jsHhLVVDaj9QmrM9njpoPwRFm+U6WmY/4uzRiQyfZD8krU+IMQZjP/3TZowAjWE/lWj+SwYxYD+q7LpD/99dP2mz/x6rj1s/K4x9EDdtWT/vA67mFXVXPxrwXGj/o1U/ACT0OO72Uz9aQODAGGtSP4UF0RXr/VA/kynUcQtaTz/EQaCHcOxMP2BLC1r5rko/+wtDBuydSD8=\",\"dtype\":\"float64\",\"order\":\"little\",\"shape\":[118]}},\"selected\":{\"id\":\"2237\"},\"selection_policy\":{\"id\":\"2236\"}},\"id\":\"2223\",\"type\":\"ColumnDataSource\"},{\"attributes\":{},\"id\":\"2257\",\"type\":\"Selection\"},{\"attributes\":{},\"id\":\"2237\",\"type\":\"Selection\"},{\"attributes\":{\"end\":5},\"id\":\"2193\",\"type\":\"Range1d\"},{\"attributes\":{\"bottom_units\":\"screen\",\"fill_alpha\":0.5,\"fill_color\":\"lightgrey\",\"left_units\":\"screen\",\"level\":\"overlay\",\"line_alpha\":1.0,\"line_color\":\"black\",\"line_dash\":[4,4],\"line_width\":2,\"right_units\":\"screen\",\"syncable\":false,\"top_units\":\"screen\"},\"id\":\"2215\",\"type\":\"BoxAnnotation\"},{\"attributes\":{},\"id\":\"2256\",\"type\":\"UnionRenderers\"},{\"attributes\":{},\"id\":\"2199\",\"type\":\"LinearScale\"},{\"attributes\":{},\"id\":\"2197\",\"type\":\"LinearScale\"},{\"attributes\":{\"source\":{\"id\":\"2223\"}},\"id\":\"2227\",\"type\":\"CDSView\"},{\"attributes\":{},\"id\":\"2195\",\"type\":\"DataRange1d\"},{\"attributes\":{\"axis_label\":\"dimensionless time\",\"formatter\":{\"id\":\"2234\"},\"major_label_policy\":{\"id\":\"2235\"},\"ticker\":{\"id\":\"2202\"}},\"id\":\"2201\",\"type\":\"LinearAxis\"},{\"attributes\":{},\"id\":\"2202\",\"type\":\"BasicTicker\"},{\"attributes\":{\"axis\":{\"id\":\"2201\"},\"ticker\":null},\"id\":\"2204\",\"type\":\"Grid\"},{\"attributes\":{},\"id\":\"2210\",\"type\":\"WheelZoomTool\"},{\"attributes\":{\"axis_label\":\"dimensionless y, z\",\"formatter\":{\"id\":\"2231\"},\"major_label_policy\":{\"id\":\"2232\"},\"ticker\":{\"id\":\"2206\"}},\"id\":\"2205\",\"type\":\"LinearAxis\"},{\"attributes\":{\"axis\":{\"id\":\"2205\"},\"dimension\":1,\"ticker\":null},\"id\":\"2208\",\"type\":\"Grid\"},{\"attributes\":{},\"id\":\"2206\",\"type\":\"BasicTicker\"},{\"attributes\":{\"active_multi\":null,\"tools\":[{\"id\":\"2209\"},{\"id\":\"2210\"},{\"id\":\"2211\"},{\"id\":\"2212\"},{\"id\":\"2213\"},{\"id\":\"2214\"}]},\"id\":\"2216\",\"type\":\"Toolbar\"},{\"attributes\":{},\"id\":\"2214\",\"type\":\"HelpTool\"},{\"attributes\":{},\"id\":\"2209\",\"type\":\"PanTool\"},{\"attributes\":{\"overlay\":{\"id\":\"2215\"}},\"id\":\"2211\",\"type\":\"BoxZoomTool\"},{\"attributes\":{},\"id\":\"2212\",\"type\":\"SaveTool\"},{\"attributes\":{},\"id\":\"2231\",\"type\":\"BasicTickFormatter\"},{\"attributes\":{},\"id\":\"2213\",\"type\":\"ResetTool\"},{\"attributes\":{\"label\":{\"value\":\"z\"},\"renderers\":[{\"id\":\"2244\"}]},\"id\":\"2259\",\"type\":\"LegendItem\"},{\"attributes\":{\"source\":{\"id\":\"2241\"}},\"id\":\"2245\",\"type\":\"CDSView\"},{\"attributes\":{},\"id\":\"2232\",\"type\":\"AllLabels\"},{\"attributes\":{\"line_alpha\":0.1,\"line_color\":\"#1f77b3\",\"line_width\":2,\"x\":{\"field\":\"x\"},\"y\":{\"field\":\"y\"}},\"id\":\"2225\",\"type\":\"Line\"},{\"attributes\":{\"line_color\":\"#ff7e0e\",\"line_width\":2,\"x\":{\"field\":\"x\"},\"y\":{\"field\":\"y\"}},\"id\":\"2242\",\"type\":\"Line\"},{\"attributes\":{\"line_alpha\":0.1,\"line_color\":\"#ff7e0e\",\"line_width\":2,\"x\":{\"field\":\"x\"},\"y\":{\"field\":\"y\"}},\"id\":\"2243\",\"type\":\"Line\"},{\"attributes\":{},\"id\":\"2234\",\"type\":\"BasicTickFormatter\"},{\"attributes\":{},\"id\":\"2229\",\"type\":\"Title\"},{\"attributes\":{},\"id\":\"2235\",\"type\":\"AllLabels\"},{\"attributes\":{\"items\":[{\"id\":\"2240\"},{\"id\":\"2259\"}]},\"id\":\"2239\",\"type\":\"Legend\"},{\"attributes\":{\"label\":{\"value\":\"y\"},\"renderers\":[{\"id\":\"2226\"}]},\"id\":\"2240\",\"type\":\"LegendItem\"},{\"attributes\":{\"data\":{\"x\":{\"__ndarray__\":\"AAAAAAAAAAAor6G8hvKqPyivobyG8ro/XkN5DeU1xD8or6G8hvLKP3kN5TWU19A/XkN5DeU11D9DeQ3lNZTXPyivobyG8to/DeU1lNdQ3j95DeU1lNfgP2wor6G8huI/XkN5DeU15D9QXkN5DeXlP0N5DeU1lOc/NpTXUF5D6T8or6G8hvLqPxrKayivoew/DeU1lNdQ7j8AAAAAAADwP2cJu/ktBPA/zxJ281sI8D82HDHtiQzwP54l7Oa3EPA/BS+n4OUU8D9tOGLaExnwP9RBHdRBHfA/PEvYzW8h8D+jVJPHnSXwPwpeTsHLKfA/cmcJu/kt8D/ZcMS0JzLwP0F6f65VNvA/qIM6qIM68D8QjfWhsT7wP3eWsJvfQvA/359rlQ1H8D9GqSaPO0vwP66y4YhpT/A/FbycgpdT8D98xVd8xVfwP+TOEnbzW/A/S9jNbyFg8D+z4YhpT2TwPxrrQ2N9aPA/gvT+XKts8D/p/blW2XDwP1EHdVAHdfA/uBAwSjV58D8fGutDY33wP4cjpj2RgfA/7ixhN7+F8D9WNhwx7YnwP70/1yobjvA/JUmSJEmS8D+MUk0ed5bwP/RbCBilmvA/W2XDEdOe8D/Dbn4LAaPwPyp4OQUvp/A/kYH0/lyr8D/5iq/4iq/wP2CUavK4s/A/yJ0l7Oa38D8vp+DlFLzwP5ewm99CwPA//rlW2XDE8D9mwxHTnsjwP83MzMzMzPA/ubOE3fwW8j+lmjzuLGHzP5KB9P5cq/Q/fmisD4319T9qT2QgvT/3P1Y2HDHtifg/Qh3UQR3U+T8uBIxSTR77PxrrQ2N9aPw/B9L7c62y/T/zuLOE3fz+P/DPtcqGIwBAZsMR057IAEDctm3btm0BQFKqyePOEgJAyJ0l7Oa3AkA+kYH0/lwDQLSE3fwWAgRAKng5BS+nBECga5UNR0wFQBZf8RVf8QVAjFJNHneWBkACRqkmjzsHQHg5BS+n4AdA7ixhN7+FCEBkIL0/1yoJQNwTGUjvzwlAUgd1UAd1CkDI+tBYHxoLQD7uLGE3vwtAtOGIaU9kDEAq1eRxZwkNQKDIQHp/rg1AFrycgpdTDkCMr/iKr/gOQAKjVJPHnQ9APEvYzW8hEED3RAbS+3MQQLI+NNaHxhBAbThi2hMZEUAoMpDen2sRQOMrvuIrvhFAniXs5rcQEkBZHxrrQ2MSQBQZSO/PtRJAzxJ281sIE0CKDKT351oTQEUG0vtzrRNAAAAAAAAAFEA=\",\"dtype\":\"float64\",\"order\":\"little\",\"shape\":[118]},\"y\":{\"__ndarray__\":\"AAAAAAAAAAAAAAAAAAAAAAAAAAAAAAAAAAAAAAAAAAAAAAAAAAAAAAAAAAAAAAAAAAAAAAAAAAAAAAAAAAAAAAAAAAAAAAAAAAAAAAAAAAAAAAAAAAAAAAAAAAAAAAAAAAAAAAAAAAAAAAAAAAAAAAAAAAAAAAAAAAAAAAAAAAAAAAAAAAAAAAAAAAAAAAAAAAAAAAAAAAAAAAAAAAAAAKBaU3RThQ8+/vp9gE9RMz6/NE6VEipHPlx6jJsQVFU+IKqyu8e5Yj5wkQePONpuPqp24mOthXc+hnDW5lYOgD7LYY/tsmiHPlEG5H+vBpA+hHMAjtUUlT7ojhn3kv2aPmAnAOpd8qA+1tHG8SHypD7Gum8LB4upPgrSia/+ya4+GwZSK/1dsj46rKa89ba1PgVWCshhdrk+tHrECbqivT4SSg6fOyHBPk8OrRAJrsM+WEMVYZd6xj7cqQwlmIfJPuR2vE5Q18w+INT0Ryw20D48nCzNpCTSPtIS6A9eONQ+AbUJaaRy1j5kAXQxxNTYPrl2CcIJYNs++glqQsAV3j5WyiEBj3vgPuSdozWxAuI+gj8s2+mg4z6GbS0O3FblPtznGOsqJec+x2xgjnkM6T5LvHUUaw3rPpCUypmiKO0+WGIXL8Ne7z51aki1LtjwPpK/LlEAD/I+kmjzlyRU8z5UHEu26af0PvSS6tidCvY+Q4OGLI989z5spdPdC/74PjGwhhlij/o+GUjsqmlMIT89C9Pg4xMsP9MtfkIYHDI/6X6jRCMZNT/mtczMpDM3P+B1arcQljg/A7qrrNhjOT8rT4w2iLo5P6v48v+Lsjk/e9HzU3lgOT9LJNWCJtU4PwJQ2Px3Hjg/VHXNOdVHNz+chXIgk1o2P0nJKTRNXjU/sfyjgyNZND9LoUxR/U8zP+GZ7znMRjI/mhf3HqxAMT/iAhqb7j8wP2Z92QKwjC4/2JNleZGqLD/Y76bZV9sqP9UG1l1ZICk/AKSoUFd6Jz/gPu8LseklPxyuBypobiQ/mhLsEkcIIz/CdsKM5LYhP8fwH9GweSA/Aj69j/ufHj+VCOwBGXIcPxK1VdoeaBo/EtlcYUuAGD/jFnow5bgWP9Aq0xxBEBU/qunM4qOEEz9OLEX+XxQSP69qxLbbvRA/KLTbUf7+Dj8jLiWUh68MP4ufHrB1igo/VDfD6PuMCD80/j10crQGP0EWpOZj/gQ/Fp9aRnVoAz9zwCEwbvABP6icUo46lAA/5nwEbsWj/j4=\",\"dtype\":\"float64\",\"order\":\"little\",\"shape\":[118]}},\"selected\":{\"id\":\"2257\"},\"selection_policy\":{\"id\":\"2256\"}},\"id\":\"2241\",\"type\":\"ColumnDataSource\"},{\"attributes\":{\"line_color\":\"#1f77b3\",\"line_width\":2,\"x\":{\"field\":\"x\"},\"y\":{\"field\":\"y\"}},\"id\":\"2224\",\"type\":\"Line\"},{\"attributes\":{\"data_source\":{\"id\":\"2223\"},\"glyph\":{\"id\":\"2224\"},\"hover_glyph\":null,\"muted_glyph\":null,\"nonselection_glyph\":{\"id\":\"2225\"},\"view\":{\"id\":\"2227\"}},\"id\":\"2226\",\"type\":\"GlyphRenderer\"}],\"root_ids\":[\"2192\"]},\"title\":\"Bokeh Application\",\"version\":\"2.3.0\"}};\n",
       "  var render_items = [{\"docid\":\"248ac2ee-17a3-4a51-9612-3aa826f36c3f\",\"root_ids\":[\"2192\"],\"roots\":{\"2192\":\"d0898373-1489-413b-8f58-4e1172df3694\"}}];\n",
       "  root.Bokeh.embed.embed_items_notebook(docs_json, render_items);\n",
       "\n",
       "  }\n",
       "  if (root.Bokeh !== undefined) {\n",
       "    embed_document(root);\n",
       "  } else {\n",
       "    var attempts = 0;\n",
       "    var timer = setInterval(function(root) {\n",
       "      if (root.Bokeh !== undefined) {\n",
       "        clearInterval(timer);\n",
       "        embed_document(root);\n",
       "      } else {\n",
       "        attempts++;\n",
       "        if (attempts > 100) {\n",
       "          clearInterval(timer);\n",
       "          console.log(\"Bokeh: ERROR: Unable to run BokehJS code because BokehJS library is missing\");\n",
       "        }\n",
       "      }\n",
       "    }, 10, root)\n",
       "  }\n",
       "})(window);"
      ],
      "application/vnd.bokehjs_exec.v0+json": ""
     },
     "metadata": {
      "application/vnd.bokehjs_exec.v0+json": {
       "id": "2192"
      }
     },
     "output_type": "display_data"
    }
   ],
   "source": [
    "# Integrate prior to pulse\n",
    "t_before_pulse = np.linspace(0, 1.0, 20)\n",
    "args = (beta, gamma, n_x, n_y, 0.0)\n",
    "yz_0 = np.array([0.0, 0.0])\n",
    "yz_before_pulse = scipy.integrate.odeint(\n",
    "    cascade_rhs, yz_0, t_before_pulse, args=args\n",
    ")\n",
    "\n",
    "# Integrate during pulse\n",
    "t_during_pulse = np.linspace(1.0, 1.05, 50)\n",
    "args = (beta, gamma, n_x, n_y, 2.0)\n",
    "yz_0 = yz_before_pulse[-1]\n",
    "yz_during_pulse = scipy.integrate.odeint(\n",
    "    cascade_rhs, yz_0, t_during_pulse, args=args\n",
    ")\n",
    "\n",
    "# Integrate after pulse\n",
    "t_after_pulse = np.linspace(1.05, 5, 50)\n",
    "args = (beta, gamma, n_x, n_y, 0.0)\n",
    "yz_0 = yz_during_pulse[-1]\n",
    "yz_after_pulse = scipy.integrate.odeint(\n",
    "    cascade_rhs, yz_0, t_after_pulse, args=args\n",
    ")\n",
    "\n",
    "# Piece together solution\n",
    "t = np.concatenate((t_before_pulse, t_during_pulse[1:], t_after_pulse[1:]))\n",
    "yz = np.vstack(\n",
    "    (yz_before_pulse, yz_during_pulse[1:, :], yz_after_pulse[1:, :])\n",
    ")\n",
    "y, z = yz.transpose()\n",
    "\n",
    "# Plot the results\n",
    "p = bokeh.plotting.figure(\n",
    "    frame_width=450,\n",
    "    frame_height=250,\n",
    "    x_axis_label=\"dimensionless time\",\n",
    "    y_axis_label=\"dimensionless y, z\",\n",
    "    x_range=[0, 5],\n",
    ")\n",
    "\n",
    "# Populate glyphs\n",
    "p.line(t, y, line_width=2, color=colors[0], legend_label=\"y\")\n",
    "p.line(t, z, line_width=2, color=colors[1], legend_label=\"z\")\n",
    "\n",
    "# Place the legend\n",
    "p.legend.location = \"top_right\"\n",
    "\n",
    "# Show plot\n",
    "bokeh.io.show(p)"
   ]
  },
  {
   "cell_type": "markdown",
   "metadata": {},
   "source": [
    "Much better. Dealing with discontinuities like this while solving systems of ODEs are facilitated by **event handling**. Unfortunately, `scipy.integrate.odeint()` does not allow for event handling, and we need to take the less elegant approach we just showed.\n",
    "\n",
    "Note that `scipy.integrate.solve_ivp()` *does* have event handling capabilities. However, we will seldom need event handing for our purposes, and it is still advantages to use `scipy.integrate.odeint()` due to its low overhead."
   ]
  },
  {
   "cell_type": "markdown",
   "metadata": {},
   "source": [
    "## Periodic input\n",
    "\n",
    "Finally, we will consider the case where we have periodic forcing of the circuit. We will do this for highly cooperative activation by Y, taking $n_y = 10$. Recall that this gives a longer time delay.\n",
    "\n",
    "We first write a function for the forcing, `x_fun`, which is periodic with frequency $f$."
   ]
  },
  {
   "cell_type": "code",
   "execution_count": 26,
   "metadata": {},
   "outputs": [
    {
     "data": {
      "text/html": [
       "\n",
       "\n",
       "\n",
       "\n",
       "\n",
       "\n",
       "  <div class=\"bk-root\" id=\"8d41c960-95d6-429d-bfb5-b31ad4cf468e\" data-root-id=\"2401\"></div>\n"
      ]
     },
     "metadata": {},
     "output_type": "display_data"
    },
    {
     "data": {
      "application/javascript": [
       "(function(root) {\n",
       "  function embed_document(root) {\n",
       "    \n",
       "  var docs_json = {\"7c460a11-3b64-43a1-9556-8ea342fafa9c\":{\"defs\":[{\"extends\":null,\"module\":null,\"name\":\"DataModel\",\"overrides\":[],\"properties\":[]}],\"roots\":{\"references\":[{\"attributes\":{\"below\":[{\"id\":\"2410\"}],\"center\":[{\"id\":\"2413\"},{\"id\":\"2417\"}],\"frame_height\":250,\"frame_width\":450,\"left\":[{\"id\":\"2414\"}],\"renderers\":[{\"id\":\"2435\"}],\"title\":{\"id\":\"2514\"},\"toolbar\":{\"id\":\"2425\"},\"x_range\":{\"id\":\"2402\"},\"x_scale\":{\"id\":\"2406\"},\"y_range\":{\"id\":\"2404\"},\"y_scale\":{\"id\":\"2408\"}},\"id\":\"2401\",\"subtype\":\"Figure\",\"type\":\"Plot\"},{\"attributes\":{},\"id\":\"2517\",\"type\":\"AllLabels\"},{\"attributes\":{},\"id\":\"2522\",\"type\":\"Selection\"},{\"attributes\":{\"bottom_units\":\"screen\",\"fill_alpha\":0.5,\"fill_color\":\"lightgrey\",\"left_units\":\"screen\",\"level\":\"overlay\",\"line_alpha\":1.0,\"line_color\":\"black\",\"line_dash\":[4,4],\"line_width\":2,\"right_units\":\"screen\",\"syncable\":false,\"top_units\":\"screen\"},\"id\":\"2424\",\"type\":\"BoxAnnotation\"},{\"attributes\":{},\"id\":\"2519\",\"type\":\"BasicTickFormatter\"},{\"attributes\":{},\"id\":\"2520\",\"type\":\"AllLabels\"},{\"attributes\":{},\"id\":\"2411\",\"type\":\"BasicTicker\"},{\"attributes\":{\"axis_label\":\"dimensionless time\",\"formatter\":{\"id\":\"2519\"},\"major_label_policy\":{\"id\":\"2520\"},\"ticker\":{\"id\":\"2411\"}},\"id\":\"2410\",\"type\":\"LinearAxis\"},{\"attributes\":{\"end\":10},\"id\":\"2402\",\"type\":\"Range1d\"},{\"attributes\":{\"data_source\":{\"id\":\"2432\"},\"glyph\":{\"id\":\"2433\"},\"hover_glyph\":null,\"muted_glyph\":null,\"nonselection_glyph\":{\"id\":\"2434\"},\"view\":{\"id\":\"2436\"}},\"id\":\"2435\",\"type\":\"GlyphRenderer\"},{\"attributes\":{\"data\":{\"x\":{\"__ndarray__\":\"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\",\"dtype\":\"float64\",\"order\":\"little\",\"shape\":[500]},\"y\":{\"__ndarray__\":\"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\",\"dtype\":\"float64\",\"order\":\"little\",\"shape\":[500]}},\"selected\":{\"id\":\"2522\"},\"selection_policy\":{\"id\":\"2521\"}},\"id\":\"2432\",\"type\":\"ColumnDataSource\"},{\"attributes\":{},\"id\":\"2408\",\"type\":\"LinearScale\"},{\"attributes\":{\"line_color\":\"#2ba02b\",\"line_width\":2,\"x\":{\"field\":\"x\"},\"y\":{\"field\":\"y\"}},\"id\":\"2433\",\"type\":\"Line\"},{\"attributes\":{},\"id\":\"2406\",\"type\":\"LinearScale\"},{\"attributes\":{},\"id\":\"2404\",\"type\":\"DataRange1d\"},{\"attributes\":{\"axis\":{\"id\":\"2410\"},\"ticker\":null},\"id\":\"2413\",\"type\":\"Grid\"},{\"attributes\":{\"line_alpha\":0.1,\"line_color\":\"#2ba02b\",\"line_width\":2,\"x\":{\"field\":\"x\"},\"y\":{\"field\":\"y\"}},\"id\":\"2434\",\"type\":\"Line\"},{\"attributes\":{\"axis_label\":\"dimensionless y, z\",\"formatter\":{\"id\":\"2516\"},\"major_label_policy\":{\"id\":\"2517\"},\"ticker\":{\"id\":\"2415\"}},\"id\":\"2414\",\"type\":\"LinearAxis\"},{\"attributes\":{\"source\":{\"id\":\"2432\"}},\"id\":\"2436\",\"type\":\"CDSView\"},{\"attributes\":{},\"id\":\"2419\",\"type\":\"WheelZoomTool\"},{\"attributes\":{\"axis\":{\"id\":\"2414\"},\"dimension\":1,\"ticker\":null},\"id\":\"2417\",\"type\":\"Grid\"},{\"attributes\":{\"active_multi\":null,\"tools\":[{\"id\":\"2418\"},{\"id\":\"2419\"},{\"id\":\"2420\"},{\"id\":\"2421\"},{\"id\":\"2422\"},{\"id\":\"2423\"}]},\"id\":\"2425\",\"type\":\"Toolbar\"},{\"attributes\":{},\"id\":\"2418\",\"type\":\"PanTool\"},{\"attributes\":{},\"id\":\"2421\",\"type\":\"SaveTool\"},{\"attributes\":{},\"id\":\"2514\",\"type\":\"Title\"},{\"attributes\":{},\"id\":\"2423\",\"type\":\"HelpTool\"},{\"attributes\":{},\"id\":\"2415\",\"type\":\"BasicTicker\"},{\"attributes\":{\"overlay\":{\"id\":\"2424\"}},\"id\":\"2420\",\"type\":\"BoxZoomTool\"},{\"attributes\":{},\"id\":\"2422\",\"type\":\"ResetTool\"},{\"attributes\":{},\"id\":\"2521\",\"type\":\"UnionRenderers\"},{\"attributes\":{},\"id\":\"2516\",\"type\":\"BasicTickFormatter\"}],\"root_ids\":[\"2401\"]},\"title\":\"Bokeh Application\",\"version\":\"2.3.0\"}};\n",
       "  var render_items = [{\"docid\":\"7c460a11-3b64-43a1-9556-8ea342fafa9c\",\"root_ids\":[\"2401\"],\"roots\":{\"2401\":\"8d41c960-95d6-429d-bfb5-b31ad4cf468e\"}}];\n",
       "  root.Bokeh.embed.embed_items_notebook(docs_json, render_items);\n",
       "\n",
       "  }\n",
       "  if (root.Bokeh !== undefined) {\n",
       "    embed_document(root);\n",
       "  } else {\n",
       "    var attempts = 0;\n",
       "    var timer = setInterval(function(root) {\n",
       "      if (root.Bokeh !== undefined) {\n",
       "        clearInterval(timer);\n",
       "        embed_document(root);\n",
       "      } else {\n",
       "        attempts++;\n",
       "        if (attempts > 100) {\n",
       "          clearInterval(timer);\n",
       "          console.log(\"Bokeh: ERROR: Unable to run BokehJS code because BokehJS library is missing\");\n",
       "        }\n",
       "      }\n",
       "    }, 10, root)\n",
       "  }\n",
       "})(window);"
      ],
      "application/vnd.bokehjs_exec.v0+json": ""
     },
     "metadata": {
      "application/vnd.bokehjs_exec.v0+json": {
       "id": "2401"
      }
     },
     "output_type": "display_data"
    }
   ],
   "source": [
    "def x_periodic(t, f, x_0):\n",
    "    \"\"\"\n",
    "    Returns x value for periodic forcing of amplitude x_0 and frequency f.\n",
    "    \"\"\"\n",
    "    if type(f) in [float, int]:\n",
    "        return x_0 * (1 + np.sin(f * t))\n",
    "    else:\n",
    "        sin_sum = np.zeros_like(t)\n",
    "        for freq, amp in zip(f, x_0):\n",
    "            sin_sum += amp * (1 + np.sin(freq * t))\n",
    "        return sin_sum\n",
    "\n",
    "\n",
    "# Plot the forcing\n",
    "t = np.linspace(0, 10, 500)\n",
    "\n",
    "# Plot the results\n",
    "p = bokeh.plotting.figure(\n",
    "    frame_width=450,\n",
    "    frame_height=250,\n",
    "    x_axis_label=\"dimensionless time\",\n",
    "    y_axis_label=\"dimensionless y, z\",\n",
    "    x_range=[0, 10],\n",
    ")\n",
    "\n",
    "# Populate glyphs\n",
    "p.line(t, x_periodic(t, 5, 2.0), line_width=2, color=colors[2])\n",
    "\n",
    "# Show plot\n",
    "bokeh.io.show(p)"
   ]
  },
  {
   "cell_type": "markdown",
   "metadata": {},
   "source": [
    "Let's see how the circuit responds to a low-frequency input."
   ]
  },
  {
   "cell_type": "code",
   "execution_count": 27,
   "metadata": {},
   "outputs": [
    {
     "data": {
      "text/html": [
       "\n",
       "\n",
       "\n",
       "\n",
       "\n",
       "\n",
       "  <div class=\"bk-root\" id=\"9eb10583-3e3b-43a3-b5c1-6b4e987245ed\" data-root-id=\"2579\"></div>\n"
      ]
     },
     "metadata": {},
     "output_type": "display_data"
    },
    {
     "data": {
      "application/javascript": [
       "(function(root) {\n",
       "  function embed_document(root) {\n",
       "    \n",
       "  var docs_json = {\"4cf64fed-5c75-4b2f-a642-f048d788b99c\":{\"defs\":[{\"extends\":null,\"module\":null,\"name\":\"DataModel\",\"overrides\":[],\"properties\":[]}],\"roots\":{\"references\":[{\"attributes\":{\"below\":[{\"id\":\"2588\"}],\"center\":[{\"id\":\"2591\"},{\"id\":\"2595\"},{\"id\":\"2626\"}],\"frame_height\":250,\"frame_width\":450,\"left\":[{\"id\":\"2592\"}],\"renderers\":[{\"id\":\"2613\"},{\"id\":\"2631\"},{\"id\":\"2650\"}],\"title\":{\"id\":\"2616\"},\"toolbar\":{\"id\":\"2603\"},\"x_range\":{\"id\":\"2580\"},\"x_scale\":{\"id\":\"2584\"},\"y_range\":{\"id\":\"2582\"},\"y_scale\":{\"id\":\"2586\"}},\"id\":\"2579\",\"subtype\":\"Figure\",\"type\":\"Plot\"},{\"attributes\":{},\"id\":\"2584\",\"type\":\"LinearScale\"},{\"attributes\":{\"line_alpha\":0.1,\"line_color\":\"#1f77b3\",\"line_width\":2,\"x\":{\"field\":\"x\"},\"y\":{\"field\":\"y\"}},\"id\":\"2612\",\"type\":\"Line\"},{\"attributes\":{\"line_color\":\"#1f77b3\",\"line_width\":2,\"x\":{\"field\":\"x\"},\"y\":{\"field\":\"y\"}},\"id\":\"2611\",\"type\":\"Line\"},{\"attributes\":{\"label\":{\"value\":\"y\"},\"renderers\":[{\"id\":\"2613\"}]},\"id\":\"2627\",\"type\":\"LegendItem\"},{\"attributes\":{},\"id\":\"2586\",\"type\":\"LinearScale\"},{\"attributes\":{\"axis_label\":\"dimensionless time\",\"formatter\":{\"id\":\"2621\"},\"major_label_policy\":{\"id\":\"2622\"},\"ticker\":{\"id\":\"2589\"}},\"id\":\"2588\",\"type\":\"LinearAxis\"},{\"attributes\":{},\"id\":\"2589\",\"type\":\"BasicTicker\"},{\"attributes\":{\"axis\":{\"id\":\"2588\"},\"ticker\":null},\"id\":\"2591\",\"type\":\"Grid\"},{\"attributes\":{},\"id\":\"2597\",\"type\":\"WheelZoomTool\"},{\"attributes\":{\"source\":{\"id\":\"2647\"}},\"id\":\"2651\",\"type\":\"CDSView\"},{\"attributes\":{\"axis_label\":\"dimensionless y, z\",\"formatter\":{\"id\":\"2618\"},\"major_label_policy\":{\"id\":\"2619\"},\"ticker\":{\"id\":\"2593\"}},\"id\":\"2592\",\"type\":\"LinearAxis\"},{\"attributes\":{\"line_alpha\":0.2,\"line_color\":\"#2ba02b\",\"line_width\":2,\"x\":{\"field\":\"x\"},\"y\":{\"field\":\"y\"}},\"id\":\"2648\",\"type\":\"Line\"},{\"attributes\":{\"axis\":{\"id\":\"2592\"},\"dimension\":1,\"ticker\":null},\"id\":\"2595\",\"type\":\"Grid\"},{\"attributes\":{},\"id\":\"2593\",\"type\":\"BasicTicker\"},{\"attributes\":{\"data\":{\"x\":{\"__ndarray__\":\"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\",\"dtype\":\"float64\",\"order\":\"little\",\"shape\":[300]},\"y\":{\"__ndarray__\":\"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\",\"dtype\":\"float64\",\"order\":\"little\",\"shape\":[300]}},\"selected\":{\"id\":\"2624\"},\"selection_policy\":{\"id\":\"2623\"}},\"id\":\"2610\",\"type\":\"ColumnDataSource\"},{\"attributes\":{\"line_alpha\":0.1,\"line_color\":\"#2ba02b\",\"line_width\":2,\"x\":{\"field\":\"x\"},\"y\":{\"field\":\"y\"}},\"id\":\"2649\",\"type\":\"Line\"},{\"attributes\":{},\"id\":\"2601\",\"type\":\"HelpTool\"},{\"attributes\":{},\"id\":\"2596\",\"type\":\"PanTool\"},{\"attributes\":{\"data_source\":{\"id\":\"2647\"},\"glyph\":{\"id\":\"2648\"},\"hover_glyph\":null,\"muted_glyph\":null,\"nonselection_glyph\":{\"id\":\"2649\"},\"view\":{\"id\":\"2651\"}},\"id\":\"2650\",\"type\":\"GlyphRenderer\"},{\"attributes\":{\"overlay\":{\"id\":\"2602\"}},\"id\":\"2598\",\"type\":\"BoxZoomTool\"},{\"attributes\":{},\"id\":\"2599\",\"type\":\"SaveTool\"},{\"attributes\":{\"active_multi\":null,\"tools\":[{\"id\":\"2596\"},{\"id\":\"2597\"},{\"id\":\"2598\"},{\"id\":\"2599\"},{\"id\":\"2600\"},{\"id\":\"2601\"}]},\"id\":\"2603\",\"type\":\"Toolbar\"},{\"attributes\":{\"label\":{\"value\":\"z\"},\"renderers\":[{\"id\":\"2631\"}]},\"id\":\"2646\",\"type\":\"LegendItem\"},{\"attributes\":{},\"id\":\"2600\",\"type\":\"ResetTool\"},{\"attributes\":{\"source\":{\"id\":\"2628\"}},\"id\":\"2632\",\"type\":\"CDSView\"},{\"attributes\":{\"source\":{\"id\":\"2610\"}},\"id\":\"2614\",\"type\":\"CDSView\"},{\"attributes\":{\"data\":{\"x\":{\"__ndarray__\":\"AAAAAAAAAADDVFfOrR/BP8NUV86tH9E/JP+CtYSv2T/DVFfOrR/hP/Qp7UGZZ+U/JP+CtYSv6T9V1BgpcPftP8NUV86tH/E/Wz8iiKND8z/0Ke1BmWf1P4wUuPuOi/c/JP+CtYSv+T+96U1vetP7P1XUGClw9/0/d99x8bINAEDDVFfOrR8BQA/KPKuoMQJAWz8iiKNDA0CotAdlnlUEQPQp7UGZZwVAQJ/SHpR5BkCMFLj7josHQNiJndiJnQhAJP+CtYSvCUBxdGiSf8EKQL3pTW960wtACV8zTHXlDEBV1BgpcPcNQKFJ/gVrCQ9Ad99x8bINEEAdmuRfsJYQQMNUV86tHxFAaQ/KPKuoEUAPyjyrqDESQLWErxmmuhJAWz8iiKNDE0AB+pT2oMwTQKi0B2WeVRRATm9605veFED0Ke1BmWcVQJrkX7CW8BVAQJ/SHpR5FkDmWUWNkQIXQIwUuPuOixdAMs8qaowUGEDYiZ3YiZ0YQH5EEEeHJhlAJP+CtYSvGUDLufUjgjgaQHF0aJJ/wRpAFy/bAH1KG0C96U1vetMbQGOkwN13XBxACV8zTHXlHECvGaa6cm4dQFXUGClw9x1A+46Ll22AHkChSf4FawkfQEgEcXRokh9Ad99x8bINIEDKPKuoMVIgQB2a5F+wliBAcPcdFy/bIEDDVFfOrR8hQBaykIUsZCFAaQ/KPKuoIUC8bAP0Ke0hQA/KPKuoMSJAYid2Yid2IkC1hK8ZproiQAji6NAk/yJAWz8iiKNDI0CunFs/IogjQAH6lPagzCNAVVfOrR8RJECotAdlnlUkQPsRQRwdmiRATm9605veJEChzLOKGiMlQPQp7UGZZyVAR4cm+ResJUCa5F+wlvAlQO1BmWcVNSZAQJ/SHpR5JkCT/AvWEr4mQOZZRY2RAidAObd+RBBHJ0CMFLj7josnQN9x8bIN0CdAMs8qaowUKECFLGQhC1koQNiJndiJnShAK+fWjwjiKEB+RBBHhyYpQNGhSf4FaylAJP+CtYSvKUB4XLxsA/QpQMu59SOCOCpAHhcv2wB9KkBxdGiSf8EqQMTRoUn+BStAFy/bAH1KK0BqjBS4+44rQL3pTW960ytAEEeHJvkXLEBjpMDdd1wsQLYB+pT2oCxACV8zTHXlLEBcvGwD9CktQK8Zprpybi1AAnffcfGyLUBV1BgpcPctQKgxUuDuOy5A+46Ll22ALkBO7MRO7MQuQKFJ/gVrCS9A9KY3velNL0BIBHF0aJIvQJthqivn1i9Ad99x8bINMEAgjg5N8i8wQMo8q6gxUjBAc+tHBHF0MEAdmuRfsJYwQMZIgbvvuDBAcPcdFy/bMEAZprpybv0wQMNUV86tHzFAbQP0Ke1BMUAWspCFLGQxQMBgLeFrhjFAaQ/KPKuoMUATvmaY6soxQLxsA/Qp7TFAZhugT2kPMkAPyjyrqDEyQLl42QboUzJAYid2Yid2MkAM1hK+ZpgyQLWErxmmujJAXzNMdeXcMkAI4ujQJP8yQLKQhSxkITNAWz8iiKNDM0AF7r7j4mUzQK6cWz8iiDNAWEv4mmGqM0AB+pT2oMwzQKuoMVLg7jNAVVfOrR8RNED+BWsJXzM0QKi0B2WeVTRAUWOkwN13NED7EUEcHZo0QKTA3XdcvDRATm9605veNED3HRcv2wA1QKHMs4oaIzVASntQ5llFNUD0Ke1BmWc1QJ3YiZ3YiTVAR4cm+ResNUDwNcNUV841QJrkX7CW8DVAQ5P8C9YSNkDtQZlnFTU2QJbwNcNUVzZAQJ/SHpR5NkDpTW9605s2QJP8C9YSvjZAPauoMVLgNkDmWUWNkQI3QJAI4ujQJDdAObd+RBBHN0DjZRugT2k3QIwUuPuOizdANsNUV86tN0DfcfGyDdA3QIkgjg5N8jdAMs8qaowUOEDcfcfFyzY4QIUsZCELWThAL9sAfUp7OEDYiZ3YiZ04QII4OjTJvzhAK+fWjwjiOEDVlXPrRwQ5QH5EEEeHJjlAKPOsosZIOUDRoUn+BWs5QHtQ5llFjTlAJP+CtYSvOUDOrR8RxNE5QHhcvGwD9DlAIQtZyEIWOkDLufUjgjg6QHRokn/BWjpAHhcv2wB9OkDHxcs2QJ86QHF0aJJ/wTpAGiMF7r7jOkDE0aFJ/gU7QG2APqU9KDtAFy/bAH1KO0DA3XdcvGw7QGqMFLj7jjtAEzuxEzuxO0C96U1vetM7QGaY6sq59TtAEEeHJvkXPEC59SOCODo8QGOkwN13XDxADFNdObd+PEC2AfqU9qA8QGCwlvA1wzxACV8zTHXlPECzDdCntAc9QFy8bAP0KT1ABmsJXzNMPUCvGaa6cm49QFnIQhaykD1AAnffcfGyPUCsJXzNMNU9QFXUGClw9z1A/4K1hK8ZPkCoMVLg7js+QFLg7jsuXj5A+46Ll22APkClPSjzrKI+QE7sxE7sxD5A+JphqivnPkChSf4Fawk/QEv4mmGqKz9A9KY3velNP0CeVdQYKXA/QEgEcXRokj9A8bIN0Ke0P0CbYaor59Y/QEQQR4cm+T9Ad99x8bINQEDMNkCf0h5AQCCODk3yL0BAdeXc+hFBQEDKPKuoMVJAQB+UeVZRY0BAc+tHBHF0QEDIQhaykIVAQB2a5F+wlkBAcvGyDdCnQEDGSIG777hAQBugT2kPykBAcPcdFy/bQEDFTuzETuxAQBmmunJu/UBAbv2III4OQUDDVFfOrR9BQBisJXzNMEFAbQP0Ke1BQUDBWsLXDFNBQBaykIUsZEFAawlfM0x1QUDAYC3ha4ZBQBS4+46Ll0FAaQ/KPKuoQUC+ZpjqyrlBQBO+ZpjqykFAZxU1RgrcQUC8bAP0Ke1BQBHE0aFJ/kFAZhugT2kPQkC6cm79iCBCQA/KPKuoMUJAZCELWchCQkC5eNkG6FNCQA3Qp7QHZUJAYid2Yid2QkC3fkQQR4dCQAzWEr5mmEJAYS3ha4apQkC1hK8ZprpCQArcfcfFy0JAXzNMdeXcQkC0ihojBe5CQAji6NAk/0JAXTm3fkQQQ0CykIUsZCFDQAfoU9qDMkNAWz8iiKNDQ0CwlvA1w1RDQAXuvuPiZUNAWkWNkQJ3Q0CunFs/IohDQAP0Ke1BmUNAWEv4mmGqQ0CtosZIgbtDQAH6lPagzENAVlFjpMDdQ0CrqDFS4O5DQAAAAAAAAERA\",\"dtype\":\"float64\",\"order\":\"little\",\"shape\":[300]},\"y\":{\"__ndarray__\":\"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\",\"dtype\":\"float64\",\"order\":\"little\",\"shape\":[300]}},\"selected\":{\"id\":\"2665\"},\"selection_policy\":{\"id\":\"2664\"}},\"id\":\"2647\",\"type\":\"ColumnDataSource\"},{\"attributes\":{\"label\":{\"value\":\"x (normalized)\"},\"renderers\":[{\"id\":\"2650\"}]},\"id\":\"2667\",\"type\":\"LegendItem\"},{\"attributes\":{\"line_color\":\"#ff7e0e\",\"line_width\":2,\"x\":{\"field\":\"x\"},\"y\":{\"field\":\"y\"}},\"id\":\"2629\",\"type\":\"Line\"},{\"attributes\":{},\"id\":\"2621\",\"type\":\"BasicTickFormatter\"},{\"attributes\":{\"items\":[{\"id\":\"2627\"},{\"id\":\"2646\"},{\"id\":\"2667\"}]},\"id\":\"2626\",\"type\":\"Legend\"},{\"attributes\":{\"line_alpha\":0.1,\"line_color\":\"#ff7e0e\",\"line_width\":2,\"x\":{\"field\":\"x\"},\"y\":{\"field\":\"y\"}},\"id\":\"2630\",\"type\":\"Line\"},{\"attributes\":{},\"id\":\"2664\",\"type\":\"UnionRenderers\"},{\"attributes\":{},\"id\":\"2618\",\"type\":\"BasicTickFormatter\"},{\"attributes\":{},\"id\":\"2619\",\"type\":\"AllLabels\"},{\"attributes\":{},\"id\":\"2622\",\"type\":\"AllLabels\"},{\"attributes\":{},\"id\":\"2665\",\"type\":\"Selection\"},{\"attributes\":{},\"id\":\"2616\",\"type\":\"Title\"},{\"attributes\":{},\"id\":\"2643\",\"type\":\"UnionRenderers\"},{\"attributes\":{},\"id\":\"2582\",\"type\":\"DataRange1d\"},{\"attributes\":{\"data\":{\"x\":{\"__ndarray__\":\"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\",\"dtype\":\"float64\",\"order\":\"little\",\"shape\":[300]},\"y\":{\"__ndarray__\":\"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\",\"dtype\":\"float64\",\"order\":\"little\",\"shape\":[300]}},\"selected\":{\"id\":\"2644\"},\"selection_policy\":{\"id\":\"2643\"}},\"id\":\"2628\",\"type\":\"ColumnDataSource\"},{\"attributes\":{\"data_source\":{\"id\":\"2628\"},\"glyph\":{\"id\":\"2629\"},\"hover_glyph\":null,\"muted_glyph\":null,\"nonselection_glyph\":{\"id\":\"2630\"},\"view\":{\"id\":\"2632\"}},\"id\":\"2631\",\"type\":\"GlyphRenderer\"},{\"attributes\":{},\"id\":\"2644\",\"type\":\"Selection\"},{\"attributes\":{},\"id\":\"2623\",\"type\":\"UnionRenderers\"},{\"attributes\":{},\"id\":\"2624\",\"type\":\"Selection\"},{\"attributes\":{\"end\":10},\"id\":\"2580\",\"type\":\"Range1d\"},{\"attributes\":{\"bottom_units\":\"screen\",\"fill_alpha\":0.5,\"fill_color\":\"lightgrey\",\"left_units\":\"screen\",\"level\":\"overlay\",\"line_alpha\":1.0,\"line_color\":\"black\",\"line_dash\":[4,4],\"line_width\":2,\"right_units\":\"screen\",\"syncable\":false,\"top_units\":\"screen\"},\"id\":\"2602\",\"type\":\"BoxAnnotation\"},{\"attributes\":{\"data_source\":{\"id\":\"2610\"},\"glyph\":{\"id\":\"2611\"},\"hover_glyph\":null,\"muted_glyph\":null,\"nonselection_glyph\":{\"id\":\"2612\"},\"view\":{\"id\":\"2614\"}},\"id\":\"2613\",\"type\":\"GlyphRenderer\"}],\"root_ids\":[\"2579\"]},\"title\":\"Bokeh Application\",\"version\":\"2.3.0\"}};\n",
       "  var render_items = [{\"docid\":\"4cf64fed-5c75-4b2f-a642-f048d788b99c\",\"root_ids\":[\"2579\"],\"roots\":{\"2579\":\"9eb10583-3e3b-43a3-b5c1-6b4e987245ed\"}}];\n",
       "  root.Bokeh.embed.embed_items_notebook(docs_json, render_items);\n",
       "\n",
       "  }\n",
       "  if (root.Bokeh !== undefined) {\n",
       "    embed_document(root);\n",
       "  } else {\n",
       "    var attempts = 0;\n",
       "    var timer = setInterval(function(root) {\n",
       "      if (root.Bokeh !== undefined) {\n",
       "        clearInterval(timer);\n",
       "        embed_document(root);\n",
       "      } else {\n",
       "        attempts++;\n",
       "        if (attempts > 100) {\n",
       "          clearInterval(timer);\n",
       "          console.log(\"Bokeh: ERROR: Unable to run BokehJS code because BokehJS library is missing\");\n",
       "        }\n",
       "      }\n",
       "    }, 10, root)\n",
       "  }\n",
       "})(window);"
      ],
      "application/vnd.bokehjs_exec.v0+json": ""
     },
     "metadata": {
      "application/vnd.bokehjs_exec.v0+json": {
       "id": "2579"
      }
     },
     "output_type": "display_data"
    }
   ],
   "source": [
    "# Set up parameters for periodic forcing with f = 0.5 and x_0 = 2.\n",
    "x_args = (0.5, 2.0)\n",
    "\n",
    "# Package parameters into a tuple, now with high ultrasensitivity\n",
    "n_y = 10\n",
    "args = (beta, gamma, n_x, n_y, x_periodic, x_args)\n",
    "\n",
    "# Time points\n",
    "t = np.linspace(0, 40, 300)\n",
    "\n",
    "# Initial condition\n",
    "yz_0 = np.array([0.0, 0.0])\n",
    "\n",
    "# Integrate ODES\n",
    "yz = scipy.integrate.odeint(cascade_rhs_x_fun, yz_0, t, args=args)\n",
    "\n",
    "# Pluck out y and z\n",
    "y, z = yz.transpose()\n",
    "\n",
    "# x\n",
    "x = x_periodic(t, *x_args)\n",
    "x /= x.max()\n",
    "\n",
    "# Plot the results\n",
    "p = bokeh.plotting.figure(\n",
    "    frame_width=450,\n",
    "    frame_height=250,\n",
    "    x_axis_label=\"dimensionless time\",\n",
    "    y_axis_label=\"dimensionless y, z\",\n",
    "    x_range=[0, 10],\n",
    ")\n",
    "\n",
    "# Populate glyphs\n",
    "p.line(t, y, line_width=2, color=colors[0], legend_label=\"y\")\n",
    "p.line(t, z, line_width=2, color=colors[1], legend_label=\"z\")\n",
    "p.line(\n",
    "    t,\n",
    "    x,\n",
    "    line_width=2,\n",
    "    color=colors[2],\n",
    "    alpha=0.2,\n",
    "    legend_label=\"x (normalized)\",\n",
    "    line_join=\"bevel\",\n",
    ")\n",
    "\n",
    "# Place the legend\n",
    "p.legend.location = \"top_right\"\n",
    "\n",
    "# Show plot\n",
    "bokeh.io.show(p)"
   ]
  },
  {
   "cell_type": "markdown",
   "metadata": {},
   "source": [
    "We roughly follow the forcing with some lag.  Now, for high-frequency forcing, we have a different response."
   ]
  },
  {
   "cell_type": "code",
   "execution_count": 28,
   "metadata": {},
   "outputs": [
    {
     "data": {
      "text/html": [
       "\n",
       "\n",
       "\n",
       "\n",
       "\n",
       "\n",
       "  <div class=\"bk-root\" id=\"c3f15a2a-d61e-4ad8-ab3c-63c67e3fb366\" data-root-id=\"2845\"></div>\n"
      ]
     },
     "metadata": {},
     "output_type": "display_data"
    },
    {
     "data": {
      "application/javascript": [
       "(function(root) {\n",
       "  function embed_document(root) {\n",
       "    \n",
       "  var docs_json = {\"a5db8697-b57e-407a-992a-7ca7b3b3d424\":{\"defs\":[{\"extends\":null,\"module\":null,\"name\":\"DataModel\",\"overrides\":[],\"properties\":[]}],\"roots\":{\"references\":[{\"attributes\":{\"below\":[{\"id\":\"2854\"}],\"center\":[{\"id\":\"2857\"},{\"id\":\"2861\"},{\"id\":\"2892\"}],\"frame_height\":250,\"frame_width\":450,\"left\":[{\"id\":\"2858\"}],\"renderers\":[{\"id\":\"2879\"},{\"id\":\"2897\"},{\"id\":\"2916\"}],\"title\":{\"id\":\"2882\"},\"toolbar\":{\"id\":\"2869\"},\"x_range\":{\"id\":\"2846\"},\"x_scale\":{\"id\":\"2850\"},\"y_range\":{\"id\":\"2848\"},\"y_scale\":{\"id\":\"2852\"}},\"id\":\"2845\",\"subtype\":\"Figure\",\"type\":\"Plot\"},{\"attributes\":{\"data_source\":{\"id\":\"2894\"},\"glyph\":{\"id\":\"2895\"},\"hover_glyph\":null,\"muted_glyph\":null,\"nonselection_glyph\":{\"id\":\"2896\"},\"view\":{\"id\":\"2898\"}},\"id\":\"2897\",\"type\":\"GlyphRenderer\"},{\"attributes\":{\"label\":{\"value\":\"y\"},\"renderers\":[{\"id\":\"2879\"}]},\"id\":\"2893\",\"type\":\"LegendItem\"},{\"attributes\":{},\"id\":\"2867\",\"type\":\"HelpTool\"},{\"attributes\":{\"source\":{\"id\":\"2894\"}},\"id\":\"2898\",\"type\":\"CDSView\"},{\"attributes\":{\"source\":{\"id\":\"2913\"}},\"id\":\"2917\",\"type\":\"CDSView\"},{\"attributes\":{},\"id\":\"2866\",\"type\":\"ResetTool\"},{\"attributes\":{},\"id\":\"2882\",\"type\":\"Title\"},{\"attributes\":{\"label\":{\"value\":\"x (normalized)\"},\"renderers\":[{\"id\":\"2916\"}]},\"id\":\"2933\",\"type\":\"LegendItem\"},{\"attributes\":{},\"id\":\"2930\",\"type\":\"UnionRenderers\"},{\"attributes\":{\"label\":{\"value\":\"z\"},\"renderers\":[{\"id\":\"2897\"}]},\"id\":\"2912\",\"type\":\"LegendItem\"},{\"attributes\":{},\"id\":\"2884\",\"type\":\"BasicTickFormatter\"},{\"attributes\":{},\"id\":\"2909\",\"type\":\"UnionRenderers\"},{\"attributes\":{},\"id\":\"2885\",\"type\":\"AllLabels\"},{\"attributes\":{},\"id\":\"2910\",\"type\":\"Selection\"},{\"attributes\":{\"bottom_units\":\"screen\",\"fill_alpha\":0.5,\"fill_color\":\"lightgrey\",\"left_units\":\"screen\",\"level\":\"overlay\",\"line_alpha\":1.0,\"line_color\":\"black\",\"line_dash\":[4,4],\"line_width\":2,\"right_units\":\"screen\",\"syncable\":false,\"top_units\":\"screen\"},\"id\":\"2868\",\"type\":\"BoxAnnotation\"},{\"attributes\":{\"line_color\":\"#1f77b3\",\"line_width\":2,\"x\":{\"field\":\"x\"},\"y\":{\"field\":\"y\"}},\"id\":\"2877\",\"type\":\"Line\"},{\"attributes\":{},\"id\":\"2887\",\"type\":\"BasicTickFormatter\"},{\"attributes\":{},\"id\":\"2888\",\"type\":\"AllLabels\"},{\"attributes\":{\"line_color\":\"#ff7e0e\",\"line_width\":2,\"x\":{\"field\":\"x\"},\"y\":{\"field\":\"y\"}},\"id\":\"2895\",\"type\":\"Line\"},{\"attributes\":{},\"id\":\"2931\",\"type\":\"Selection\"},{\"attributes\":{\"data\":{\"x\":{\"__ndarray__\":\"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\",\"dtype\":\"float64\",\"order\":\"little\",\"shape\":[600]},\"y\":{\"__ndarray__\":\"AAAAAAAAAAD60RtKsVmhP8rU/EIMcrE/t3VlQSUluj9BUAhkbFbBP1zGsNEAfcU/ix//trOByT+cJmkjmmHNP79Mxb9WjdA/W/DCgp1V0j96+GZytAjUP+Yx0xdZpdU/5yOe6pop1z+qSNABU5LYP2i/6uxC2tk/ymq+VJ/42j+fyjzl1d7bP1tzst0tdtw/ca6o9S6h3D9KlS/sYErcP9kdfG13gNs/7Uy9nwN52j8rPHzdaWbZP3LKTuehXNg/aAS7DCVf1z96lxrS83zWPw/FbuAK4dU/7ngKr3S81T8+O3xf9BrWPwZsUijj4NY/QscjEPPo1z8XNWOb8hXZP5BHru7iVNo/GiiB2hya2z+O/EshiN7cP+evIvjAHd4/F3zg2flU3z8m98QAKEHgP7jV3+wv0uA/O6QlJv1c4T+JVyty8+DhP8SRCmdRXeI/uFRg3wXR4j/m/9YrbzrjP8o9O5vwluM/cEaoVUHi4z/LXSC6WRXkPzX/ivw4JeQ/w7+5djMD5D/NZ83lWqPjP2r6KoNuCuM/hL644chR4j/OCrcEwpPhP2ksCgnX2+A/mMrwdugr4D/kuHnwQxTfP+IqhU4EFd4/IXVY55eM3T+IslN2z4vdP+om8yjQ+d0//LC6xviw3j/1zXx4zJLfP15vY1OWReA/xKf9gdbG4D/2lITlWUnhP1x7DfPCyuE/EEfVDYxJ4j+T5Zf9rMTiP6WZi39iO+M/e0cDtget4z/2hXLa9hjkP3YljU9pfuQ/Zjz4oE7c5D/wQebqDjHlP6tfyhkmeuU/qDaBMHyz5T8onvdRXdblP7LfqkI52OU/qP/tq5uq5T/tjwM1p0DlPy6Pb1GlnOQ/4UXM3E7W4z+fRMcV/gjjPw7hPLzWQeI/9ojSKxqD4T9ZSvPnz9HgP3pOprZrQOA/O2KqoVnR3z+hrUJ5CqvfPy+IkYpc+N8/YCx4LthJ4D/eYoz7ra7gP2QYCFsXIOE/jIqdR4KX4T+PoomV6BDiP9U7UVTJieI/b6iMqYgA4z8YuJEuEHTjPwL+0JyT4+M/9wKl5WhO5D9BAdCK6LPkP2aNBhlOE+U/f3BxoZBr5T861TgRKLvlP7fYbP+t/+U/JjanvT415j+1C3tefFXmPwVDGj9MVuY/9TvTX4Yp5j84EjxEkcHlP63e+klgHuU/rXeqvtBV5D+npW48B4TjP43dNq3ht+I/zoeYPjP04T9sJsHbBz3hP9wcWpQ7o+A/bVp/sr9A4D8ckns0/SLgP/3Gtb8JQeA/JLuzUDyI4D+RNHjZMejgP0gAe/fHVeE/tLHqFQ/K4T9m34m1x0DiP+GMV5ROt+I/MTDPRfMr4z8tlT4gk53jPzBgJe9aC+Q/F4AEip105D8jsDmys9jkP3hTNubcNuU/0x9fNRmO5T+Bqhpa8dzlP8O0eaUcIeY/UqvNpupW5j8w2zItUXjmP6jbJO+qe+Y/41ErWSpT5j9T8DcUpvDlP1XaOTXeUeU/8lORO5+K5D/WIGMHlrfjP+r5lPhj6eI/4DG11Joj4j/VqP38cmnhP+/lYiwpyuA/eFtGuJVf4D/ZW4+VeDngP4+f6aPzUOA/rX1KnquT4D+pbRmft/DgP9mGaBxoXOE/twTdFGzP4T8FT01PSEXiP6KfWRE2u+I/czf3+m8v4z+HiEcpx6DjP09OLbhhDuQ/Jxj4t4935D+Di0h4qtvkP/Ekhpz1OeU/NTbHJ3qR5T9ET4sv0eDlP7CEKI/OJeY/P26gsfJc5j971aDfg4DmPwoZuchPh+Y/qyGty+1j5j95WSW9zAfmP20C+u+gbuU/Qh8zHfmp5D8MxQq1wdbjP9MZwHVgB+M/QrNTNVBA4j/hGmf5HoThP07Qfqdp4OA/FJFGuKdu4D9DVP/YxEDgPxDVY5UZUuA/yC+7lcKQ4D9ynAQaW+vgP5xNpCijVeE/AWqwqePH4T8I9+90Yj3iP22SN4wzs+I/vfgpm3sn4z8Bs/Ly/pjjP04o57LcBuQ/8Axh9mFw5D+5iYlv6NTkPxF+8qa3M+U/HTrkGeGL5T/ls8J5DdzlP9tFM6ArIuY/xV63Zupa5j/aslxk3IDmP4cGiLE/i+Y/XxTXbBht5j+f+JW+kRfmPzfH2OV/hOU/inDY2RDD5D8GpVVxI/DjP4n22V3aH+M/iu+TA8JX4j/Bl/tw6JnhP56gbCpR8uA/HrvQqc954D9busXzRkTgPw5uBA1rT+A/FPDXGP2J4D+sJvkOKeLgP3mDy6gbS+E/ehAq6bK84T9GOQFI8jHiP6R4v0TGp+I/CgeYWDwc4z8K+qhQC47jP1fFhdtK/OM/TT+OzURm5D9XsjTtUsvkP8ivakzAKuU/J5SRZ6aD5T9JQhCDvNTlP+eYqhYLHOY/AH5NoGxW5j/uBxebvH7mP8t30/iljOY/J453K59z5j/DXH5wsCTmP0wflJz8l+U/P4l4bjja5D+Y2iDA5QfkPy0JBuPTNuM/BzkZh8Zt4j8uaajDd67hP2k3QKBeA+E/C85Nq26E4D9zmS6QREfgP0NZC8gMTOA/DE/AaV2C4D+0FASbAtjgP80M6nqTP+E/lmsERn6w4T/6fl8egCXiP1Aq0NBbm+I/Hcd8PQYQ4z+HS9PaJ4LjPwz2gmrQ8OM/5/2EEUZb5D/cqtNQ4sDkP1axPmfzIOU/tM2lN5p65T9WBifJm8zlPwCo3qgYFeY/5D8wpRRR5j+dNrQisHvmPzBmOL3/jOY/in5bwe945j+k0j2ogjDmP1n7QxhaquU/gj1kK6Tw5D9711y9NR/kP334l7JxTeM/DDU/ynWD4j/WTKiP1MLhPzvH+ZeLFOE/B/o9anmP4D+r4a80sErgP/jNFx3qSOA/IY8uSMR64D8ehCGBvc3gP/+PS1PWM+E/KbzSDAik4T8ePy3YxRjiP+cgkSOmjuI/Rzq4yYMD4z8dFLAS+HXjP7wHTykK5eM/fSg5JPxP5D86VSTrJrbkPxP2tXbbFuU/yXjbj0Fx5T8UHY0rK8TlPyTUwYfPDeY/3Iu5bVlL5j8Zaiy6KnjmP39To2m9jOY/7iJZMnZ95j9ldLlFazvmP+hkB7Huu+U/9vUf36QG5T9qHTUQZjbkP5SM1OsGZOM/pGBxxx6Z4j8vEjt+RdfhPy8rwWkXJuE/Qc5KXzGb4D9D+Ush0U7gP3SlFXxKRuA/9M28OHVz4D81Sy0cmcPgP4zbFOkfKOE/+L+BComX4T+OK2KX+QviP+H+8gDZgeI/E4iQieb24j9cTIlbq2njPx1Zx4Yl2eM/+CJonZJE5D/DVlmQSqvkP4oYMbegDOU/HjWJOcNn5T+LZ5QqkLvlPzHlQR9UBuY/ai1cs15F5j940UCzT3TmPzirnp4CjOY/S2xXo1WB5j/vdFaUiEXmP5uQmsXOzOU/D1q+AEoc5T97OUqYik3kPwb4rIireuM/G7tCmtiu4j9u7qog3OvhP89Sq+kNOOE/I/od8qSn4D+DEl/1vVPgP/FMJ29HROA/XmwJDIhs4D/kihyGqrngP1Kr8DqDHOE/JzV7txKL4T/H24+EK//hP3ujK5YDdeI/+Msm5zzq4j+fv3p+T13jP3PU460vzeM/S0O7IBY55D+WgxVvWaDkP0n8T+5OAuU/bLtLoSpe5T9W6bX71bLlP/skRrCx/uU/YGYgGzA/5j9Uk6WcK3DmP6qDEyLdiuY/bp++UZyE5j89UQpP5U7mPxY+Sxz83OU/EROYzpAx5T9mNBGspGTkP7jm381lkeM/UWyZ3qnE4j9cs5HBmgDiP38/c0ZsSuE/mYArVNS04D9Dj9Rnf1ngPzbUU4TtQuA/QN2wTwhm4D+JGTgG+6/gP19xrnUHEeE/+0GmuKp+4T+GF32BYPLhP4bngicqaOI/TQObrYrd4j+ANqDs51DjPwpM79crweM/V1VrtIkt5D+hJjVqVpXkP4xG1u/o9+Q/EhHCqnpU5T8V2JW1/6nlPxfvhbDr9uU/GXVgndE45j8r40p8w2vmP0vIJXRTieY/hCmWM1GH5j+ntMdkhVfmP2IFu5Ry7OU/UOgJqW9G5T99/H/irnvkP03/eZg1qOM/WBg8eZPa4j/yp3ZmfhXiPzliH/spXeE//aYPYbjC4D9KY0YtF2DgP9lRop9DQuA/nl5cp/xf4D9ao3V/j6bgPwPHOj+wBeE/sgoX+VNy4T9vpQTjmuXhPyUiU8ROW+I/aBuPxdHQ4j+cvxB5dkTjP0/cdcIbteM/2Sk7EO8h5D8aRF06Q4rkPzY9AHdw7eQ/nLe8GbVK5T+VUeAwD6HlP6/fTDIE7+U/IUqD80Uy5j8nz3rwGmfmP5QdooRqh+Y/KO3cxHqJ5j/4LXaDbV/mP6Ft5+ou++U/5pO3Md1a5T/v3sngopLkPxkkTW8av+M/NLmApZbw4j8UtgAahSriPypaYno/cOE/QrK7E0rR4D+Dl7bghmfgP8YY+f1QQuA/s2j8PGxa4D979aElbZ3gP0cEsv6A+uA/YX/xqhBm4T+U3Jww3NjhP2ceyH1yTuI/zmPO9xLE4j8vhJ/A+zfjPwlKKfL/qOM//rK1qkYW5D/htoJTIH/kP6IrKQPm4uQ/Issfi9pA5T/w8jVGBZjlP5rC/Gz85uU/jxsi7o4r5j++/erQNGLmPz7cF6cmheY/iYKYeB6L5j8CaU6MoWbmP7dQacAtCeY/0LAWvM5u5T9rFjyNeKnkP4Lr2hoS1uM/5D64YbMG4z+p5csMrD/iPzGlyG2kg+E/HaMZl4Dg4D9TMdTTzW/gPz23/4YbQ+A/4c33il1V4D/jLpm1mJTgP72+ftZ87+A/v4296uJZ4T8sM3nPJczhP7L5vl+WQeI/gkf/Fk+34j/Gast4eCvjP4uBognZnOM/ATxLHpEK5D9CtVFS7nPkP0Pddz5K2OQ/ynravus25T9MbH7g4o7lP2MgwpfV3uU/n8YTUa4k5j+IzQvZE13mPy4PlOmLguY/LDURyEGM5j8DC64WJm3mP49DRjJtFuY/zKaVlzqC5T8hgjU7J8DkP+3+jkYa7eM/fyWuVuoc4z+fP1K68VTiP7A0L6pRl+E/DSewOVPw4D9LzGEC63jgP9hKF0apROA/Q0G8ftdQ4D/JIuRTF4zgPzv/2u6m5OA/I9DEccxN4T89mkS2eL/hPwIbH9e6NOI/DqV7Q4aq4j8pqaWJ7B7jP+ZjW9OmkOM/tlOUJs7+4z8/NT3trGjkP2CCt+iczeQ/JvXfiugs5T+pXYACqIXlPw9zDiyQ1uU/tH7lGqUd5j+0I3v1uVfmPxXxY8mdf+Y/pavyc+mM5j/QCIAc/3LmP4G9yNfqIuY/Y9E5gRaV5T/lvbhPpdbkP5GAgCUvBOQ/gi4A2Toz4z9a24q7U2riPyjhu0w/q+E/i4OvprcA4T81w4H/2oLgP8IvSJD+RuA/R3/zD+BM4D/JxJJo7YPgP198XwQC2uA/CdvC385B4T/EepbT1bLhP8qYDXngJ+I/BSV73rid4j+u61A9WBLjP75Y8ZlphOM/u3RFFf7y4z9MMIKCXF3kP4/3+3HewuQ/iOQfmNEi5T9PFpafVXzlP4QyTTotzuU/P3dG8XQW5j/QV0KdKVLmP9YOx/JffOY/aDSSvhqN5j9MU4u9MXjmP+4/CjamLuY/E/rhbVmn5T8Zo7PZ6OzkP5B5ZLxMG+Q/WZSJtaRJ4z95/guz0H/iP7EHP9hmv+E/fqnrOKQR4T+bn4xYmo3gP+0Kpe4fSuA/Xie7731J4D8c+C9TIHzgPzoJz5mRz+A/wdB/Yew14T94OY1kPqbhP/O7zOEHG+I/ig9NH+eQ4j/Aq/GRuwXjP0OYQi4heOM/NeCboiDn4z9mEpvA/FHkP/gNoY8OuOQ/xGKYlqYY5T8JEw5563LlP/Kab/6sxeU/MI3Slh4P5j+OIWd7ZEzmP4SkKnfVeOY/cT+jUNqM5j80ZYEMw3zmP4Su1LGgOeY/0U4orvu45T9AXtML6ALlP1zfFCRvMuQ/UpyVmyhg4z8habLIaJXiP438xmPD0+E/eVY7wA8j4T8fn1/SJJngPwnGqhUSTuA/4o4Cm7hG4D/tfokLtnTgP0iuPcpZxeA/wJVsuCcq4T9zKzR7tJnhPxdcaNMyDuI/UAxwkxKE4j8ogS33F/niP1PKfvHOa+M/M2OeKjfb4z8jLIEGj0bkPxgNHqYureQ/WSx6/2gO5T+o+Hgoa2nlP5qKKC0RveU/bg+ND6QH5j/M7c48bUbmP1PHKgoCdeY/bzvbUi2M5j8y4DiLuIDmP88Z0tnaQ+Y/anFKjvXJ5T8YL4EymBjlPzFemauQSeQ/ucsxccV24z+f5AfSGqviP83IBDNP6OE/ODTvH/A04T/Mi/xmdKXgP/yaYpvXUuA/\",\"dtype\":\"float64\",\"order\":\"little\",\"shape\":[600]}},\"selected\":{\"id\":\"2890\"},\"selection_policy\":{\"id\":\"2889\"}},\"id\":\"2876\",\"type\":\"ColumnDataSource\"},{\"attributes\":{},\"id\":\"2889\",\"type\":\"UnionRenderers\"},{\"attributes\":{\"line_alpha\":0.1,\"line_color\":\"#1f77b3\",\"line_width\":2,\"x\":{\"field\":\"x\"},\"y\":{\"field\":\"y\"}},\"id\":\"2878\",\"type\":\"Line\"},{\"attributes\":{\"end\":10},\"id\":\"2846\",\"type\":\"Range1d\"},{\"attributes\":{},\"id\":\"2890\",\"type\":\"Selection\"},{\"attributes\":{},\"id\":\"2852\",\"type\":\"LinearScale\"},{\"attributes\":{},\"id\":\"2850\",\"type\":\"LinearScale\"},{\"attributes\":{\"data\":{\"x\":{\"__ndarray__\":\"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\",\"dtype\":\"float64\",\"order\":\"little\",\"shape\":[600]},\"y\":{\"__ndarray__\":\"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\",\"dtype\":\"float64\",\"order\":\"little\",\"shape\":[600]}},\"selected\":{\"id\":\"2910\"},\"selection_policy\":{\"id\":\"2909\"}},\"id\":\"2894\",\"type\":\"ColumnDataSource\"},{\"attributes\":{},\"id\":\"2848\",\"type\":\"DataRange1d\"},{\"attributes\":{\"overlay\":{\"id\":\"2868\"}},\"id\":\"2864\",\"type\":\"BoxZoomTool\"},{\"attributes\":{\"axis_label\":\"dimensionless time\",\"formatter\":{\"id\":\"2887\"},\"major_label_policy\":{\"id\":\"2888\"},\"ticker\":{\"id\":\"2855\"}},\"id\":\"2854\",\"type\":\"LinearAxis\"},{\"attributes\":{\"line_alpha\":0.2,\"line_color\":\"#2ba02b\",\"line_width\":2,\"x\":{\"field\":\"x\"},\"y\":{\"field\":\"y\"}},\"id\":\"2914\",\"type\":\"Line\"},{\"attributes\":{},\"id\":\"2859\",\"type\":\"BasicTicker\"},{\"attributes\":{},\"id\":\"2855\",\"type\":\"BasicTicker\"},{\"attributes\":{\"axis\":{\"id\":\"2854\"},\"ticker\":null},\"id\":\"2857\",\"type\":\"Grid\"},{\"attributes\":{\"source\":{\"id\":\"2876\"}},\"id\":\"2880\",\"type\":\"CDSView\"},{\"attributes\":{\"data_source\":{\"id\":\"2913\"},\"glyph\":{\"id\":\"2914\"},\"hover_glyph\":null,\"muted_glyph\":null,\"nonselection_glyph\":{\"id\":\"2915\"},\"view\":{\"id\":\"2917\"}},\"id\":\"2916\",\"type\":\"GlyphRenderer\"},{\"attributes\":{},\"id\":\"2863\",\"type\":\"WheelZoomTool\"},{\"attributes\":{\"active_multi\":null,\"tools\":[{\"id\":\"2862\"},{\"id\":\"2863\"},{\"id\":\"2864\"},{\"id\":\"2865\"},{\"id\":\"2866\"},{\"id\":\"2867\"}]},\"id\":\"2869\",\"type\":\"Toolbar\"},{\"attributes\":{\"line_alpha\":0.1,\"line_color\":\"#2ba02b\",\"line_width\":2,\"x\":{\"field\":\"x\"},\"y\":{\"field\":\"y\"}},\"id\":\"2915\",\"type\":\"Line\"},{\"attributes\":{},\"id\":\"2865\",\"type\":\"SaveTool\"},{\"attributes\":{\"data\":{\"x\":{\"__ndarray__\":\"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\",\"dtype\":\"float64\",\"order\":\"little\",\"shape\":[600]},\"y\":{\"__ndarray__\":\"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\",\"dtype\":\"float64\",\"order\":\"little\",\"shape\":[600]}},\"selected\":{\"id\":\"2931\"},\"selection_policy\":{\"id\":\"2930\"}},\"id\":\"2913\",\"type\":\"ColumnDataSource\"},{\"attributes\":{\"data_source\":{\"id\":\"2876\"},\"glyph\":{\"id\":\"2877\"},\"hover_glyph\":null,\"muted_glyph\":null,\"nonselection_glyph\":{\"id\":\"2878\"},\"view\":{\"id\":\"2880\"}},\"id\":\"2879\",\"type\":\"GlyphRenderer\"},{\"attributes\":{\"axis_label\":\"dimensionless y, z\",\"formatter\":{\"id\":\"2884\"},\"major_label_policy\":{\"id\":\"2885\"},\"ticker\":{\"id\":\"2859\"}},\"id\":\"2858\",\"type\":\"LinearAxis\"},{\"attributes\":{\"items\":[{\"id\":\"2893\"},{\"id\":\"2912\"},{\"id\":\"2933\"}]},\"id\":\"2892\",\"type\":\"Legend\"},{\"attributes\":{\"axis\":{\"id\":\"2858\"},\"dimension\":1,\"ticker\":null},\"id\":\"2861\",\"type\":\"Grid\"},{\"attributes\":{\"line_alpha\":0.1,\"line_color\":\"#ff7e0e\",\"line_width\":2,\"x\":{\"field\":\"x\"},\"y\":{\"field\":\"y\"}},\"id\":\"2896\",\"type\":\"Line\"},{\"attributes\":{},\"id\":\"2862\",\"type\":\"PanTool\"}],\"root_ids\":[\"2845\"]},\"title\":\"Bokeh Application\",\"version\":\"2.3.0\"}};\n",
       "  var render_items = [{\"docid\":\"a5db8697-b57e-407a-992a-7ca7b3b3d424\",\"root_ids\":[\"2845\"],\"roots\":{\"2845\":\"c3f15a2a-d61e-4ad8-ab3c-63c67e3fb366\"}}];\n",
       "  root.Bokeh.embed.embed_items_notebook(docs_json, render_items);\n",
       "\n",
       "  }\n",
       "  if (root.Bokeh !== undefined) {\n",
       "    embed_document(root);\n",
       "  } else {\n",
       "    var attempts = 0;\n",
       "    var timer = setInterval(function(root) {\n",
       "      if (root.Bokeh !== undefined) {\n",
       "        clearInterval(timer);\n",
       "        embed_document(root);\n",
       "      } else {\n",
       "        attempts++;\n",
       "        if (attempts > 100) {\n",
       "          clearInterval(timer);\n",
       "          console.log(\"Bokeh: ERROR: Unable to run BokehJS code because BokehJS library is missing\");\n",
       "        }\n",
       "      }\n",
       "    }, 10, root)\n",
       "  }\n",
       "})(window);"
      ],
      "application/vnd.bokehjs_exec.v0+json": ""
     },
     "metadata": {
      "application/vnd.bokehjs_exec.v0+json": {
       "id": "2845"
      }
     },
     "output_type": "display_data"
    }
   ],
   "source": [
    "# Set up parameters for periodic forcing with f = 5 and x_0 = 2.\n",
    "x_args = (5.0, 2.0)\n",
    "\n",
    "# Package parameters into a tuple\n",
    "args = (beta, gamma, n_x, 10, x_periodic, x_args)\n",
    "\n",
    "# Time points\n",
    "t = np.linspace(0, 25, 600)\n",
    "\n",
    "# Initial condition\n",
    "yz_0 = np.array([0.0, 0.0])\n",
    "\n",
    "# Integrate ODES\n",
    "yz = scipy.integrate.odeint(cascade_rhs_x_fun, yz_0, t, args=args)\n",
    "\n",
    "# Pluck out y and z\n",
    "y, z = yz.transpose()\n",
    "\n",
    "# x\n",
    "x = x_periodic(t, *x_args)\n",
    "x /= x.max()\n",
    "\n",
    "# Plot the results\n",
    "p = bokeh.plotting.figure(\n",
    "    frame_width=450,\n",
    "    frame_height=250,\n",
    "    x_axis_label=\"dimensionless time\",\n",
    "    y_axis_label=\"dimensionless y, z\",\n",
    "    x_range=[0, 10],\n",
    ")\n",
    "\n",
    "# Populate glyphs\n",
    "p.line(\n",
    "    t, y, line_width=2, color=colors[0], legend_label=\"y\", line_join=\"bevel\"\n",
    ")\n",
    "p.line(\n",
    "    t, z, line_width=2, color=colors[1], legend_label=\"z\", line_join=\"bevel\"\n",
    ")\n",
    "p.line(\n",
    "    t,\n",
    "    x,\n",
    "    line_width=2,\n",
    "    color=colors[2],\n",
    "    alpha=0.2,\n",
    "    legend_label=\"x (normalized)\",\n",
    "    line_join=\"bevel\",\n",
    ")\n",
    "\n",
    "# Place the legend\n",
    "p.legend.location = \"top_right\"\n",
    "\n",
    "# Show plot\n",
    "bokeh.io.show(p)"
   ]
  },
  {
   "cell_type": "markdown",
   "metadata": {},
   "source": [
    "We see that Z does not really respond to high frequency forcing, even though the forcing is with the same amplitude. This gives us a design principle, that **a cascade can filter out high frequency fluctuations**. We can see this by adding another frequency to the signal."
   ]
  },
  {
   "cell_type": "code",
   "execution_count": 29,
   "metadata": {},
   "outputs": [
    {
     "data": {
      "text/html": [
       "\n",
       "\n",
       "\n",
       "\n",
       "\n",
       "\n",
       "  <div class=\"bk-root\" id=\"ee0edda4-12cf-4353-9dc3-472292579687\" data-root-id=\"3126\"></div>\n"
      ]
     },
     "metadata": {},
     "output_type": "display_data"
    },
    {
     "data": {
      "application/javascript": [
       "(function(root) {\n",
       "  function embed_document(root) {\n",
       "    \n",
       "  var docs_json = {\"4e0b97d5-c60b-422c-a991-e70ca5bec2bc\":{\"defs\":[{\"extends\":null,\"module\":null,\"name\":\"DataModel\",\"overrides\":[],\"properties\":[]}],\"roots\":{\"references\":[{\"attributes\":{\"below\":[{\"id\":\"3135\"}],\"center\":[{\"id\":\"3138\"},{\"id\":\"3142\"},{\"id\":\"3173\"}],\"frame_height\":250,\"frame_width\":450,\"left\":[{\"id\":\"3139\"}],\"renderers\":[{\"id\":\"3160\"},{\"id\":\"3178\"},{\"id\":\"3197\"}],\"title\":{\"id\":\"3163\"},\"toolbar\":{\"id\":\"3150\"},\"x_range\":{\"id\":\"3127\"},\"x_scale\":{\"id\":\"3131\"},\"y_range\":{\"id\":\"3129\"},\"y_scale\":{\"id\":\"3133\"}},\"id\":\"3126\",\"subtype\":\"Figure\",\"type\":\"Plot\"},{\"attributes\":{\"overlay\":{\"id\":\"3149\"}},\"id\":\"3145\",\"type\":\"BoxZoomTool\"},{\"attributes\":{\"source\":{\"id\":\"3157\"}},\"id\":\"3161\",\"type\":\"CDSView\"},{\"attributes\":{},\"id\":\"3127\",\"type\":\"DataRange1d\"},{\"attributes\":{},\"id\":\"3129\",\"type\":\"DataRange1d\"},{\"attributes\":{},\"id\":\"3147\",\"type\":\"ResetTool\"},{\"attributes\":{\"data_source\":{\"id\":\"3157\"},\"glyph\":{\"id\":\"3158\"},\"hover_glyph\":null,\"muted_glyph\":null,\"nonselection_glyph\":{\"id\":\"3159\"},\"view\":{\"id\":\"3161\"}},\"id\":\"3160\",\"type\":\"GlyphRenderer\"},{\"attributes\":{\"items\":[{\"id\":\"3174\"},{\"id\":\"3193\"},{\"id\":\"3214\"}]},\"id\":\"3173\",\"type\":\"Legend\"},{\"attributes\":{},\"id\":\"3146\",\"type\":\"SaveTool\"},{\"attributes\":{},\"id\":\"3140\",\"type\":\"BasicTicker\"},{\"attributes\":{\"data\":{\"x\":{\"__ndarray__\":\"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\",\"dtype\":\"float64\",\"order\":\"little\",\"shape\":[600]},\"y\":{\"__ndarray__\":\"AAAAAAAAAADrMdHhe7KiP5Xii1LmtLI/RrtDFMzauz8zzGahWljCP2k7lQwYk8Y/8X881MKUyj+tz/rIyU3OP6Uc7XcNztA/qq/Znooa0j+/RGCQpNPSPygOJmiT9tI/vW5+5jPz0j9d99TBh1PTP0x7TADxSNQ/ZHywAdOc1T+zF/kHlhXXP9KHZN0Cltg/DnfFHRkR2j/SRXpzhoDbP+u+6pNB4Nw/482k4hss3j9W6mGHNF3fP2Jp9jSkMuA/bQYyZBCT4D9Ykc76PbjgP4QnZMurnOA/Htgl0MJt4D+URC6+a2rgP2nw0innqOA/MWzZ0cMS4T9HkuguYI/hPwnoS/2lEeI/U87Tv4aT4j9IQd0a+hHjP5Htkn8Li+M/whFKJ8P84z9dpM3kC2TkPy4tujbDuuQ/V4s6XUL05D/48Qu7bfzkP9pfQuLny+Q/I3ukEJqH5D8B3qjKgGjkPx5BIGg7hOQ/TgZjEW3I5D+FttkZYx/lP+LKi2kOfeU/Yw6HyKzb5T+tFj63TDjmP1QFPH8GkeY/ga1nbfrj5j8nLS20Uy7nP5zP3KOZauc/QmRC87SN5z/9pfP9wIXnP47cy1hBSuc/roN2bQ/65j82rr8X/cnmPw4OsYRC0OY/60FkEIn95j+mvDVG1T3nPxVE95uYhec/uhjpqC3P5z/o+0y9qBfoP1bL3JQmXeg/InUkHtWd6D9Ir0lOBtfoP3VVbaykA+k/1dAN8XIZ6T8goEH6lAfpP8i4cjFmxOg/e+CQospq6D8p7KriwC3oPyg4j81AJeg/8US6iwJE6D/Y9cywl3boP7FyBOtjseg/bS/n/6fu6D+wN+ZfaCvpP4ijmPW6Zek/lc1vq8+b6T+YybCyB8vpP0AgnX917uk//J5OkSD86T/AByqdJePpPwt4tGdFmOk/xihUJxY06T/8mD+aPuroPwrjNjTX1eg/FTOZMOrq6D9lxdiAaRXpP/unYBMNSek/pCnHbLx/6T/5tshUUrbpP7yQTXHQ6uk//ZFfZFwb6j8mapb4UEXqP9ILmY20Y+o/cjnKkVBs6j/0t9M6NE3qP6ne9pLN+Ok/ZgfqhLqG6T9k3USTvi3pP4Uc0l/ZDek/ZwIzn/wb6T8AKOe3NELpP9I8V2XRcuk/W2sHSRSn6T8qzMSij9vpP75du8YhDuo/MLExf9k86j9al2kH92TqP+YBWN9Egeo/6e7aLtKG6j+pIhP0kGHqP/OvBOO2AOo/hy7qiSd86T/2Y/+d7Q/pP9KH4Asi4+g/+945gcPr6D/hPpCJhhDpP5/YTMFlQek/Cf6qGJ526T8AL5JMVKzpPwLteGIy4Ok/sOjuuSMQ6j/YEKZJOznqP2f0K6PbVeo/0QDQwt9Z6j/vk8xa/C3qP2d8jwVOvek/Zj7bZYYh6T+4Bb42KZ3oP+6YKGefYOg/4T9VRzdk6D/xl+Aix4noP+HK+YnHveg/Xkhxzvn26D8tSJw66jDpP09Cmxr8aOk/Pjuqf+uc6T9oXkUwjsnpP0x8o+O36Ok/PIFUYZzs6T+VfggXmLnpP+hxGwFKNuk/YYHW4Y+A6D+peBykY+DnP85Ea+FukOc/Q2z9n5qO5z+BR6HAvLbnPx2QtUxi8Oc/a1m7UkMw6D+wR/0BI3HoPwkhAXwLsOg/Cm88h3/q6D8CEdzbCx3pP3aJ4WzaQOk/AfHfmB9G6T/NN6uFBgzpPz5mNYlrdeg//oPRrdyn5z/ELhCvn+zmP0tBkkEahuY/Osd/x6h95j8Q1BgibanmP+EiADKW6uY/Y8MnHToz5z+GE1l+In3nPxJVEA/wxOc/vAeQTOYH6D/TZPnORULoP/Bu7SyIbOg/ZzbJGsV06D/1M7SivTToP+Ky1Uaejec/9OKTXEOw5j+OpEq1N+HlP8LQzRCuY+U/aOFxyv1S5T9KAfKMdYLlPylmSUvky+U/AvcMIjwe5j/HI7+UJ3LmP4kc/Z/Uw+Y/HL7LyEcQ5z8iKqr7fVPnP6Ge2WpZhec/Kyhg/heS5z/jSU9zx07nP53er8QwneY/K3POaay65T+ME78SEuPkP+KGP5hRUuQ/zt102WA45D/7UYFUv2rkP2OIWIbsu+Q/el8z1YIX5T8sTIn8A3XlP2Yqz8Mt0OU/x+4I+M4l5j9BkVrhtnHmPxq3mIptq+Y/p7cTEA++5j/PiqsLnXvmP/lhPkP7xuU/RlwWBQ/n5D/rbMcWERDkPzPkjHUrc+M/G2nnnfFQ4z9OIwOEPYXjP3HsK5223OM/MC3z+PM/5D8Q224JcKXkP+mG9IOLCOU/SgJD+vFl5T/neMf/ZrnlP5JifzVz+uU/mvSHWScU5j8RNw6hyNflP3Z6tJM1J+U/s0bow3JM5D9cuS3rk3njP8lMdkkP2OI/ABPHhvyw4j/FeQGsxebiP8hUJFy/QuM/D2uzH3Cr4z+g61gNnhbkP5nT2Slwf+Q/Zg6ojYji5D8ak9h7xjvlP7qaEuIWg+U/k/vuDLCk5T+M3HYlsXPlP36XwUf0zeQ/LcqW9BT44z9SXFrrvCjjP4/g5lzniOI/Lcr7yPhh4j+nN4SHXJniP/YbaTz09+I/7JfZCZxj4z9H2VeX29HjP1/fN9jNPeQ/ktyxJCek5D9TvhwVBgHlPyOY8sEOTeU/vOIQTpR25T9LRj/o+FTlP+cUFC0tweQ/LQZc/nbx4z8wfNX2NCXjP814SK+GjOI/k7ovOYJq4j+bZMM6cqPiPx7Bn3OBAuM/pauunVpu4z9WOnkbwtzjP5zxgejzSOQ/mqthOs6v5D+qDf1Ixw3lP7OF6t5pXOU/yGWNw6eM5T+kOaH5zXvlP5KC9BN2AOU//4rp/6w85D/QMEc41XbjPxsYnDuI6uI/EHChyUXQ4j8dzkpGtgnjP2XSeRCVZuM/F6wG7YHP4z+MlXb93jrkP5dKEmcrpOQ/yieSR34I5T+PY+cmr2TlPzzHd/s3s+U/1bAiQ7Dn5T/6dWTmy+XlP5Q9zr4WhuU/eaHzkvjW5D+FMoF/vR7kP9B00nvkouM/N1pBNXWQ4z/KcprON8jjPz9PQpnpH+Q/v6aG+LmC5D9LVSRL3efkP+MfyaknS+U/T2L4Lu6p5T9q0lldZgHmP+67mozkTOY/5hK9KVWC5j+h8d63QIvmP2MakmxBReY/qF95gwyx5T/ZCWc+Ug3lP++d47kXo+Q/OezfAEOW5D+oL3kKwcnkP4Cple6nGeU/S4aiSsZz5T9T4jBsK9DlP7l6ZRACK+Y/cvDq+9mB5j+rBfHPOtLmPxAF2XQuGOc/91BPDIBL5z+VQo4oZlrnP+YzoItVKOc/8kZs/e6u5j+GMBvFyCHmPz0DuSvsxuU/YUP3Z4u85T/ii9PVv+nlPyF019FXMOY/8xSZ5W6A5j+doBvs1tLmP49XpSwHJOc/vmlx+MBx5z8DNHUpzrnnP9kV+23F+Oc/+isglNcn6D9SBnYQrDjoP7d+d8nAE+g/ArFo1uGv5z89NqvxEzbnP/KKnAUl5uY/O9NwBFHb5j/FGt5zRwHnPzIGO+FgPuc/IMgxiYGE5z+dnI8fEs3nP/PLsq7EFOg/sPE0FIBZ6D+48mFuP5noPzs45hIA0eg/Gajr6u766D/bEZKwDwvpP9uVJxOH7eg/xFfEzyOY6D+/YuC9pyvoP0J+/B2h4ec/UuibSCbU5z9FDlA13/LnP2D7abpXJ+g/SN33Q6Zk6D/Z5wdglaToPwfipyj84+g/IN3pttkg6T/wATZdSlnpPxzmWL2Qiuk/WvP85X+v6T9/jyX+mr3pPz5yH/VPo+k/komh5dxV6T9ahD3qLvDoPx8EVOlQp+g/bvj9C5CV6D+LOa6Qna3oPzgsHr3r2ug/+m1eaCkR6T8Rm4T7SErpP4eDKr8ug+k/PafAAOS56T/FmiRHl+zpP10MJk60GOo/NgSeCW856j9ANYI2HUXqPxAGv75FK+o/OJlocVXg6T+br7NyXHvpP/PJGPw8L+k/OGdw1c4X6T+a933n8inpPwmXcwjIUek/l/8FJPiC6T/v9d/AXrfpP8XZGtPS6+k/UxX6VFke6j9vEm3kJE3qP+hz2hmydeo/otbuuFyT6j+BEVdLwZzqPx/z9Cp0geo/RcIhrHY06j9c0BXQdcrpP0dvMPWmduk/Cmimd/hX6T++ni694GTpPwdEzqD1iOk/gXB6+i+36T+G2l3eDenpP6RDZTY7G+o/7WfvP6lL6j8YAh9mgXjqP2EnME87n+o/mitemSm76j9cF1TYtMLqP04/wPOBpOo/N0Xs7FFR6j+ws96WkNzpP59xtgE0fOk/O2X9+ypU6T+ZCbZDR1zpP9bQb7FKfuk/9alL27Gr6T9ahacQSd3pP7sc9T9vD+o/lj00LfE/6j9aNsvY4WzqP+TWMUygk+o/Lho5m0mv6j9s4GFMn7XqP8w6wwpUk+o/fcYFkuY16j8LUfX0jLDpP1AGaEskPuk/UB3y/NgJ6T+t53EUPQ3pPyzhfnvSLuk/ccUh75pd6T+sb1WUSJHpP5558g/Fxek/CDoZSqb46T+nLY7m2yfqP8MLWlyaUOo/qZzNNaBt6j+63i5mmHPqP+/GrpIyTOo/bOBiHKfg6T/tHTVlU0XpP8T0615Eu+g/7Wt5n+126D8BY8kSNHXoPxUETr7sl+g/lhMRSFzK6D957jKPmALpP7wN4IzmO+k/JJWMcpFz6T81hmFKWafpP8VjFIg41Ok/WDrlj2v06T974KvsHvvpP9CDQ2vyzek/8RYeizlR6T/E4FUdx5zoP4JUPAg09+c/A0hdsJqe5z9xBwNywpbnP0rmnLLzu+c/MaHrgTf05z9I0OAdazPoP7fkbDT5c+g/8PjqFc6y6D9fAb2/b+3oP6zHRJyTIOk/mQOBKNtF6T90PPzFpE7pP5aRTrevG+k/LvJAKc2M6D+2QpGe68DnP75+B/HMAOc/H5ZZH7aQ5j8X6AOzGoHmP7KdTtiHqeY//u0B9krp5j9+l6IyYDHnP6GyURcie+c/bKjzQwzD5z/xi3IFZAboP6eZUFuWQeg/P/oSKaRt6D/qHqy2A3roP6Y9aIZVQug/ch94a5mj5z80/9IC0sfmPwgnX27T9OU/Mft3oj9t5T8NHHF+AVTlP5TZ7SSIf+U/E0giNG7H5T/4/MS4PhnmP1XR3hEabeY/Ad3cTwC/5j+TY63M9QvnP0RcDZcmUOc/b/XckwmE5z9Fse7iapXnP9QqbXhwW+c/Y8yk32ey5j/H9kCX/9DlP+2z2jOT9uQ/iMIjUxNc5D++IW7NPTjkP01uNpb5ZeQ/O+CIK2y15D+7scZndhDlP2ch4jDybeU/6jIMF2bJ5T+uSaDrnR/mP3vnrRiZbOY/+cUXHHyo5j9xuri8D8DmPzfWqs6Uh+Y/NlBthnTb5T+wGZGjJvzkP199mwBDI+Q/Yb6IJXB94z9P+TuSUlDjP3KgtjtYf+M/TMnvzeTU4z+GpDSejDfkP2qe3ZYHneQ/ZYNoYXYA5T+0bBdufl7lP2WvCPARs+U//4sRLVX25T8p4/DPCRXmP7F4BxjQ4uU/hedqSN465T8pyF+nj2DkP6DCfsdFjOM/xDlVDJji4j/S3I3dHrDiP8jo1Hsy4OI/ioggphs64z+pJP8kL6LjP1dJ3mZdDeQ/3fVMyoZ25D+2ttgCRNrkP4PkLe2eNOU/qCskZBZ+5T+EGMfMeKTlP8vFon5QfeU/d5uuL6rg5D97SYHSoQvkPxoI/qvpOuM/k0WkYDOT4j/1a8901mDiP/PyGG5jkuI/FhwxVN7u4j+9elZ55lnjPw+JFMwmyOM/NB4AgXA05D9YFqC/a5vkP+DNJvBb+eQ/hZorFWZH5T9qEW64RHXlP2KCvs23XOU/19ZUdpDS5D/sMfpXrQTkP2lahBbNNuM/wFXZaguW4j+IjoKgAGniP4wY1uRKnOI/56kN9Er54j9UQfCIiGTjP3XR2T/x0uM/09qX9Xc/5D/3fCS27KbkP28i9urjBeU/Hl2frVRW5T9MpvxZW4rlP5xU+hFrgeU/dUue/98P5T8aWj6WRk/kP5/cJy2Ih+M/KbWxkNvy4j9eS3XaYc7iPxOGSEWdAuM/hVVCKY5d4z+6ScMG6MXjPxcZxkpGMeQ/WjRwqOKa5D/s3vAQxf/kP9Kjb9fcXOU/Rv5mzPus5T+JjUWipuTlPwGh/kBg6eU/RXOQZ+yS5T91vX6BN+jkP7tpWLoFLuQ/l5KRPd2p4z+9i+A/U47jPwvfiVdyweM/F4/whGEX5D9pV1fVqHnkP5CMVgDM3uQ/4B0EJ19C5T9dJ4n2p6HlPy5SfULu+eU/vYDsPMxG5j9BCE4J537mPyvXCQc3jeY/bOrZl15P5j/lWZb9NsDlP43e6E3IGuU/\",\"dtype\":\"float64\",\"order\":\"little\",\"shape\":[600]}},\"selected\":{\"id\":\"3171\"},\"selection_policy\":{\"id\":\"3170\"}},\"id\":\"3157\",\"type\":\"ColumnDataSource\"},{\"attributes\":{\"axis_label\":\"dimensionless y, z\",\"formatter\":{\"id\":\"3165\"},\"major_label_policy\":{\"id\":\"3166\"},\"ticker\":{\"id\":\"3140\"}},\"id\":\"3139\",\"type\":\"LinearAxis\"},{\"attributes\":{\"label\":{\"value\":\"y\"},\"renderers\":[{\"id\":\"3160\"}]},\"id\":\"3174\",\"type\":\"LegendItem\"},{\"attributes\":{\"line_alpha\":0.2,\"line_color\":\"#2ba02b\",\"line_width\":2,\"x\":{\"field\":\"x\"},\"y\":{\"field\":\"y\"}},\"id\":\"3195\",\"type\":\"Line\"},{\"attributes\":{\"axis\":{\"id\":\"3139\"},\"dimension\":1,\"ticker\":null},\"id\":\"3142\",\"type\":\"Grid\"},{\"attributes\":{},\"id\":\"3163\",\"type\":\"Title\"},{\"attributes\":{},\"id\":\"3133\",\"type\":\"LinearScale\"},{\"attributes\":{\"data\":{\"x\":{\"__ndarray__\":\"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\",\"dtype\":\"float64\",\"order\":\"little\",\"shape\":[600]},\"y\":{\"__ndarray__\":\"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\",\"dtype\":\"float64\",\"order\":\"little\",\"shape\":[600]}},\"selected\":{\"id\":\"3212\"},\"selection_policy\":{\"id\":\"3211\"}},\"id\":\"3194\",\"type\":\"ColumnDataSource\"},{\"attributes\":{},\"id\":\"3148\",\"type\":\"HelpTool\"},{\"attributes\":{\"data_source\":{\"id\":\"3194\"},\"glyph\":{\"id\":\"3195\"},\"hover_glyph\":null,\"muted_glyph\":null,\"nonselection_glyph\":{\"id\":\"3196\"},\"view\":{\"id\":\"3198\"}},\"id\":\"3197\",\"type\":\"GlyphRenderer\"},{\"attributes\":{\"bottom_units\":\"screen\",\"fill_alpha\":0.5,\"fill_color\":\"lightgrey\",\"left_units\":\"screen\",\"level\":\"overlay\",\"line_alpha\":1.0,\"line_color\":\"black\",\"line_dash\":[4,4],\"line_width\":2,\"right_units\":\"screen\",\"syncable\":false,\"top_units\":\"screen\"},\"id\":\"3149\",\"type\":\"BoxAnnotation\"},{\"attributes\":{},\"id\":\"3165\",\"type\":\"BasicTickFormatter\"},{\"attributes\":{\"line_alpha\":0.1,\"line_color\":\"#2ba02b\",\"line_width\":2,\"x\":{\"field\":\"x\"},\"y\":{\"field\":\"y\"}},\"id\":\"3196\",\"type\":\"Line\"},{\"attributes\":{\"line_alpha\":0.1,\"line_color\":\"#ff7e0e\",\"line_width\":2,\"x\":{\"field\":\"x\"},\"y\":{\"field\":\"y\"}},\"id\":\"3177\",\"type\":\"Line\"},{\"attributes\":{},\"id\":\"3166\",\"type\":\"AllLabels\"},{\"attributes\":{\"line_color\":\"#1f77b3\",\"line_width\":2,\"x\":{\"field\":\"x\"},\"y\":{\"field\":\"y\"}},\"id\":\"3158\",\"type\":\"Line\"},{\"attributes\":{\"label\":{\"value\":\"x (normalized)\"},\"renderers\":[{\"id\":\"3197\"}]},\"id\":\"3214\",\"type\":\"LegendItem\"},{\"attributes\":{\"data_source\":{\"id\":\"3175\"},\"glyph\":{\"id\":\"3176\"},\"hover_glyph\":null,\"muted_glyph\":null,\"nonselection_glyph\":{\"id\":\"3177\"},\"view\":{\"id\":\"3179\"}},\"id\":\"3178\",\"type\":\"GlyphRenderer\"},{\"attributes\":{},\"id\":\"3168\",\"type\":\"BasicTickFormatter\"},{\"attributes\":{\"data\":{\"x\":{\"__ndarray__\":\"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\",\"dtype\":\"float64\",\"order\":\"little\",\"shape\":[600]},\"y\":{\"__ndarray__\":\"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\",\"dtype\":\"float64\",\"order\":\"little\",\"shape\":[600]}},\"selected\":{\"id\":\"3191\"},\"selection_policy\":{\"id\":\"3190\"}},\"id\":\"3175\",\"type\":\"ColumnDataSource\"},{\"attributes\":{\"source\":{\"id\":\"3175\"}},\"id\":\"3179\",\"type\":\"CDSView\"},{\"attributes\":{\"source\":{\"id\":\"3194\"}},\"id\":\"3198\",\"type\":\"CDSView\"},{\"attributes\":{},\"id\":\"3211\",\"type\":\"UnionRenderers\"},{\"attributes\":{},\"id\":\"3136\",\"type\":\"BasicTicker\"},{\"attributes\":{},\"id\":\"3169\",\"type\":\"AllLabels\"},{\"attributes\":{\"label\":{\"value\":\"z\"},\"renderers\":[{\"id\":\"3178\"}]},\"id\":\"3193\",\"type\":\"LegendItem\"},{\"attributes\":{},\"id\":\"3212\",\"type\":\"Selection\"},{\"attributes\":{\"line_color\":\"#ff7e0e\",\"line_width\":2,\"x\":{\"field\":\"x\"},\"y\":{\"field\":\"y\"}},\"id\":\"3176\",\"type\":\"Line\"},{\"attributes\":{},\"id\":\"3144\",\"type\":\"WheelZoomTool\"},{\"attributes\":{\"axis\":{\"id\":\"3135\"},\"ticker\":null},\"id\":\"3138\",\"type\":\"Grid\"},{\"attributes\":{},\"id\":\"3170\",\"type\":\"UnionRenderers\"},{\"attributes\":{},\"id\":\"3190\",\"type\":\"UnionRenderers\"},{\"attributes\":{\"axis_label\":\"dimensionless time\",\"formatter\":{\"id\":\"3168\"},\"major_label_policy\":{\"id\":\"3169\"},\"ticker\":{\"id\":\"3136\"}},\"id\":\"3135\",\"type\":\"LinearAxis\"},{\"attributes\":{},\"id\":\"3171\",\"type\":\"Selection\"},{\"attributes\":{\"line_alpha\":0.1,\"line_color\":\"#1f77b3\",\"line_width\":2,\"x\":{\"field\":\"x\"},\"y\":{\"field\":\"y\"}},\"id\":\"3159\",\"type\":\"Line\"},{\"attributes\":{},\"id\":\"3191\",\"type\":\"Selection\"},{\"attributes\":{},\"id\":\"3143\",\"type\":\"PanTool\"},{\"attributes\":{\"active_multi\":null,\"tools\":[{\"id\":\"3143\"},{\"id\":\"3144\"},{\"id\":\"3145\"},{\"id\":\"3146\"},{\"id\":\"3147\"},{\"id\":\"3148\"}]},\"id\":\"3150\",\"type\":\"Toolbar\"},{\"attributes\":{},\"id\":\"3131\",\"type\":\"LinearScale\"}],\"root_ids\":[\"3126\"]},\"title\":\"Bokeh Application\",\"version\":\"2.3.0\"}};\n",
       "  var render_items = [{\"docid\":\"4e0b97d5-c60b-422c-a991-e70ca5bec2bc\",\"root_ids\":[\"3126\"],\"roots\":{\"3126\":\"ee0edda4-12cf-4353-9dc3-472292579687\"}}];\n",
       "  root.Bokeh.embed.embed_items_notebook(docs_json, render_items);\n",
       "\n",
       "  }\n",
       "  if (root.Bokeh !== undefined) {\n",
       "    embed_document(root);\n",
       "  } else {\n",
       "    var attempts = 0;\n",
       "    var timer = setInterval(function(root) {\n",
       "      if (root.Bokeh !== undefined) {\n",
       "        clearInterval(timer);\n",
       "        embed_document(root);\n",
       "      } else {\n",
       "        attempts++;\n",
       "        if (attempts > 100) {\n",
       "          clearInterval(timer);\n",
       "          console.log(\"Bokeh: ERROR: Unable to run BokehJS code because BokehJS library is missing\");\n",
       "        }\n",
       "      }\n",
       "    }, 10, root)\n",
       "  }\n",
       "})(window);"
      ],
      "application/vnd.bokehjs_exec.v0+json": ""
     },
     "metadata": {
      "application/vnd.bokehjs_exec.v0+json": {
       "id": "3126"
      }
     },
     "output_type": "display_data"
    }
   ],
   "source": [
    "# Set up parameters for periodic forcing with f = 5 and x_0 = 2.\n",
    "x_args = ((0.5, 10.0), (0.5, 2.0))\n",
    "\n",
    "# Package parameters into a tuple\n",
    "args = (beta, gamma, n_x, 10, x_periodic, x_args)\n",
    "\n",
    "# Time points\n",
    "t = np.linspace(0, 25, 600)\n",
    "\n",
    "# Initial condition\n",
    "yz_0 = np.array([0.0, 0.0])\n",
    "\n",
    "# Integrate ODES\n",
    "yz = scipy.integrate.odeint(cascade_rhs_x_fun, yz_0, t, args=args)\n",
    "\n",
    "# Pluck out y and z\n",
    "y, z = yz.transpose()\n",
    "\n",
    "# x\n",
    "x = x_periodic(t, *x_args)\n",
    "x /= x.max()\n",
    "\n",
    "# Plot the results\n",
    "p = bokeh.plotting.figure(\n",
    "    frame_width=450,\n",
    "    frame_height=250,\n",
    "    x_axis_label=\"dimensionless time\",\n",
    "    y_axis_label=\"dimensionless y, z\",\n",
    ")\n",
    "\n",
    "# Populate glyphs\n",
    "p.line(\n",
    "    t, y, line_width=2, color=colors[0], legend_label=\"y\", line_join=\"bevel\"\n",
    ")\n",
    "p.line(\n",
    "    t, z, line_width=2, color=colors[1], legend_label=\"z\", line_join=\"bevel\"\n",
    ")\n",
    "p.line(\n",
    "    t,\n",
    "    x,\n",
    "    line_width=2,\n",
    "    color=colors[2],\n",
    "    alpha=0.2,\n",
    "    legend_label=\"x (normalized)\",\n",
    "    line_join=\"bevel\",\n",
    ")\n",
    "\n",
    "# Place the legend\n",
    "p.legend.location = \"top_right\"\n",
    "\n",
    "# Show plot\n",
    "bokeh.io.show(p)"
   ]
  },
  {
   "cell_type": "markdown",
   "metadata": {},
   "source": [
    "Even though the high frequency part of the forcing has a bigger amplitude, the signal in *z* responds predominantly to the low frequency part of the signal."
   ]
  },
  {
   "cell_type": "markdown",
   "metadata": {},
   "source": [
    "## A challenge\n",
    "\n",
    "In the above analysis of periodic forcing, I made a fresh plot each time of the response to an oscillating input so that the plots would display nicely in the HTML rendered version of this notebook. Can you make the sample plot(s) by making a single interactive plot?"
   ]
  },
  {
   "cell_type": "markdown",
   "metadata": {},
   "source": [
    "## Computing environment"
   ]
  },
  {
   "cell_type": "code",
   "execution_count": 30,
   "metadata": {},
   "outputs": [
    {
     "name": "stdout",
     "output_type": "stream",
     "text": [
      "Python implementation: CPython\n",
      "Python version       : 3.8.8\n",
      "IPython version      : 7.21.0\n",
      "\n",
      "numpy     : 1.19.2\n",
      "scipy     : 1.6.2\n",
      "bokeh     : 2.3.0\n",
      "panel     : 0.10.3\n",
      "colorcet  : 2.0.6\n",
      "jupyterlab: 3.0.11\n",
      "\n"
     ]
    }
   ],
   "source": [
    "%load_ext watermark\n",
    "%watermark -v -p numpy,scipy,bokeh,panel,colorcet,jupyterlab"
   ]
  }
 ],
 "metadata": {
  "kernelspec": {
   "display_name": "Python 3",
   "language": "python",
   "name": "python3"
  },
  "language_info": {
   "codemirror_mode": {
    "name": "ipython",
    "version": 3
   },
   "file_extension": ".py",
   "mimetype": "text/x-python",
   "name": "python",
   "nbconvert_exporter": "python",
   "pygments_lexer": "ipython3",
   "version": "3.8.8"
  }
 },
 "nbformat": 4,
 "nbformat_minor": 4
}
