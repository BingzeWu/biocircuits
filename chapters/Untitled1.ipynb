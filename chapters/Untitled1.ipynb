{
 "cells": [
  {
   "cell_type": "markdown",
   "id": "b551674c-2f82-4f69-8450-e9860292d0a9",
   "metadata": {},
   "source": [
    "<div style=\"margin: auto; width: 350px;\">\n",
    "\n",
    "<video src=\"figs/MF2BifurcationMovieSymmetricOnly.mov\" style=\"width: 350px;\" controls>Your browser does not support display of this video.</video>\n",
    "\n",
    "</div>"
   ]
  },
  {
   "cell_type": "code",
   "execution_count": null,
   "id": "6387204b-1c91-4b5e-b519-7847bcde3b44",
   "metadata": {},
   "outputs": [],
   "source": []
  }
 ],
 "metadata": {
  "kernelspec": {
   "display_name": "Python 3 (ipykernel)",
   "language": "python",
   "name": "python3"
  },
  "language_info": {
   "codemirror_mode": {
    "name": "ipython",
    "version": 3
   },
   "file_extension": ".py",
   "mimetype": "text/x-python",
   "name": "python",
   "nbconvert_exporter": "python",
   "pygments_lexer": "ipython3",
   "version": "3.9.12"
  }
 },
 "nbformat": 4,
 "nbformat_minor": 5
}
